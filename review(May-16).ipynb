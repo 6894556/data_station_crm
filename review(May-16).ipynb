{
 "cells": [
  {
   "cell_type": "code",
   "execution_count": 1,
   "id": "055b6300",
   "metadata": {},
   "outputs": [],
   "source": [
    "import pandas as pd"
   ]
  },
  {
   "cell_type": "code",
   "execution_count": 2,
   "id": "8cf047d5",
   "metadata": {},
   "outputs": [],
   "source": [
    "df1 = pd.read_csv(\"04_store_member.csv\")"
   ]
  },
  {
   "cell_type": "code",
   "execution_count": 3,
   "id": "42b171e7",
   "metadata": {},
   "outputs": [],
   "source": [
    "df2 = pd.read_csv(\"04_store_product_1.csv\")"
   ]
  },
  {
   "cell_type": "code",
   "execution_count": 4,
   "id": "9f5a937d",
   "metadata": {},
   "outputs": [
    {
     "data": {
      "text/html": [
       "<div>\n",
       "<style scoped>\n",
       "    .dataframe tbody tr th:only-of-type {\n",
       "        vertical-align: middle;\n",
       "    }\n",
       "\n",
       "    .dataframe tbody tr th {\n",
       "        vertical-align: top;\n",
       "    }\n",
       "\n",
       "    .dataframe thead th {\n",
       "        text-align: right;\n",
       "    }\n",
       "</style>\n",
       "<table border=\"1\" class=\"dataframe\">\n",
       "  <thead>\n",
       "    <tr style=\"text-align: right;\">\n",
       "      <th></th>\n",
       "      <th>회원번호</th>\n",
       "      <th>회원상태</th>\n",
       "      <th>성별</th>\n",
       "      <th>결혼유무</th>\n",
       "      <th>주소</th>\n",
       "      <th>생년</th>\n",
       "    </tr>\n",
       "  </thead>\n",
       "  <tbody>\n",
       "    <tr>\n",
       "      <th>0</th>\n",
       "      <td>2101</td>\n",
       "      <td>정상회원</td>\n",
       "      <td>여</td>\n",
       "      <td>기혼</td>\n",
       "      <td>서울 강북구 미아동 134-</td>\n",
       "      <td>1967.0</td>\n",
       "    </tr>\n",
       "    <tr>\n",
       "      <th>1</th>\n",
       "      <td>2102</td>\n",
       "      <td>정상회원</td>\n",
       "      <td>여</td>\n",
       "      <td>NaN</td>\n",
       "      <td>경기 용인시 수지구 동천동</td>\n",
       "      <td>1947.0</td>\n",
       "    </tr>\n",
       "    <tr>\n",
       "      <th>2</th>\n",
       "      <td>2103</td>\n",
       "      <td>정상회원</td>\n",
       "      <td>여</td>\n",
       "      <td>기혼</td>\n",
       "      <td>경기 용인시 수지구 동천동</td>\n",
       "      <td>1972.0</td>\n",
       "    </tr>\n",
       "    <tr>\n",
       "      <th>3</th>\n",
       "      <td>2104</td>\n",
       "      <td>정상회원</td>\n",
       "      <td>여</td>\n",
       "      <td>NaN</td>\n",
       "      <td>경기 용인시 수지구 성복동</td>\n",
       "      <td>1969.0</td>\n",
       "    </tr>\n",
       "    <tr>\n",
       "      <th>4</th>\n",
       "      <td>2105</td>\n",
       "      <td>정상회원</td>\n",
       "      <td>여</td>\n",
       "      <td>기혼</td>\n",
       "      <td>경기 용인시 수지구 동천동</td>\n",
       "      <td>1948.0</td>\n",
       "    </tr>\n",
       "  </tbody>\n",
       "</table>\n",
       "</div>"
      ],
      "text/plain": [
       "   회원번호  회원상태 성별 결혼유무               주소      생년\n",
       "0  2101  정상회원  여   기혼  서울 강북구 미아동 134-  1967.0\n",
       "1  2102  정상회원  여  NaN   경기 용인시 수지구 동천동  1947.0\n",
       "2  2103  정상회원  여   기혼   경기 용인시 수지구 동천동  1972.0\n",
       "3  2104  정상회원  여  NaN   경기 용인시 수지구 성복동  1969.0\n",
       "4  2105  정상회원  여   기혼   경기 용인시 수지구 동천동  1948.0"
      ]
     },
     "execution_count": 4,
     "metadata": {},
     "output_type": "execute_result"
    }
   ],
   "source": [
    "df1.head()"
   ]
  },
  {
   "cell_type": "code",
   "execution_count": 5,
   "id": "1e437e88",
   "metadata": {},
   "outputs": [
    {
     "data": {
      "text/html": [
       "<div>\n",
       "<style scoped>\n",
       "    .dataframe tbody tr th:only-of-type {\n",
       "        vertical-align: middle;\n",
       "    }\n",
       "\n",
       "    .dataframe tbody tr th {\n",
       "        vertical-align: top;\n",
       "    }\n",
       "\n",
       "    .dataframe thead th {\n",
       "        text-align: right;\n",
       "    }\n",
       "</style>\n",
       "<table border=\"1\" class=\"dataframe\">\n",
       "  <thead>\n",
       "    <tr style=\"text-align: right;\">\n",
       "      <th></th>\n",
       "      <th>공급일자</th>\n",
       "      <th>물품코드</th>\n",
       "      <th>물품대분류</th>\n",
       "      <th>물품중분류</th>\n",
       "      <th>물품소분류</th>\n",
       "      <th>물품명</th>\n",
       "      <th>구매수량</th>\n",
       "      <th>구매금액</th>\n",
       "      <th>구매매장</th>\n",
       "      <th>반품_원거래일자</th>\n",
       "      <th>회원번호</th>\n",
       "    </tr>\n",
       "  </thead>\n",
       "  <tbody>\n",
       "    <tr>\n",
       "      <th>0</th>\n",
       "      <td>20170201</td>\n",
       "      <td>50301001</td>\n",
       "      <td>채소</td>\n",
       "      <td>과일채소</td>\n",
       "      <td>딸기</td>\n",
       "      <td>딸기(1kg)</td>\n",
       "      <td>1.0</td>\n",
       "      <td>13600</td>\n",
       "      <td>매장1</td>\n",
       "      <td>NaN</td>\n",
       "      <td>2102</td>\n",
       "    </tr>\n",
       "    <tr>\n",
       "      <th>1</th>\n",
       "      <td>20170201</td>\n",
       "      <td>80201053</td>\n",
       "      <td>간식</td>\n",
       "      <td>떡</td>\n",
       "      <td>가래떡</td>\n",
       "      <td>현미가래떡(400g)</td>\n",
       "      <td>1.0</td>\n",
       "      <td>99999999</td>\n",
       "      <td>매장1</td>\n",
       "      <td>NaN</td>\n",
       "      <td>2102</td>\n",
       "    </tr>\n",
       "    <tr>\n",
       "      <th>2</th>\n",
       "      <td>20170201</td>\n",
       "      <td>110104033</td>\n",
       "      <td>음료</td>\n",
       "      <td>음료</td>\n",
       "      <td>음료기타</td>\n",
       "      <td>개복숭아감식초(700ml)</td>\n",
       "      <td>1.0</td>\n",
       "      <td>13000</td>\n",
       "      <td>매장1</td>\n",
       "      <td>NaN</td>\n",
       "      <td>2103</td>\n",
       "    </tr>\n",
       "    <tr>\n",
       "      <th>3</th>\n",
       "      <td>20170201</td>\n",
       "      <td>40203001</td>\n",
       "      <td>과실</td>\n",
       "      <td>견과</td>\n",
       "      <td>잣</td>\n",
       "      <td>잣(220g:1병)</td>\n",
       "      <td>1.0</td>\n",
       "      <td>14800</td>\n",
       "      <td>매장1</td>\n",
       "      <td>NaN</td>\n",
       "      <td>2105</td>\n",
       "    </tr>\n",
       "    <tr>\n",
       "      <th>4</th>\n",
       "      <td>20170201</td>\n",
       "      <td>50417002</td>\n",
       "      <td>채소</td>\n",
       "      <td>뿌리채소</td>\n",
       "      <td>우엉</td>\n",
       "      <td>우엉(300g)</td>\n",
       "      <td>1.0</td>\n",
       "      <td>3400</td>\n",
       "      <td>매장1</td>\n",
       "      <td>NaN</td>\n",
       "      <td>2105</td>\n",
       "    </tr>\n",
       "  </tbody>\n",
       "</table>\n",
       "</div>"
      ],
      "text/plain": [
       "       공급일자       물품코드 물품대분류 물품중분류 물품소분류             물품명  구매수량      구매금액 구매매장  \\\n",
       "0  20170201   50301001    채소  과일채소    딸기         딸기(1kg)   1.0     13600  매장1   \n",
       "1  20170201   80201053    간식     떡   가래떡     현미가래떡(400g)   1.0  99999999  매장1   \n",
       "2  20170201  110104033    음료    음료  음료기타  개복숭아감식초(700ml)   1.0     13000  매장1   \n",
       "3  20170201   40203001    과실    견과     잣      잣(220g:1병)   1.0     14800  매장1   \n",
       "4  20170201   50417002    채소  뿌리채소    우엉        우엉(300g)   1.0      3400  매장1   \n",
       "\n",
       "   반품_원거래일자  회원번호  \n",
       "0       NaN  2102  \n",
       "1       NaN  2102  \n",
       "2       NaN  2103  \n",
       "3       NaN  2105  \n",
       "4       NaN  2105  "
      ]
     },
     "execution_count": 5,
     "metadata": {},
     "output_type": "execute_result"
    }
   ],
   "source": [
    "df2.head()"
   ]
  },
  {
   "cell_type": "code",
   "execution_count": 6,
   "id": "eb12041e",
   "metadata": {},
   "outputs": [
    {
     "data": {
      "text/plain": [
       "Index(['회원번호'], dtype='object')"
      ]
     },
     "execution_count": 6,
     "metadata": {},
     "output_type": "execute_result"
    }
   ],
   "source": [
    "df1.columns.intersection(df2.columns)"
   ]
  },
  {
   "cell_type": "code",
   "execution_count": 9,
   "id": "3a77ae5b",
   "metadata": {},
   "outputs": [],
   "source": [
    "df3 = df2.pivot_table(index=\"회원번호\", values=[\"구매수량\", \"구매금액\"], aggfunc=\"sum\").reset_index()"
   ]
  },
  {
   "cell_type": "code",
   "execution_count": 10,
   "id": "ad3bd15e",
   "metadata": {},
   "outputs": [
    {
     "data": {
      "text/html": [
       "<div>\n",
       "<style scoped>\n",
       "    .dataframe tbody tr th:only-of-type {\n",
       "        vertical-align: middle;\n",
       "    }\n",
       "\n",
       "    .dataframe tbody tr th {\n",
       "        vertical-align: top;\n",
       "    }\n",
       "\n",
       "    .dataframe thead th {\n",
       "        text-align: right;\n",
       "    }\n",
       "</style>\n",
       "<table border=\"1\" class=\"dataframe\">\n",
       "  <thead>\n",
       "    <tr style=\"text-align: right;\">\n",
       "      <th></th>\n",
       "      <th>회원번호</th>\n",
       "      <th>구매금액</th>\n",
       "      <th>구매수량</th>\n",
       "    </tr>\n",
       "  </thead>\n",
       "  <tbody>\n",
       "    <tr>\n",
       "      <th>0</th>\n",
       "      <td>2102</td>\n",
       "      <td>102093159</td>\n",
       "      <td>472.5</td>\n",
       "    </tr>\n",
       "    <tr>\n",
       "      <th>1</th>\n",
       "      <td>2103</td>\n",
       "      <td>7904400</td>\n",
       "      <td>1586.4</td>\n",
       "    </tr>\n",
       "    <tr>\n",
       "      <th>2</th>\n",
       "      <td>2104</td>\n",
       "      <td>389040</td>\n",
       "      <td>112.0</td>\n",
       "    </tr>\n",
       "    <tr>\n",
       "      <th>3</th>\n",
       "      <td>2105</td>\n",
       "      <td>3067930</td>\n",
       "      <td>602.0</td>\n",
       "    </tr>\n",
       "    <tr>\n",
       "      <th>4</th>\n",
       "      <td>2106</td>\n",
       "      <td>54550</td>\n",
       "      <td>25.0</td>\n",
       "    </tr>\n",
       "    <tr>\n",
       "      <th>...</th>\n",
       "      <td>...</td>\n",
       "      <td>...</td>\n",
       "      <td>...</td>\n",
       "    </tr>\n",
       "    <tr>\n",
       "      <th>1378</th>\n",
       "      <td>6471</td>\n",
       "      <td>1600</td>\n",
       "      <td>1.0</td>\n",
       "    </tr>\n",
       "    <tr>\n",
       "      <th>1379</th>\n",
       "      <td>6474</td>\n",
       "      <td>709400</td>\n",
       "      <td>175.0</td>\n",
       "    </tr>\n",
       "    <tr>\n",
       "      <th>1380</th>\n",
       "      <td>6478</td>\n",
       "      <td>2600</td>\n",
       "      <td>1.0</td>\n",
       "    </tr>\n",
       "    <tr>\n",
       "      <th>1381</th>\n",
       "      <td>6489</td>\n",
       "      <td>22100</td>\n",
       "      <td>14.0</td>\n",
       "    </tr>\n",
       "    <tr>\n",
       "      <th>1382</th>\n",
       "      <td>6490</td>\n",
       "      <td>13400</td>\n",
       "      <td>2.0</td>\n",
       "    </tr>\n",
       "  </tbody>\n",
       "</table>\n",
       "<p>1383 rows × 3 columns</p>\n",
       "</div>"
      ],
      "text/plain": [
       "      회원번호       구매금액    구매수량\n",
       "0     2102  102093159   472.5\n",
       "1     2103    7904400  1586.4\n",
       "2     2104     389040   112.0\n",
       "3     2105    3067930   602.0\n",
       "4     2106      54550    25.0\n",
       "...    ...        ...     ...\n",
       "1378  6471       1600     1.0\n",
       "1379  6474     709400   175.0\n",
       "1380  6478       2600     1.0\n",
       "1381  6489      22100    14.0\n",
       "1382  6490      13400     2.0\n",
       "\n",
       "[1383 rows x 3 columns]"
      ]
     },
     "execution_count": 10,
     "metadata": {},
     "output_type": "execute_result"
    }
   ],
   "source": [
    "df3"
   ]
  },
  {
   "cell_type": "code",
   "execution_count": 13,
   "id": "da31ec28",
   "metadata": {},
   "outputs": [
    {
     "data": {
      "text/plain": [
       "회원번호      0\n",
       "회원상태      1\n",
       "성별        3\n",
       "결혼유무    947\n",
       "주소        0\n",
       "생년        3\n",
       "dtype: int64"
      ]
     },
     "execution_count": 13,
     "metadata": {},
     "output_type": "execute_result"
    }
   ],
   "source": [
    "df1.isnull().sum()"
   ]
  },
  {
   "cell_type": "code",
   "execution_count": 12,
   "id": "a1eb1f80",
   "metadata": {},
   "outputs": [
    {
     "data": {
      "text/plain": [
       "회원번호      0\n",
       "회원상태      0\n",
       "성별        1\n",
       "결혼유무    288\n",
       "주소        0\n",
       "생년        2\n",
       "구매금액      0\n",
       "구매수량      0\n",
       "dtype: int64"
      ]
     },
     "execution_count": 12,
     "metadata": {},
     "output_type": "execute_result"
    }
   ],
   "source": [
    "pd.merge(df1, df3, on=\"회원번호\", how=\"inner\").isnull().sum()"
   ]
  },
  {
   "cell_type": "code",
   "execution_count": 14,
   "id": "ec02dde2",
   "metadata": {},
   "outputs": [],
   "source": [
    "df4 = pd.merge(df1, df3, on=\"회원번호\", how=\"inner\")"
   ]
  },
  {
   "cell_type": "code",
   "execution_count": 18,
   "id": "7d8734b8",
   "metadata": {},
   "outputs": [],
   "source": [
    "# 연령 = 현재연도 - 고객생년\n",
    "df4[\"연령\"] = 2023 - df4[\"생년\"]"
   ]
  },
  {
   "cell_type": "code",
   "execution_count": 19,
   "id": "93d280f1",
   "metadata": {},
   "outputs": [],
   "source": [
    "import matplotlib as mpl\n",
    "mpl.rc(\"font\", family=\"Malgun Gothic\")\n",
    "import seaborn as sns\n",
    "import matplotlib.pyplot as plt"
   ]
  },
  {
   "cell_type": "code",
   "execution_count": 20,
   "id": "67deb477",
   "metadata": {},
   "outputs": [
    {
     "name": "stdout",
     "output_type": "stream",
     "text": [
      "<class 'pandas.core.frame.DataFrame'>\n",
      "Int64Index: 1383 entries, 0 to 1382\n",
      "Data columns (total 9 columns):\n",
      " #   Column  Non-Null Count  Dtype  \n",
      "---  ------  --------------  -----  \n",
      " 0   회원번호    1383 non-null   int64  \n",
      " 1   회원상태    1383 non-null   object \n",
      " 2   성별      1382 non-null   object \n",
      " 3   결혼유무    1095 non-null   object \n",
      " 4   주소      1383 non-null   object \n",
      " 5   생년      1381 non-null   float64\n",
      " 6   구매금액    1383 non-null   int64  \n",
      " 7   구매수량    1383 non-null   float64\n",
      " 8   연령      1381 non-null   float64\n",
      "dtypes: float64(3), int64(2), object(4)\n",
      "memory usage: 108.0+ KB\n"
     ]
    }
   ],
   "source": [
    "df4.info()"
   ]
  },
  {
   "cell_type": "code",
   "execution_count": 24,
   "id": "075a8966",
   "metadata": {},
   "outputs": [
    {
     "data": {
      "text/plain": [
       "여    1270\n",
       "남     112\n",
       "Name: 성별, dtype: int64"
      ]
     },
     "execution_count": 24,
     "metadata": {},
     "output_type": "execute_result"
    }
   ],
   "source": [
    "df4[\"성별\"].value_counts()"
   ]
  },
  {
   "cell_type": "code",
   "execution_count": 23,
   "id": "71f3de28",
   "metadata": {},
   "outputs": [
    {
     "data": {
      "text/plain": [
       "<Axes: xlabel='성별', ylabel='구매금액'>"
      ]
     },
     "execution_count": 23,
     "metadata": {},
     "output_type": "execute_result"
    },
    {
     "data": {
      "image/png": "[encoded data removed]",
      "text/plain": [
       "<Figure size 640x480 with 1 Axes>"
      ]
     },
     "metadata": {},
     "output_type": "display_data"
    }
   ],
   "source": [
    "sns.barplot(data=df4, x=\"성별\", y=\"구매금액\", errorbar=None, estimator=\"sum\")"
   ]
  },
  {
   "cell_type": "code",
   "execution_count": 27,
   "id": "66b57330",
   "metadata": {},
   "outputs": [
    {
     "data": {
      "text/plain": [
       "count      1381.00\n",
       "mean        -85.85\n",
       "std        5327.94\n",
       "min     -197914.00\n",
       "25%          45.00\n",
       "50%          52.00\n",
       "75%          61.00\n",
       "max        1830.00\n",
       "Name: 연령, dtype: float64"
      ]
     },
     "execution_count": 27,
     "metadata": {},
     "output_type": "execute_result"
    }
   ],
   "source": [
    "pd.options.display.float_format = \"{:.2f}\".format\n",
    "df4[\"연령\"].describe()"
   ]
  },
  {
   "cell_type": "code",
   "execution_count": 30,
   "id": "84c59a3e",
   "metadata": {},
   "outputs": [
    {
     "data": {
      "text/plain": [
       "<Axes: xlabel='연령', ylabel='구매수량'>"
      ]
     },
     "execution_count": 30,
     "metadata": {},
     "output_type": "execute_result"
    },
    {
     "data": {
      "image/png": "[encoded data removed]",
      "text/plain": [
       "<Figure size 640x480 with 1 Axes>"
      ]
     },
     "metadata": {},
     "output_type": "display_data"
    }
   ],
   "source": [
    "# 40-50대 고객의 구매력이 강하다.\n",
    "plt.xlim([25, 120])\n",
    "sns.scatterplot(data=df4, x=\"연령\", y=\"구매수량\", hue=\"성별\")"
   ]
  },
  {
   "cell_type": "code",
   "execution_count": null,
   "id": "06bcb3e6",
   "metadata": {},
   "outputs": [],
   "source": []
  }
 ],
 "metadata": {
  "kernelspec": {
   "display_name": "Python 3 (ipykernel)",
   "language": "python",
   "name": "python3"
  },
  "language_info": {
   "codemirror_mode": {
    "name": "ipython",
    "version": 3
   },
   "file_extension": ".py",
   "mimetype": "text/x-python",
   "name": "python",
   "nbconvert_exporter": "python",
   "pygments_lexer": "ipython3",
   "version": "3.10.9"
  }
 },
 "nbformat": 4,
 "nbformat_minor": 5
}
