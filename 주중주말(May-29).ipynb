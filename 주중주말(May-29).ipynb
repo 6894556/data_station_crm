{
 "cells": [
  {
   "cell_type": "code",
   "execution_count": 19,
   "id": "f1041eb7",
   "metadata": {},
   "outputs": [],
   "source": [
    "import pandas as pd\n",
    "import matplotlib as mpl\n",
    "mpl.rc(\"font\", family=\"Malgun Gothic\")\n",
    "import seaborn as sns"
   ]
  },
  {
   "cell_type": "code",
   "execution_count": 6,
   "id": "ed8d9aef",
   "metadata": {},
   "outputs": [],
   "source": [
    "df1 = pd.read_csv(\"dataset/03_Delivery.csv\", encoding=\"cp949\")"
   ]
  },
  {
   "cell_type": "code",
   "execution_count": 7,
   "id": "c9542ab6",
   "metadata": {},
   "outputs": [
    {
     "data": {
      "text/plain": [
       "Index(['결제수단', '배송번호', '배송시작일', '배송완료일', '상품구매금액', '상품번호', '수량', '주문경로',\n",
       "       '주문일'],\n",
       "      dtype='object')"
      ]
     },
     "execution_count": 7,
     "metadata": {},
     "output_type": "execute_result"
    }
   ],
   "source": [
    "df1.columns"
   ]
  },
  {
   "cell_type": "code",
   "execution_count": 16,
   "id": "b4d05e4e",
   "metadata": {},
   "outputs": [],
   "source": [
    "df1[\"주문일(dt)\"] = pd.to_datetime(df1['주문일'], format=\"%Y%m%d\")\n",
    "df1[\"주문요일\"] = df1[\"주문일(dt)\"].dt.day_name()"
   ]
  },
  {
   "cell_type": "code",
   "execution_count": 20,
   "id": "bf95c1b9",
   "metadata": {
    "scrolled": false
   },
   "outputs": [
    {
     "data": {
      "text/plain": [
       "<Axes: xlabel='주문요일', ylabel='count'>"
      ]
     },
     "execution_count": 20,
     "metadata": {},
     "output_type": "execute_result"
    },
    {
     "data": {
      "image/png": "[encoded data removed]",
      "text/plain": [
       "<Figure size 640x480 with 1 Axes>"
      ]
     },
     "metadata": {},
     "output_type": "display_data"
    }
   ],
   "source": [
    "sns.countplot(data=df1, x=\"주문요일\")"
   ]
  },
  {
   "cell_type": "code",
   "execution_count": 23,
   "id": "c9d1794f",
   "metadata": {},
   "outputs": [
    {
     "data": {
      "text/plain": [
       "array(['Thursday', 'Saturday', 'Sunday', 'Monday', 'Tuesday', 'Wednesday',\n",
       "       'Friday'], dtype=object)"
      ]
     },
     "execution_count": 23,
     "metadata": {},
     "output_type": "execute_result"
    }
   ],
   "source": [
    "df1[\"주문요일\"].unique()"
   ]
  },
  {
   "cell_type": "code",
   "execution_count": 24,
   "id": "edf6f032",
   "metadata": {},
   "outputs": [],
   "source": [
    "df1[\"주중/주말\"] = df1[\"주문요일\"].replace({'Thursday': \"주중\",\n",
    "                     'Saturday': \"주말\",\n",
    "                     'Sunday': \"주말\",\n",
    "                     'Monday': \"주중\",\n",
    "                     'Tuesday': \"주중\",\n",
    "                     'Wednesday': \"주중\",\n",
    "                     'Friday': \"주중\"})"
   ]
  },
  {
   "cell_type": "code",
   "execution_count": null,
   "id": "65d53f9b",
   "metadata": {},
   "outputs": [],
   "source": [
    "df1"
   ]
  }
 ],
 "metadata": {
  "kernelspec": {
   "display_name": "Python 3 (ipykernel)",
   "language": "python",
   "name": "python3"
  },
  "language_info": {
   "codemirror_mode": {
    "name": "ipython",
    "version": 3
   },
   "file_extension": ".py",
   "mimetype": "text/x-python",
   "name": "python",
   "nbconvert_exporter": "python",
   "pygments_lexer": "ipython3",
   "version": "3.10.9"
  }
 },
 "nbformat": 4,
 "nbformat_minor": 5
}
