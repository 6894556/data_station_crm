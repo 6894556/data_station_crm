{
 "cells": [
  {
   "cell_type": "code",
   "execution_count": 1,
   "id": "bf6ecc42",
   "metadata": {},
   "outputs": [],
   "source": [
    "import numpy as np\n",
    "import pandas as pd\n",
    "pd.options.display.float_format = \"{:.2f}\".format\n",
    "import matplotlib as mpl\n",
    "mpl.rc(\"font\", family=\"Malgun Gothic\")\n",
    "import matplotlib.pyplot as plt\n",
    "import seaborn as sns"
   ]
  },
  {
   "cell_type": "code",
   "execution_count": 2,
   "id": "78ce8e54",
   "metadata": {},
   "outputs": [
    {
     "data": {
      "text/plain": [
       "(4396, 6)"
      ]
     },
     "execution_count": 2,
     "metadata": {},
     "output_type": "execute_result"
    }
   ],
   "source": [
    "df1 = pd.read_csv(\"dataset/store_member.csv\")\n",
    "df1.shape"
   ]
  },
  {
   "cell_type": "code",
   "execution_count": 3,
   "id": "c75c7f9a",
   "metadata": {},
   "outputs": [
    {
     "data": {
      "text/html": [
       "<div>\n",
       "<style scoped>\n",
       "    .dataframe tbody tr th:only-of-type {\n",
       "        vertical-align: middle;\n",
       "    }\n",
       "\n",
       "    .dataframe tbody tr th {\n",
       "        vertical-align: top;\n",
       "    }\n",
       "\n",
       "    .dataframe thead th {\n",
       "        text-align: right;\n",
       "    }\n",
       "</style>\n",
       "<table border=\"1\" class=\"dataframe\">\n",
       "  <thead>\n",
       "    <tr style=\"text-align: right;\">\n",
       "      <th></th>\n",
       "      <th>회원번호</th>\n",
       "      <th>회원상태</th>\n",
       "      <th>성별</th>\n",
       "      <th>결혼유무</th>\n",
       "      <th>주소</th>\n",
       "      <th>생년</th>\n",
       "    </tr>\n",
       "  </thead>\n",
       "  <tbody>\n",
       "    <tr>\n",
       "      <th>0</th>\n",
       "      <td>2101</td>\n",
       "      <td>정상회원</td>\n",
       "      <td>여</td>\n",
       "      <td>기혼</td>\n",
       "      <td>서울 강북구 미아동 134-</td>\n",
       "      <td>1967.00</td>\n",
       "    </tr>\n",
       "    <tr>\n",
       "      <th>1</th>\n",
       "      <td>2102</td>\n",
       "      <td>정상회원</td>\n",
       "      <td>여</td>\n",
       "      <td>NaN</td>\n",
       "      <td>경기 용인시 수지구 동천동</td>\n",
       "      <td>1947.00</td>\n",
       "    </tr>\n",
       "    <tr>\n",
       "      <th>2</th>\n",
       "      <td>2103</td>\n",
       "      <td>정상회원</td>\n",
       "      <td>여</td>\n",
       "      <td>기혼</td>\n",
       "      <td>경기 용인시 수지구 동천동</td>\n",
       "      <td>1972.00</td>\n",
       "    </tr>\n",
       "  </tbody>\n",
       "</table>\n",
       "</div>"
      ],
      "text/plain": [
       "   회원번호  회원상태 성별 결혼유무               주소      생년\n",
       "0  2101  정상회원  여   기혼  서울 강북구 미아동 134- 1967.00\n",
       "1  2102  정상회원  여  NaN   경기 용인시 수지구 동천동 1947.00\n",
       "2  2103  정상회원  여   기혼   경기 용인시 수지구 동천동 1972.00"
      ]
     },
     "execution_count": 3,
     "metadata": {},
     "output_type": "execute_result"
    }
   ],
   "source": [
    "df1.head(3) # 고객 고유정보 데이터"
   ]
  },
  {
   "cell_type": "markdown",
   "id": "0eb8d179",
   "metadata": {},
   "source": [
    "물품을 구매한 고객 데이터\n",
    "- store_member.csv\n",
    "\n",
    "매장별 판매 데이터\n",
    "- store_product_1.csv: 매장 1번\n",
    "- store_product_2.csv: 매장 2번\n",
    "- store_product_3.csv: 매장 3번\n",
    "- store_product_4.csv: 매장 4번\n",
    "- 4개 모두 columns가 같다. \n",
    "> 따라서 concat 사용한다.\n",
    "\n",
    "\n",
    "위 데이터를 적절히 처리해서 분석해보자. "
   ]
  },
  {
   "cell_type": "code",
   "execution_count": 4,
   "id": "b0dadd90",
   "metadata": {},
   "outputs": [],
   "source": [
    "df2 = pd.DataFrame()\n",
    "for i in range(1, 5):\n",
    "    dfn = pd.read_csv(\"dataset/store_product_\" + str(i) + \".csv\")\n",
    "    df2 = pd.concat([df2, dfn]) # dfn을 df2 아래에 붙인다. "
   ]
  },
  {
   "cell_type": "code",
   "execution_count": 5,
   "id": "b295bfea",
   "metadata": {},
   "outputs": [
    {
     "data": {
      "text/plain": [
       "(735783, 11)"
      ]
     },
     "execution_count": 5,
     "metadata": {},
     "output_type": "execute_result"
    }
   ],
   "source": [
    "df2.shape"
   ]
  },
  {
   "cell_type": "code",
   "execution_count": 6,
   "id": "35904434",
   "metadata": {},
   "outputs": [
    {
     "data": {
      "text/html": [
       "<div>\n",
       "<style scoped>\n",
       "    .dataframe tbody tr th:only-of-type {\n",
       "        vertical-align: middle;\n",
       "    }\n",
       "\n",
       "    .dataframe tbody tr th {\n",
       "        vertical-align: top;\n",
       "    }\n",
       "\n",
       "    .dataframe thead th {\n",
       "        text-align: right;\n",
       "    }\n",
       "</style>\n",
       "<table border=\"1\" class=\"dataframe\">\n",
       "  <thead>\n",
       "    <tr style=\"text-align: right;\">\n",
       "      <th></th>\n",
       "      <th>공급일자</th>\n",
       "      <th>물품코드</th>\n",
       "      <th>물품대분류</th>\n",
       "      <th>물품중분류</th>\n",
       "      <th>물품소분류</th>\n",
       "      <th>물품명</th>\n",
       "      <th>구매수량</th>\n",
       "      <th>구매금액</th>\n",
       "      <th>구매매장</th>\n",
       "      <th>반품_원거래일자</th>\n",
       "      <th>회원번호</th>\n",
       "    </tr>\n",
       "  </thead>\n",
       "  <tbody>\n",
       "    <tr>\n",
       "      <th>0</th>\n",
       "      <td>20170201</td>\n",
       "      <td>50301001.00</td>\n",
       "      <td>채소</td>\n",
       "      <td>과일채소</td>\n",
       "      <td>딸기</td>\n",
       "      <td>딸기(1kg)</td>\n",
       "      <td>1.00</td>\n",
       "      <td>13600.00</td>\n",
       "      <td>매장1</td>\n",
       "      <td>NaN</td>\n",
       "      <td>2102.00</td>\n",
       "    </tr>\n",
       "    <tr>\n",
       "      <th>1</th>\n",
       "      <td>20170201</td>\n",
       "      <td>80201053.00</td>\n",
       "      <td>간식</td>\n",
       "      <td>떡</td>\n",
       "      <td>가래떡</td>\n",
       "      <td>현미가래떡(400g)</td>\n",
       "      <td>1.00</td>\n",
       "      <td>99999999.00</td>\n",
       "      <td>매장1</td>\n",
       "      <td>NaN</td>\n",
       "      <td>2102.00</td>\n",
       "    </tr>\n",
       "    <tr>\n",
       "      <th>2</th>\n",
       "      <td>20170201</td>\n",
       "      <td>110104033.00</td>\n",
       "      <td>음료</td>\n",
       "      <td>음료</td>\n",
       "      <td>음료기타</td>\n",
       "      <td>개복숭아감식초(700ml)</td>\n",
       "      <td>1.00</td>\n",
       "      <td>13000.00</td>\n",
       "      <td>매장1</td>\n",
       "      <td>NaN</td>\n",
       "      <td>2103.00</td>\n",
       "    </tr>\n",
       "  </tbody>\n",
       "</table>\n",
       "</div>"
      ],
      "text/plain": [
       "       공급일자         물품코드 물품대분류 물품중분류 물품소분류             물품명  구매수량        구매금액  \\\n",
       "0  20170201  50301001.00    채소  과일채소    딸기         딸기(1kg)  1.00    13600.00   \n",
       "1  20170201  80201053.00    간식     떡   가래떡     현미가래떡(400g)  1.00 99999999.00   \n",
       "2  20170201 110104033.00    음료    음료  음료기타  개복숭아감식초(700ml)  1.00    13000.00   \n",
       "\n",
       "  구매매장  반품_원거래일자    회원번호  \n",
       "0  매장1       NaN 2102.00  \n",
       "1  매장1       NaN 2102.00  \n",
       "2  매장1       NaN 2103.00  "
      ]
     },
     "execution_count": 6,
     "metadata": {},
     "output_type": "execute_result"
    }
   ],
   "source": [
    "df2.head(3)"
   ]
  },
  {
   "cell_type": "markdown",
   "id": "6e207f44",
   "metadata": {},
   "source": [
    "- 공급일자\n",
    "> - 실무에서 **주차(workweek)** 개념 중요하다. \n",
    "- 물품대분류"
   ]
  },
  {
   "cell_type": "markdown",
   "id": "f894f79f",
   "metadata": {},
   "source": [
    "공급일자"
   ]
  },
  {
   "cell_type": "code",
   "execution_count": 7,
   "id": "57f16fbe",
   "metadata": {},
   "outputs": [],
   "source": [
    "df2[\"공급일자(dt)\"] = pd.to_datetime(df2[\"공급일자\"], format=\"%Y%m%d\")\n",
    "df2[\"연도\"] = df2[\"공급일자(dt)\"].dt.year\n",
    "df2[\"월\"] =  df2[\"공급일자(dt)\"].dt.month\n",
    "df2[\"주차(workweek)\"] = df2[\"공급일자(dt)\"].dt.isocalendar().week\n",
    "df2[\"요일\"] = df2[\"공급일자(dt)\"].dt.day_name()"
   ]
  },
  {
   "cell_type": "code",
   "execution_count": 8,
   "id": "52d3f4bf",
   "metadata": {},
   "outputs": [
    {
     "data": {
      "text/html": [
       "<div>\n",
       "<style scoped>\n",
       "    .dataframe tbody tr th:only-of-type {\n",
       "        vertical-align: middle;\n",
       "    }\n",
       "\n",
       "    .dataframe tbody tr th {\n",
       "        vertical-align: top;\n",
       "    }\n",
       "\n",
       "    .dataframe thead th {\n",
       "        text-align: right;\n",
       "    }\n",
       "</style>\n",
       "<table border=\"1\" class=\"dataframe\">\n",
       "  <thead>\n",
       "    <tr style=\"text-align: right;\">\n",
       "      <th></th>\n",
       "      <th>공급일자</th>\n",
       "      <th>물품코드</th>\n",
       "      <th>물품대분류</th>\n",
       "      <th>물품중분류</th>\n",
       "      <th>물품소분류</th>\n",
       "      <th>물품명</th>\n",
       "      <th>구매수량</th>\n",
       "      <th>구매금액</th>\n",
       "      <th>구매매장</th>\n",
       "      <th>반품_원거래일자</th>\n",
       "      <th>회원번호</th>\n",
       "      <th>공급일자(dt)</th>\n",
       "      <th>연도</th>\n",
       "      <th>월</th>\n",
       "      <th>주차(workweek)</th>\n",
       "      <th>요일</th>\n",
       "    </tr>\n",
       "  </thead>\n",
       "  <tbody>\n",
       "    <tr>\n",
       "      <th>0</th>\n",
       "      <td>20170201</td>\n",
       "      <td>50301001.00</td>\n",
       "      <td>채소</td>\n",
       "      <td>과일채소</td>\n",
       "      <td>딸기</td>\n",
       "      <td>딸기(1kg)</td>\n",
       "      <td>1.00</td>\n",
       "      <td>13600.00</td>\n",
       "      <td>매장1</td>\n",
       "      <td>NaN</td>\n",
       "      <td>2102.00</td>\n",
       "      <td>2017-02-01</td>\n",
       "      <td>2017</td>\n",
       "      <td>2</td>\n",
       "      <td>5</td>\n",
       "      <td>Wednesday</td>\n",
       "    </tr>\n",
       "  </tbody>\n",
       "</table>\n",
       "</div>"
      ],
      "text/plain": [
       "       공급일자        물품코드 물품대분류 물품중분류 물품소분류      물품명  구매수량     구매금액 구매매장  \\\n",
       "0  20170201 50301001.00    채소  과일채소    딸기  딸기(1kg)  1.00 13600.00  매장1   \n",
       "\n",
       "   반품_원거래일자    회원번호   공급일자(dt)    연도  월  주차(workweek)         요일  \n",
       "0       NaN 2102.00 2017-02-01  2017  2             5  Wednesday  "
      ]
     },
     "execution_count": 8,
     "metadata": {},
     "output_type": "execute_result"
    }
   ],
   "source": [
    "df2.head(1)"
   ]
  },
  {
   "cell_type": "markdown",
   "id": "2d897ea2",
   "metadata": {},
   "source": [
    "소매점 판매 데이터\n",
    "- 구매금액: 하나의 물품을 샀을 때 찍히는 금액\n",
    "- 구매수량\n",
    "- 반품_원거래일자: 반품한 물품의 원거래 일자"
   ]
  },
  {
   "cell_type": "code",
   "execution_count": 9,
   "id": "633cbfd0",
   "metadata": {},
   "outputs": [
    {
     "data": {
      "text/html": [
       "<div>\n",
       "<style scoped>\n",
       "    .dataframe tbody tr th:only-of-type {\n",
       "        vertical-align: middle;\n",
       "    }\n",
       "\n",
       "    .dataframe tbody tr th {\n",
       "        vertical-align: top;\n",
       "    }\n",
       "\n",
       "    .dataframe thead th {\n",
       "        text-align: right;\n",
       "    }\n",
       "</style>\n",
       "<table border=\"1\" class=\"dataframe\">\n",
       "  <thead>\n",
       "    <tr style=\"text-align: right;\">\n",
       "      <th></th>\n",
       "      <th>공급일자</th>\n",
       "      <th>물품코드</th>\n",
       "      <th>구매수량</th>\n",
       "      <th>구매금액</th>\n",
       "      <th>반품_원거래일자</th>\n",
       "      <th>회원번호</th>\n",
       "      <th>연도</th>\n",
       "      <th>월</th>\n",
       "      <th>주차(workweek)</th>\n",
       "    </tr>\n",
       "  </thead>\n",
       "  <tbody>\n",
       "    <tr>\n",
       "      <th>count</th>\n",
       "      <td>735783.00</td>\n",
       "      <td>735778.00</td>\n",
       "      <td>735783.00</td>\n",
       "      <td>735779.00</td>\n",
       "      <td>10337.00</td>\n",
       "      <td>735761.00</td>\n",
       "      <td>735783.00</td>\n",
       "      <td>735783.00</td>\n",
       "      <td>735783.00</td>\n",
       "    </tr>\n",
       "    <tr>\n",
       "      <th>mean</th>\n",
       "      <td>20170371.33</td>\n",
       "      <td>70849907.24</td>\n",
       "      <td>164.25</td>\n",
       "      <td>5826.37</td>\n",
       "      <td>20170312.35</td>\n",
       "      <td>3091.30</td>\n",
       "      <td>2017.00</td>\n",
       "      <td>3.56</td>\n",
       "      <td>13.57</td>\n",
       "    </tr>\n",
       "    <tr>\n",
       "      <th>std</th>\n",
       "      <td>171.53</td>\n",
       "      <td>25240499.72</td>\n",
       "      <td>117740.28</td>\n",
       "      <td>117462.25</td>\n",
       "      <td>786.00</td>\n",
       "      <td>958.02</td>\n",
       "      <td>0.00</td>\n",
       "      <td>1.71</td>\n",
       "      <td>7.49</td>\n",
       "    </tr>\n",
       "    <tr>\n",
       "      <th>min</th>\n",
       "      <td>20170102.00</td>\n",
       "      <td>10101018.00</td>\n",
       "      <td>-120.00</td>\n",
       "      <td>-360000.00</td>\n",
       "      <td>20161213.00</td>\n",
       "      <td>2101.00</td>\n",
       "      <td>2017.00</td>\n",
       "      <td>1.00</td>\n",
       "      <td>1.00</td>\n",
       "    </tr>\n",
       "    <tr>\n",
       "      <th>25%</th>\n",
       "      <td>20170217.00</td>\n",
       "      <td>50508005.00</td>\n",
       "      <td>1.00</td>\n",
       "      <td>2150.00</td>\n",
       "      <td>20170215.00</td>\n",
       "      <td>2391.00</td>\n",
       "      <td>2017.00</td>\n",
       "      <td>2.00</td>\n",
       "      <td>7.00</td>\n",
       "    </tr>\n",
       "    <tr>\n",
       "      <th>50%</th>\n",
       "      <td>20170403.00</td>\n",
       "      <td>60601046.00</td>\n",
       "      <td>1.00</td>\n",
       "      <td>3800.00</td>\n",
       "      <td>20170406.00</td>\n",
       "      <td>2755.00</td>\n",
       "      <td>2017.00</td>\n",
       "      <td>4.00</td>\n",
       "      <td>14.00</td>\n",
       "    </tr>\n",
       "    <tr>\n",
       "      <th>75%</th>\n",
       "      <td>20170519.00</td>\n",
       "      <td>90103063.00</td>\n",
       "      <td>1.00</td>\n",
       "      <td>6500.00</td>\n",
       "      <td>20170524.00</td>\n",
       "      <td>3492.00</td>\n",
       "      <td>2017.00</td>\n",
       "      <td>5.00</td>\n",
       "      <td>20.00</td>\n",
       "    </tr>\n",
       "    <tr>\n",
       "      <th>max</th>\n",
       "      <td>20170630.00</td>\n",
       "      <td>160101271.00</td>\n",
       "      <td>99999999.00</td>\n",
       "      <td>99999999.00</td>\n",
       "      <td>20170630.00</td>\n",
       "      <td>6496.00</td>\n",
       "      <td>2017.00</td>\n",
       "      <td>6.00</td>\n",
       "      <td>26.00</td>\n",
       "    </tr>\n",
       "  </tbody>\n",
       "</table>\n",
       "</div>"
      ],
      "text/plain": [
       "             공급일자         물품코드        구매수량        구매금액    반품_원거래일자      회원번호  \\\n",
       "count   735783.00    735778.00   735783.00   735779.00    10337.00 735761.00   \n",
       "mean  20170371.33  70849907.24      164.25     5826.37 20170312.35   3091.30   \n",
       "std        171.53  25240499.72   117740.28   117462.25      786.00    958.02   \n",
       "min   20170102.00  10101018.00     -120.00  -360000.00 20161213.00   2101.00   \n",
       "25%   20170217.00  50508005.00        1.00     2150.00 20170215.00   2391.00   \n",
       "50%   20170403.00  60601046.00        1.00     3800.00 20170406.00   2755.00   \n",
       "75%   20170519.00  90103063.00        1.00     6500.00 20170524.00   3492.00   \n",
       "max   20170630.00 160101271.00 99999999.00 99999999.00 20170630.00   6496.00   \n",
       "\n",
       "             연도         월  주차(workweek)  \n",
       "count 735783.00 735783.00     735783.00  \n",
       "mean    2017.00      3.56         13.57  \n",
       "std        0.00      1.71          7.49  \n",
       "min     2017.00      1.00          1.00  \n",
       "25%     2017.00      2.00          7.00  \n",
       "50%     2017.00      4.00         14.00  \n",
       "75%     2017.00      5.00         20.00  \n",
       "max     2017.00      6.00         26.00  "
      ]
     },
     "execution_count": 9,
     "metadata": {},
     "output_type": "execute_result"
    }
   ],
   "source": [
    "# 이상치 확인: df.describe()\n",
    "df2.describe()"
   ]
  },
  {
   "cell_type": "code",
   "execution_count": 10,
   "id": "acac833c",
   "metadata": {},
   "outputs": [
    {
     "data": {
      "text/html": [
       "<div>\n",
       "<style scoped>\n",
       "    .dataframe tbody tr th:only-of-type {\n",
       "        vertical-align: middle;\n",
       "    }\n",
       "\n",
       "    .dataframe tbody tr th {\n",
       "        vertical-align: top;\n",
       "    }\n",
       "\n",
       "    .dataframe thead th {\n",
       "        text-align: right;\n",
       "    }\n",
       "</style>\n",
       "<table border=\"1\" class=\"dataframe\">\n",
       "  <thead>\n",
       "    <tr style=\"text-align: right;\">\n",
       "      <th></th>\n",
       "      <th>공급일자</th>\n",
       "      <th>물품코드</th>\n",
       "      <th>물품대분류</th>\n",
       "      <th>물품중분류</th>\n",
       "      <th>물품소분류</th>\n",
       "      <th>물품명</th>\n",
       "      <th>구매수량</th>\n",
       "      <th>구매금액</th>\n",
       "      <th>구매매장</th>\n",
       "      <th>반품_원거래일자</th>\n",
       "      <th>회원번호</th>\n",
       "      <th>공급일자(dt)</th>\n",
       "      <th>연도</th>\n",
       "      <th>월</th>\n",
       "      <th>주차(workweek)</th>\n",
       "      <th>요일</th>\n",
       "    </tr>\n",
       "  </thead>\n",
       "  <tbody>\n",
       "    <tr>\n",
       "      <th>1</th>\n",
       "      <td>20170201</td>\n",
       "      <td>80201053.00</td>\n",
       "      <td>간식</td>\n",
       "      <td>떡</td>\n",
       "      <td>가래떡</td>\n",
       "      <td>현미가래떡(400g)</td>\n",
       "      <td>1.00</td>\n",
       "      <td>99999999.00</td>\n",
       "      <td>매장1</td>\n",
       "      <td>NaN</td>\n",
       "      <td>2102.00</td>\n",
       "      <td>2017-02-01</td>\n",
       "      <td>2017</td>\n",
       "      <td>2</td>\n",
       "      <td>5</td>\n",
       "      <td>Wednesday</td>\n",
       "    </tr>\n",
       "    <tr>\n",
       "      <th>32771</th>\n",
       "      <td>20170112</td>\n",
       "      <td>130220024.00</td>\n",
       "      <td>생활용품</td>\n",
       "      <td>생활용품</td>\n",
       "      <td>전통유기</td>\n",
       "      <td>유기 궁중수저세트(선물류)</td>\n",
       "      <td>23.00</td>\n",
       "      <td>1449000.00</td>\n",
       "      <td>매장2</td>\n",
       "      <td>NaN</td>\n",
       "      <td>4267.00</td>\n",
       "      <td>2017-01-12</td>\n",
       "      <td>2017</td>\n",
       "      <td>1</td>\n",
       "      <td>2</td>\n",
       "      <td>Thursday</td>\n",
       "    </tr>\n",
       "    <tr>\n",
       "      <th>35074</th>\n",
       "      <td>20170115</td>\n",
       "      <td>50142001.00</td>\n",
       "      <td>채소</td>\n",
       "      <td>잎/줄기채소</td>\n",
       "      <td>시금치</td>\n",
       "      <td>시금치(300g)</td>\n",
       "      <td>1.00</td>\n",
       "      <td>9899999.00</td>\n",
       "      <td>매장2</td>\n",
       "      <td>NaN</td>\n",
       "      <td>2106.00</td>\n",
       "      <td>2017-01-15</td>\n",
       "      <td>2017</td>\n",
       "      <td>1</td>\n",
       "      <td>2</td>\n",
       "      <td>Sunday</td>\n",
       "    </tr>\n",
       "  </tbody>\n",
       "</table>\n",
       "</div>"
      ],
      "text/plain": [
       "           공급일자         물품코드 물품대분류   물품중분류 물품소분류             물품명  구매수량  \\\n",
       "1      20170201  80201053.00    간식       떡   가래떡     현미가래떡(400g)  1.00   \n",
       "32771  20170112 130220024.00  생활용품    생활용품  전통유기  유기 궁중수저세트(선물류) 23.00   \n",
       "35074  20170115  50142001.00    채소  잎/줄기채소   시금치       시금치(300g)  1.00   \n",
       "\n",
       "             구매금액 구매매장  반품_원거래일자    회원번호   공급일자(dt)    연도  월  주차(workweek)  \\\n",
       "1     99999999.00  매장1       NaN 2102.00 2017-02-01  2017  2             5   \n",
       "32771  1449000.00  매장2       NaN 4267.00 2017-01-12  2017  1             2   \n",
       "35074  9899999.00  매장2       NaN 2106.00 2017-01-15  2017  1             2   \n",
       "\n",
       "              요일  \n",
       "1      Wednesday  \n",
       "32771   Thursday  \n",
       "35074     Sunday  "
      ]
     },
     "execution_count": 10,
     "metadata": {},
     "output_type": "execute_result"
    }
   ],
   "source": [
    "# 구매 금액 이상치\n",
    "# cond1 = (df2[\"구매금액\"] >= 10**5) # 10만원 이상\n",
    "# 구매금액이 10만원 이상인 데이터\n",
    "# 홍삼액, 한우찜갈비 이런 것은 10만원을 넘을 수 있다. \n",
    "# 현미 가래떡 금액 99999999원 이런 것을 처리해야 한다. \n",
    "#cond1 = (df2[\"구매금액\"] >= 2*(10**5)) # 20만원 이상\n",
    "cond1 = (df2[\"구매금액\"] >= 10**6) # 100만원 이상\n",
    "# 수저세트 수량이 23이므로 충분히 100만원 넘을 수 있다. \n",
    "# 가장 정확한 방법은, 각 물품의 구매 단가를 확인해서 하는 것이 가장 좋다. \n",
    "df2.loc[cond1]"
   ]
  },
  {
   "cell_type": "code",
   "execution_count": 11,
   "id": "49ed6673",
   "metadata": {},
   "outputs": [],
   "source": [
    "# 구매 금액 이상치 2건 값을 NaN으로 대체\n",
    "cond1 = (df2[\"구매금액\"] == 99999999)\n",
    "df2[\"구매금액(clean)\"] = df2[\"구매금액\"]\n",
    "df2.loc[cond1, \"구매금액(clean)\"] = np.nan"
   ]
  },
  {
   "cell_type": "code",
   "execution_count": 12,
   "id": "eb3da77a",
   "metadata": {},
   "outputs": [],
   "source": [
    "# 구매수량\n",
    "#cond1 = (df2[\"구매수량\"] >= 100) # 100개 이상\n",
    "# 팽이버섯 120개 구매. 자영업자의 경우 가능하다. \n",
    "cond1 = (df2[\"구매수량\"] >= 130) # 130개 이상\n",
    "df2[\"구매수량(clean)\"] = df2[\"구매수량\"]\n",
    "df2.loc[cond1, \"구매수량(clean)\"] = np.nan\n",
    "# 가장 강력한 이상치 처리 방법은 \n",
    "# 물품명별 고유 단가를 갖고 계산해보는 것이다. \n",
    "# pandas 프로파일링을 사용하면 이런 작업을 쉽게 할 수 있다. "
   ]
  },
  {
   "cell_type": "code",
   "execution_count": 13,
   "id": "062c6449",
   "metadata": {
    "scrolled": false
   },
   "outputs": [
    {
     "data": {
      "text/html": [
       "<div>\n",
       "<style scoped>\n",
       "    .dataframe tbody tr th:only-of-type {\n",
       "        vertical-align: middle;\n",
       "    }\n",
       "\n",
       "    .dataframe tbody tr th {\n",
       "        vertical-align: top;\n",
       "    }\n",
       "\n",
       "    .dataframe thead th {\n",
       "        text-align: right;\n",
       "    }\n",
       "</style>\n",
       "<table border=\"1\" class=\"dataframe\">\n",
       "  <thead>\n",
       "    <tr style=\"text-align: right;\">\n",
       "      <th></th>\n",
       "      <th>구매금액(clean)</th>\n",
       "      <th>구매수량(clean)</th>\n",
       "    </tr>\n",
       "    <tr>\n",
       "      <th>연도</th>\n",
       "      <th></th>\n",
       "      <th></th>\n",
       "    </tr>\n",
       "  </thead>\n",
       "  <tbody>\n",
       "    <tr>\n",
       "      <th>2017</th>\n",
       "      <td>4186917037.00</td>\n",
       "      <td>849082.20</td>\n",
       "    </tr>\n",
       "  </tbody>\n",
       "</table>\n",
       "</div>"
      ],
      "text/plain": [
       "       구매금액(clean)  구매수량(clean)\n",
       "연도                             \n",
       "2017 4186917037.00    849082.20"
      ]
     },
     "execution_count": 13,
     "metadata": {},
     "output_type": "execute_result"
    }
   ],
   "source": [
    "# 17년도만 있다 \n",
    "df2.pivot_table(index=[\"연도\"], values=[\"구매수량(clean)\", \"구매금액(clean)\"],\n",
    "                aggfunc=\"sum\")"
   ]
  },
  {
   "cell_type": "code",
   "execution_count": 14,
   "id": "5d8e4b43",
   "metadata": {},
   "outputs": [
    {
     "data": {
      "text/html": [
       "<div>\n",
       "<style scoped>\n",
       "    .dataframe tbody tr th:only-of-type {\n",
       "        vertical-align: middle;\n",
       "    }\n",
       "\n",
       "    .dataframe tbody tr th {\n",
       "        vertical-align: top;\n",
       "    }\n",
       "\n",
       "    .dataframe thead th {\n",
       "        text-align: right;\n",
       "    }\n",
       "</style>\n",
       "<table border=\"1\" class=\"dataframe\">\n",
       "  <thead>\n",
       "    <tr style=\"text-align: right;\">\n",
       "      <th></th>\n",
       "      <th></th>\n",
       "      <th>구매금액(clean)</th>\n",
       "      <th>구매수량(clean)</th>\n",
       "    </tr>\n",
       "    <tr>\n",
       "      <th>연도</th>\n",
       "      <th>월</th>\n",
       "      <th></th>\n",
       "      <th></th>\n",
       "    </tr>\n",
       "  </thead>\n",
       "  <tbody>\n",
       "    <tr>\n",
       "      <th rowspan=\"6\" valign=\"top\">2017</th>\n",
       "      <th>1</th>\n",
       "      <td>756411944.00</td>\n",
       "      <td>137834.73</td>\n",
       "    </tr>\n",
       "    <tr>\n",
       "      <th>2</th>\n",
       "      <td>626351451.00</td>\n",
       "      <td>125945.90</td>\n",
       "    </tr>\n",
       "    <tr>\n",
       "      <th>3</th>\n",
       "      <td>731169409.00</td>\n",
       "      <td>148444.85</td>\n",
       "    </tr>\n",
       "    <tr>\n",
       "      <th>4</th>\n",
       "      <td>681583060.00</td>\n",
       "      <td>140345.42</td>\n",
       "    </tr>\n",
       "    <tr>\n",
       "      <th>5</th>\n",
       "      <td>676168421.00</td>\n",
       "      <td>143463.00</td>\n",
       "    </tr>\n",
       "    <tr>\n",
       "      <th>6</th>\n",
       "      <td>715232752.00</td>\n",
       "      <td>153048.30</td>\n",
       "    </tr>\n",
       "  </tbody>\n",
       "</table>\n",
       "</div>"
      ],
      "text/plain": [
       "        구매금액(clean)  구매수량(clean)\n",
       "연도   월                          \n",
       "2017 1 756411944.00    137834.73\n",
       "     2 626351451.00    125945.90\n",
       "     3 731169409.00    148444.85\n",
       "     4 681583060.00    140345.42\n",
       "     5 676168421.00    143463.00\n",
       "     6 715232752.00    153048.30"
      ]
     },
     "execution_count": 14,
     "metadata": {},
     "output_type": "execute_result"
    }
   ],
   "source": [
    "# 판매 추이\n",
    "df2.pivot_table(index=[\"연도\", \"월\"],\n",
    "                values=['구매수량(clean)', \"구매금액(clean)\"],\n",
    "                aggfunc=\"sum\")"
   ]
  },
  {
   "cell_type": "code",
   "execution_count": 15,
   "id": "2fd32a1e",
   "metadata": {},
   "outputs": [
    {
     "data": {
      "text/plain": [
       "0        1.00\n",
       "1        1.00\n",
       "2        1.00\n",
       "3        1.00\n",
       "4        1.00\n",
       "         ... \n",
       "138019   1.00\n",
       "138020   1.00\n",
       "138021   1.00\n",
       "138022   1.00\n",
       "138023   1.00\n",
       "Name: 구매수량(clean), Length: 735783, dtype: float64"
      ]
     },
     "execution_count": 15,
     "metadata": {},
     "output_type": "execute_result"
    }
   ],
   "source": [
    "df2['구매수량(clean)']"
   ]
  },
  {
   "cell_type": "code",
   "execution_count": 16,
   "id": "73040f9d",
   "metadata": {},
   "outputs": [
    {
     "data": {
      "text/html": [
       "<div>\n",
       "<style scoped>\n",
       "    .dataframe tbody tr th:only-of-type {\n",
       "        vertical-align: middle;\n",
       "    }\n",
       "\n",
       "    .dataframe tbody tr th {\n",
       "        vertical-align: top;\n",
       "    }\n",
       "\n",
       "    .dataframe thead th {\n",
       "        text-align: right;\n",
       "    }\n",
       "</style>\n",
       "<table border=\"1\" class=\"dataframe\">\n",
       "  <thead>\n",
       "    <tr style=\"text-align: right;\">\n",
       "      <th></th>\n",
       "      <th>공급일자</th>\n",
       "      <th>물품코드</th>\n",
       "      <th>물품대분류</th>\n",
       "      <th>물품중분류</th>\n",
       "      <th>물품소분류</th>\n",
       "      <th>물품명</th>\n",
       "      <th>구매수량</th>\n",
       "      <th>구매금액</th>\n",
       "      <th>구매매장</th>\n",
       "      <th>반품_원거래일자</th>\n",
       "      <th>회원번호</th>\n",
       "      <th>공급일자(dt)</th>\n",
       "      <th>연도</th>\n",
       "      <th>월</th>\n",
       "      <th>주차(workweek)</th>\n",
       "      <th>요일</th>\n",
       "      <th>구매금액(clean)</th>\n",
       "      <th>구매수량(clean)</th>\n",
       "    </tr>\n",
       "  </thead>\n",
       "  <tbody>\n",
       "    <tr>\n",
       "      <th>0</th>\n",
       "      <td>20170201</td>\n",
       "      <td>50301001.00</td>\n",
       "      <td>채소</td>\n",
       "      <td>과일채소</td>\n",
       "      <td>딸기</td>\n",
       "      <td>딸기(1kg)</td>\n",
       "      <td>1.00</td>\n",
       "      <td>13600.00</td>\n",
       "      <td>매장1</td>\n",
       "      <td>NaN</td>\n",
       "      <td>2102.00</td>\n",
       "      <td>2017-02-01</td>\n",
       "      <td>2017</td>\n",
       "      <td>2</td>\n",
       "      <td>5</td>\n",
       "      <td>Wednesday</td>\n",
       "      <td>13600.00</td>\n",
       "      <td>1.00</td>\n",
       "    </tr>\n",
       "  </tbody>\n",
       "</table>\n",
       "</div>"
      ],
      "text/plain": [
       "       공급일자        물품코드 물품대분류 물품중분류 물품소분류      물품명  구매수량     구매금액 구매매장  \\\n",
       "0  20170201 50301001.00    채소  과일채소    딸기  딸기(1kg)  1.00 13600.00  매장1   \n",
       "\n",
       "   반품_원거래일자    회원번호   공급일자(dt)    연도  월  주차(workweek)         요일  구매금액(clean)  \\\n",
       "0       NaN 2102.00 2017-02-01  2017  2             5  Wednesday     13600.00   \n",
       "\n",
       "   구매수량(clean)  \n",
       "0         1.00  "
      ]
     },
     "execution_count": 16,
     "metadata": {},
     "output_type": "execute_result"
    }
   ],
   "source": [
    "df2.head(1)"
   ]
  },
  {
   "cell_type": "code",
   "execution_count": 17,
   "id": "9edbcee3",
   "metadata": {
    "collapsed": true
   },
   "outputs": [
    {
     "name": "stderr",
     "output_type": "stream",
     "text": [
      "C:\\Users\\user\\anaconda3\\lib\\site-packages\\seaborn\\_oldcore.py:1134: FutureWarning: reindexing with a non-unique Index is deprecated and will raise in a future version.\n",
      "  comp_data.insert(0, var, comp_col)\n"
     ]
    },
    {
     "ename": "ValueError",
     "evalue": "cannot reindex on an axis with duplicate labels",
     "output_type": "error",
     "traceback": [
      "\u001b[1;31m---------------------------------------------------------------------------\u001b[0m",
      "\u001b[1;31mValueError\u001b[0m                                Traceback (most recent call last)",
      "Cell \u001b[1;32mIn[17], line 1\u001b[0m\n\u001b[1;32m----> 1\u001b[0m \u001b[43msns\u001b[49m\u001b[38;5;241;43m.\u001b[39;49m\u001b[43mlineplot\u001b[49m\u001b[43m(\u001b[49m\u001b[43mdata\u001b[49m\u001b[38;5;241;43m=\u001b[39;49m\u001b[43mdf2\u001b[49m\u001b[43m,\u001b[49m\u001b[43m \u001b[49m\u001b[43mx\u001b[49m\u001b[38;5;241;43m=\u001b[39;49m\u001b[38;5;124;43m\"\u001b[39;49m\u001b[38;5;124;43m공급일자(dt)\u001b[39;49m\u001b[38;5;124;43m\"\u001b[39;49m\u001b[43m,\u001b[49m\u001b[43m \u001b[49m\u001b[43my\u001b[49m\u001b[38;5;241;43m=\u001b[39;49m\u001b[38;5;124;43m\"\u001b[39;49m\u001b[38;5;124;43m구매금액(clean)\u001b[39;49m\u001b[38;5;124;43m\"\u001b[39;49m\u001b[43m,\u001b[49m\u001b[43m \u001b[49m\u001b[43mestimator\u001b[49m\u001b[38;5;241;43m=\u001b[39;49m\u001b[38;5;28;43msum\u001b[39;49m\u001b[43m,\u001b[49m\u001b[43m \u001b[49m\u001b[43merrorbar\u001b[49m\u001b[38;5;241;43m=\u001b[39;49m\u001b[38;5;28;43;01mNone\u001b[39;49;00m\u001b[43m)\u001b[49m\n",
      "File \u001b[1;32m~\\anaconda3\\lib\\site-packages\\seaborn\\relational.py:645\u001b[0m, in \u001b[0;36mlineplot\u001b[1;34m(data, x, y, hue, size, style, units, palette, hue_order, hue_norm, sizes, size_order, size_norm, dashes, markers, style_order, estimator, errorbar, n_boot, seed, orient, sort, err_style, err_kws, legend, ci, ax, **kwargs)\u001b[0m\n\u001b[0;32m    642\u001b[0m color \u001b[38;5;241m=\u001b[39m kwargs\u001b[38;5;241m.\u001b[39mpop(\u001b[38;5;124m\"\u001b[39m\u001b[38;5;124mcolor\u001b[39m\u001b[38;5;124m\"\u001b[39m, kwargs\u001b[38;5;241m.\u001b[39mpop(\u001b[38;5;124m\"\u001b[39m\u001b[38;5;124mc\u001b[39m\u001b[38;5;124m\"\u001b[39m, \u001b[38;5;28;01mNone\u001b[39;00m))\n\u001b[0;32m    643\u001b[0m kwargs[\u001b[38;5;124m\"\u001b[39m\u001b[38;5;124mcolor\u001b[39m\u001b[38;5;124m\"\u001b[39m] \u001b[38;5;241m=\u001b[39m _default_color(ax\u001b[38;5;241m.\u001b[39mplot, hue, color, kwargs)\n\u001b[1;32m--> 645\u001b[0m \u001b[43mp\u001b[49m\u001b[38;5;241;43m.\u001b[39;49m\u001b[43mplot\u001b[49m\u001b[43m(\u001b[49m\u001b[43max\u001b[49m\u001b[43m,\u001b[49m\u001b[43m \u001b[49m\u001b[43mkwargs\u001b[49m\u001b[43m)\u001b[49m\n\u001b[0;32m    646\u001b[0m \u001b[38;5;28;01mreturn\u001b[39;00m ax\n",
      "File \u001b[1;32m~\\anaconda3\\lib\\site-packages\\seaborn\\relational.py:423\u001b[0m, in \u001b[0;36m_LinePlotter.plot\u001b[1;34m(self, ax, kws)\u001b[0m\n\u001b[0;32m    415\u001b[0m \u001b[38;5;66;03m# TODO How to handle NA? We don't want NA to propagate through to the\u001b[39;00m\n\u001b[0;32m    416\u001b[0m \u001b[38;5;66;03m# estimate/CI when some values are present, but we would also like\u001b[39;00m\n\u001b[0;32m    417\u001b[0m \u001b[38;5;66;03m# matplotlib to show \"gaps\" in the line when all values are missing.\u001b[39;00m\n\u001b[1;32m   (...)\u001b[0m\n\u001b[0;32m    420\u001b[0m \n\u001b[0;32m    421\u001b[0m \u001b[38;5;66;03m# Loop over the semantic subsets and add to the plot\u001b[39;00m\n\u001b[0;32m    422\u001b[0m grouping_vars \u001b[38;5;241m=\u001b[39m \u001b[38;5;124m\"\u001b[39m\u001b[38;5;124mhue\u001b[39m\u001b[38;5;124m\"\u001b[39m, \u001b[38;5;124m\"\u001b[39m\u001b[38;5;124msize\u001b[39m\u001b[38;5;124m\"\u001b[39m, \u001b[38;5;124m\"\u001b[39m\u001b[38;5;124mstyle\u001b[39m\u001b[38;5;124m\"\u001b[39m\n\u001b[1;32m--> 423\u001b[0m \u001b[38;5;28;01mfor\u001b[39;00m sub_vars, sub_data \u001b[38;5;129;01min\u001b[39;00m \u001b[38;5;28mself\u001b[39m\u001b[38;5;241m.\u001b[39miter_data(grouping_vars, from_comp_data\u001b[38;5;241m=\u001b[39m\u001b[38;5;28;01mTrue\u001b[39;00m):\n\u001b[0;32m    425\u001b[0m     \u001b[38;5;28;01mif\u001b[39;00m \u001b[38;5;28mself\u001b[39m\u001b[38;5;241m.\u001b[39msort:\n\u001b[0;32m    426\u001b[0m         sort_vars \u001b[38;5;241m=\u001b[39m [\u001b[38;5;124m\"\u001b[39m\u001b[38;5;124munits\u001b[39m\u001b[38;5;124m\"\u001b[39m, orient, other]\n",
      "File \u001b[1;32m~\\anaconda3\\lib\\site-packages\\seaborn\\_oldcore.py:1028\u001b[0m, in \u001b[0;36mVectorPlotter.iter_data\u001b[1;34m(self, grouping_vars, reverse, from_comp_data, by_facet, allow_empty, dropna)\u001b[0m\n\u001b[0;32m   1023\u001b[0m grouping_vars \u001b[38;5;241m=\u001b[39m [\n\u001b[0;32m   1024\u001b[0m     var \u001b[38;5;28;01mfor\u001b[39;00m var \u001b[38;5;129;01min\u001b[39;00m grouping_vars \u001b[38;5;28;01mif\u001b[39;00m var \u001b[38;5;129;01min\u001b[39;00m \u001b[38;5;28mself\u001b[39m\u001b[38;5;241m.\u001b[39mvariables\n\u001b[0;32m   1025\u001b[0m ]\n\u001b[0;32m   1027\u001b[0m \u001b[38;5;28;01mif\u001b[39;00m from_comp_data:\n\u001b[1;32m-> 1028\u001b[0m     data \u001b[38;5;241m=\u001b[39m \u001b[38;5;28;43mself\u001b[39;49m\u001b[38;5;241;43m.\u001b[39;49m\u001b[43mcomp_data\u001b[49m\n\u001b[0;32m   1029\u001b[0m \u001b[38;5;28;01melse\u001b[39;00m:\n\u001b[0;32m   1030\u001b[0m     data \u001b[38;5;241m=\u001b[39m \u001b[38;5;28mself\u001b[39m\u001b[38;5;241m.\u001b[39mplot_data\n",
      "File \u001b[1;32m~\\anaconda3\\lib\\site-packages\\seaborn\\_oldcore.py:1134\u001b[0m, in \u001b[0;36mVectorPlotter.comp_data\u001b[1;34m(self)\u001b[0m\n\u001b[0;32m   1132\u001b[0m         \u001b[38;5;28;01melse\u001b[39;00m:\n\u001b[0;32m   1133\u001b[0m             comp_col \u001b[38;5;241m=\u001b[39m pd\u001b[38;5;241m.\u001b[39mSeries(dtype\u001b[38;5;241m=\u001b[39m\u001b[38;5;28mfloat\u001b[39m, name\u001b[38;5;241m=\u001b[39mvar)\n\u001b[1;32m-> 1134\u001b[0m         \u001b[43mcomp_data\u001b[49m\u001b[38;5;241;43m.\u001b[39;49m\u001b[43minsert\u001b[49m\u001b[43m(\u001b[49m\u001b[38;5;241;43m0\u001b[39;49m\u001b[43m,\u001b[49m\u001b[43m \u001b[49m\u001b[43mvar\u001b[49m\u001b[43m,\u001b[49m\u001b[43m \u001b[49m\u001b[43mcomp_col\u001b[49m\u001b[43m)\u001b[49m\n\u001b[0;32m   1136\u001b[0m     \u001b[38;5;28mself\u001b[39m\u001b[38;5;241m.\u001b[39m_comp_data \u001b[38;5;241m=\u001b[39m comp_data\n\u001b[0;32m   1138\u001b[0m \u001b[38;5;28;01mreturn\u001b[39;00m \u001b[38;5;28mself\u001b[39m\u001b[38;5;241m.\u001b[39m_comp_data\n",
      "File \u001b[1;32m~\\anaconda3\\lib\\site-packages\\pandas\\core\\frame.py:4821\u001b[0m, in \u001b[0;36mDataFrame.insert\u001b[1;34m(self, loc, column, value, allow_duplicates)\u001b[0m\n\u001b[0;32m   4818\u001b[0m \u001b[38;5;28;01mif\u001b[39;00m \u001b[38;5;129;01mnot\u001b[39;00m \u001b[38;5;28misinstance\u001b[39m(loc, \u001b[38;5;28mint\u001b[39m):\n\u001b[0;32m   4819\u001b[0m     \u001b[38;5;28;01mraise\u001b[39;00m \u001b[38;5;167;01mTypeError\u001b[39;00m(\u001b[38;5;124m\"\u001b[39m\u001b[38;5;124mloc must be int\u001b[39m\u001b[38;5;124m\"\u001b[39m)\n\u001b[1;32m-> 4821\u001b[0m value \u001b[38;5;241m=\u001b[39m \u001b[38;5;28;43mself\u001b[39;49m\u001b[38;5;241;43m.\u001b[39;49m\u001b[43m_sanitize_column\u001b[49m\u001b[43m(\u001b[49m\u001b[43mvalue\u001b[49m\u001b[43m)\u001b[49m\n\u001b[0;32m   4822\u001b[0m \u001b[38;5;28mself\u001b[39m\u001b[38;5;241m.\u001b[39m_mgr\u001b[38;5;241m.\u001b[39minsert(loc, column, value)\n",
      "File \u001b[1;32m~\\anaconda3\\lib\\site-packages\\pandas\\core\\frame.py:4912\u001b[0m, in \u001b[0;36mDataFrame._sanitize_column\u001b[1;34m(self, value)\u001b[0m\n\u001b[0;32m   4910\u001b[0m     \u001b[38;5;28;01mreturn\u001b[39;00m _reindex_for_setitem(value, \u001b[38;5;28mself\u001b[39m\u001b[38;5;241m.\u001b[39mindex)\n\u001b[0;32m   4911\u001b[0m \u001b[38;5;28;01melif\u001b[39;00m is_dict_like(value):\n\u001b[1;32m-> 4912\u001b[0m     \u001b[38;5;28;01mreturn\u001b[39;00m \u001b[43m_reindex_for_setitem\u001b[49m\u001b[43m(\u001b[49m\u001b[43mSeries\u001b[49m\u001b[43m(\u001b[49m\u001b[43mvalue\u001b[49m\u001b[43m)\u001b[49m\u001b[43m,\u001b[49m\u001b[43m \u001b[49m\u001b[38;5;28;43mself\u001b[39;49m\u001b[38;5;241;43m.\u001b[39;49m\u001b[43mindex\u001b[49m\u001b[43m)\u001b[49m\n\u001b[0;32m   4914\u001b[0m \u001b[38;5;28;01mif\u001b[39;00m is_list_like(value):\n\u001b[0;32m   4915\u001b[0m     com\u001b[38;5;241m.\u001b[39mrequire_length_match(value, \u001b[38;5;28mself\u001b[39m\u001b[38;5;241m.\u001b[39mindex)\n",
      "File \u001b[1;32m~\\anaconda3\\lib\\site-packages\\pandas\\core\\frame.py:12025\u001b[0m, in \u001b[0;36m_reindex_for_setitem\u001b[1;34m(value, index)\u001b[0m\n\u001b[0;32m  12021\u001b[0m \u001b[38;5;28;01mexcept\u001b[39;00m \u001b[38;5;167;01mValueError\u001b[39;00m \u001b[38;5;28;01mas\u001b[39;00m err:\n\u001b[0;32m  12022\u001b[0m     \u001b[38;5;66;03m# raised in MultiIndex.from_tuples, see test_insert_error_msmgs\u001b[39;00m\n\u001b[0;32m  12023\u001b[0m     \u001b[38;5;28;01mif\u001b[39;00m \u001b[38;5;129;01mnot\u001b[39;00m value\u001b[38;5;241m.\u001b[39mindex\u001b[38;5;241m.\u001b[39mis_unique:\n\u001b[0;32m  12024\u001b[0m         \u001b[38;5;66;03m# duplicate axis\u001b[39;00m\n\u001b[1;32m> 12025\u001b[0m         \u001b[38;5;28;01mraise\u001b[39;00m err\n\u001b[0;32m  12027\u001b[0m     \u001b[38;5;28;01mraise\u001b[39;00m \u001b[38;5;167;01mTypeError\u001b[39;00m(\n\u001b[0;32m  12028\u001b[0m         \u001b[38;5;124m\"\u001b[39m\u001b[38;5;124mincompatible index of inserted column with frame index\u001b[39m\u001b[38;5;124m\"\u001b[39m\n\u001b[0;32m  12029\u001b[0m     ) \u001b[38;5;28;01mfrom\u001b[39;00m \u001b[38;5;21;01merr\u001b[39;00m\n\u001b[0;32m  12030\u001b[0m \u001b[38;5;28;01mreturn\u001b[39;00m reindexed_value\n",
      "File \u001b[1;32m~\\anaconda3\\lib\\site-packages\\pandas\\core\\frame.py:12020\u001b[0m, in \u001b[0;36m_reindex_for_setitem\u001b[1;34m(value, index)\u001b[0m\n\u001b[0;32m  12018\u001b[0m \u001b[38;5;66;03m# GH#4107\u001b[39;00m\n\u001b[0;32m  12019\u001b[0m \u001b[38;5;28;01mtry\u001b[39;00m:\n\u001b[1;32m> 12020\u001b[0m     reindexed_value \u001b[38;5;241m=\u001b[39m \u001b[43mvalue\u001b[49m\u001b[38;5;241;43m.\u001b[39;49m\u001b[43mreindex\u001b[49m\u001b[43m(\u001b[49m\u001b[43mindex\u001b[49m\u001b[43m)\u001b[49m\u001b[38;5;241m.\u001b[39m_values\n\u001b[0;32m  12021\u001b[0m \u001b[38;5;28;01mexcept\u001b[39;00m \u001b[38;5;167;01mValueError\u001b[39;00m \u001b[38;5;28;01mas\u001b[39;00m err:\n\u001b[0;32m  12022\u001b[0m     \u001b[38;5;66;03m# raised in MultiIndex.from_tuples, see test_insert_error_msmgs\u001b[39;00m\n\u001b[0;32m  12023\u001b[0m     \u001b[38;5;28;01mif\u001b[39;00m \u001b[38;5;129;01mnot\u001b[39;00m value\u001b[38;5;241m.\u001b[39mindex\u001b[38;5;241m.\u001b[39mis_unique:\n\u001b[0;32m  12024\u001b[0m         \u001b[38;5;66;03m# duplicate axis\u001b[39;00m\n",
      "File \u001b[1;32m~\\anaconda3\\lib\\site-packages\\pandas\\core\\series.py:5094\u001b[0m, in \u001b[0;36mSeries.reindex\u001b[1;34m(self, *args, **kwargs)\u001b[0m\n\u001b[0;32m   5090\u001b[0m         \u001b[38;5;28;01mraise\u001b[39;00m \u001b[38;5;167;01mTypeError\u001b[39;00m(\n\u001b[0;32m   5091\u001b[0m             \u001b[38;5;124m\"\u001b[39m\u001b[38;5;124m'\u001b[39m\u001b[38;5;124mindex\u001b[39m\u001b[38;5;124m'\u001b[39m\u001b[38;5;124m passed as both positional and keyword argument\u001b[39m\u001b[38;5;124m\"\u001b[39m\n\u001b[0;32m   5092\u001b[0m         )\n\u001b[0;32m   5093\u001b[0m     kwargs\u001b[38;5;241m.\u001b[39mupdate({\u001b[38;5;124m\"\u001b[39m\u001b[38;5;124mindex\u001b[39m\u001b[38;5;124m\"\u001b[39m: index})\n\u001b[1;32m-> 5094\u001b[0m \u001b[38;5;28;01mreturn\u001b[39;00m \u001b[38;5;28msuper\u001b[39m()\u001b[38;5;241m.\u001b[39mreindex(\u001b[38;5;241m*\u001b[39m\u001b[38;5;241m*\u001b[39mkwargs)\n",
      "File \u001b[1;32m~\\anaconda3\\lib\\site-packages\\pandas\\core\\generic.py:5289\u001b[0m, in \u001b[0;36mNDFrame.reindex\u001b[1;34m(self, *args, **kwargs)\u001b[0m\n\u001b[0;32m   5286\u001b[0m     \u001b[38;5;28;01mreturn\u001b[39;00m \u001b[38;5;28mself\u001b[39m\u001b[38;5;241m.\u001b[39m_reindex_multi(axes, copy, fill_value)\n\u001b[0;32m   5288\u001b[0m \u001b[38;5;66;03m# perform the reindex on the axes\u001b[39;00m\n\u001b[1;32m-> 5289\u001b[0m \u001b[38;5;28;01mreturn\u001b[39;00m \u001b[38;5;28;43mself\u001b[39;49m\u001b[38;5;241;43m.\u001b[39;49m\u001b[43m_reindex_axes\u001b[49m\u001b[43m(\u001b[49m\n\u001b[0;32m   5290\u001b[0m \u001b[43m    \u001b[49m\u001b[43maxes\u001b[49m\u001b[43m,\u001b[49m\u001b[43m \u001b[49m\u001b[43mlevel\u001b[49m\u001b[43m,\u001b[49m\u001b[43m \u001b[49m\u001b[43mlimit\u001b[49m\u001b[43m,\u001b[49m\u001b[43m \u001b[49m\u001b[43mtolerance\u001b[49m\u001b[43m,\u001b[49m\u001b[43m \u001b[49m\u001b[43mmethod\u001b[49m\u001b[43m,\u001b[49m\u001b[43m \u001b[49m\u001b[43mfill_value\u001b[49m\u001b[43m,\u001b[49m\u001b[43m \u001b[49m\u001b[43mcopy\u001b[49m\n\u001b[0;32m   5291\u001b[0m \u001b[43m\u001b[49m\u001b[43m)\u001b[49m\u001b[38;5;241m.\u001b[39m__finalize__(\u001b[38;5;28mself\u001b[39m, method\u001b[38;5;241m=\u001b[39m\u001b[38;5;124m\"\u001b[39m\u001b[38;5;124mreindex\u001b[39m\u001b[38;5;124m\"\u001b[39m)\n",
      "File \u001b[1;32m~\\anaconda3\\lib\\site-packages\\pandas\\core\\generic.py:5309\u001b[0m, in \u001b[0;36mNDFrame._reindex_axes\u001b[1;34m(self, axes, level, limit, tolerance, method, fill_value, copy)\u001b[0m\n\u001b[0;32m   5304\u001b[0m new_index, indexer \u001b[38;5;241m=\u001b[39m ax\u001b[38;5;241m.\u001b[39mreindex(\n\u001b[0;32m   5305\u001b[0m     labels, level\u001b[38;5;241m=\u001b[39mlevel, limit\u001b[38;5;241m=\u001b[39mlimit, tolerance\u001b[38;5;241m=\u001b[39mtolerance, method\u001b[38;5;241m=\u001b[39mmethod\n\u001b[0;32m   5306\u001b[0m )\n\u001b[0;32m   5308\u001b[0m axis \u001b[38;5;241m=\u001b[39m \u001b[38;5;28mself\u001b[39m\u001b[38;5;241m.\u001b[39m_get_axis_number(a)\n\u001b[1;32m-> 5309\u001b[0m obj \u001b[38;5;241m=\u001b[39m \u001b[43mobj\u001b[49m\u001b[38;5;241;43m.\u001b[39;49m\u001b[43m_reindex_with_indexers\u001b[49m\u001b[43m(\u001b[49m\n\u001b[0;32m   5310\u001b[0m \u001b[43m    \u001b[49m\u001b[43m{\u001b[49m\u001b[43maxis\u001b[49m\u001b[43m:\u001b[49m\u001b[43m \u001b[49m\u001b[43m[\u001b[49m\u001b[43mnew_index\u001b[49m\u001b[43m,\u001b[49m\u001b[43m \u001b[49m\u001b[43mindexer\u001b[49m\u001b[43m]\u001b[49m\u001b[43m}\u001b[49m\u001b[43m,\u001b[49m\n\u001b[0;32m   5311\u001b[0m \u001b[43m    \u001b[49m\u001b[43mfill_value\u001b[49m\u001b[38;5;241;43m=\u001b[39;49m\u001b[43mfill_value\u001b[49m\u001b[43m,\u001b[49m\n\u001b[0;32m   5312\u001b[0m \u001b[43m    \u001b[49m\u001b[43mcopy\u001b[49m\u001b[38;5;241;43m=\u001b[39;49m\u001b[43mcopy\u001b[49m\u001b[43m,\u001b[49m\n\u001b[0;32m   5313\u001b[0m \u001b[43m    \u001b[49m\u001b[43mallow_dups\u001b[49m\u001b[38;5;241;43m=\u001b[39;49m\u001b[38;5;28;43;01mFalse\u001b[39;49;00m\u001b[43m,\u001b[49m\n\u001b[0;32m   5314\u001b[0m \u001b[43m\u001b[49m\u001b[43m)\u001b[49m\n\u001b[0;32m   5315\u001b[0m \u001b[38;5;66;03m# If we've made a copy once, no need to make another one\u001b[39;00m\n\u001b[0;32m   5316\u001b[0m copy \u001b[38;5;241m=\u001b[39m \u001b[38;5;28;01mFalse\u001b[39;00m\n",
      "File \u001b[1;32m~\\anaconda3\\lib\\site-packages\\pandas\\core\\generic.py:5355\u001b[0m, in \u001b[0;36mNDFrame._reindex_with_indexers\u001b[1;34m(self, reindexers, fill_value, copy, allow_dups)\u001b[0m\n\u001b[0;32m   5352\u001b[0m     indexer \u001b[38;5;241m=\u001b[39m ensure_platform_int(indexer)\n\u001b[0;32m   5354\u001b[0m \u001b[38;5;66;03m# TODO: speed up on homogeneous DataFrame objects (see _reindex_multi)\u001b[39;00m\n\u001b[1;32m-> 5355\u001b[0m new_data \u001b[38;5;241m=\u001b[39m \u001b[43mnew_data\u001b[49m\u001b[38;5;241;43m.\u001b[39;49m\u001b[43mreindex_indexer\u001b[49m\u001b[43m(\u001b[49m\n\u001b[0;32m   5356\u001b[0m \u001b[43m    \u001b[49m\u001b[43mindex\u001b[49m\u001b[43m,\u001b[49m\n\u001b[0;32m   5357\u001b[0m \u001b[43m    \u001b[49m\u001b[43mindexer\u001b[49m\u001b[43m,\u001b[49m\n\u001b[0;32m   5358\u001b[0m \u001b[43m    \u001b[49m\u001b[43maxis\u001b[49m\u001b[38;5;241;43m=\u001b[39;49m\u001b[43mbaxis\u001b[49m\u001b[43m,\u001b[49m\n\u001b[0;32m   5359\u001b[0m \u001b[43m    \u001b[49m\u001b[43mfill_value\u001b[49m\u001b[38;5;241;43m=\u001b[39;49m\u001b[43mfill_value\u001b[49m\u001b[43m,\u001b[49m\n\u001b[0;32m   5360\u001b[0m \u001b[43m    \u001b[49m\u001b[43mallow_dups\u001b[49m\u001b[38;5;241;43m=\u001b[39;49m\u001b[43mallow_dups\u001b[49m\u001b[43m,\u001b[49m\n\u001b[0;32m   5361\u001b[0m \u001b[43m    \u001b[49m\u001b[43mcopy\u001b[49m\u001b[38;5;241;43m=\u001b[39;49m\u001b[43mcopy\u001b[49m\u001b[43m,\u001b[49m\n\u001b[0;32m   5362\u001b[0m \u001b[43m\u001b[49m\u001b[43m)\u001b[49m\n\u001b[0;32m   5363\u001b[0m \u001b[38;5;66;03m# If we've made a copy once, no need to make another one\u001b[39;00m\n\u001b[0;32m   5364\u001b[0m copy \u001b[38;5;241m=\u001b[39m \u001b[38;5;28;01mFalse\u001b[39;00m\n",
      "File \u001b[1;32m~\\anaconda3\\lib\\site-packages\\pandas\\core\\internals\\managers.py:737\u001b[0m, in \u001b[0;36mBaseBlockManager.reindex_indexer\u001b[1;34m(self, new_axis, indexer, axis, fill_value, allow_dups, copy, only_slice, use_na_proxy)\u001b[0m\n\u001b[0;32m    735\u001b[0m \u001b[38;5;66;03m# some axes don't allow reindexing with dups\u001b[39;00m\n\u001b[0;32m    736\u001b[0m \u001b[38;5;28;01mif\u001b[39;00m \u001b[38;5;129;01mnot\u001b[39;00m allow_dups:\n\u001b[1;32m--> 737\u001b[0m     \u001b[38;5;28;43mself\u001b[39;49m\u001b[38;5;241;43m.\u001b[39;49m\u001b[43maxes\u001b[49m\u001b[43m[\u001b[49m\u001b[43maxis\u001b[49m\u001b[43m]\u001b[49m\u001b[38;5;241;43m.\u001b[39;49m\u001b[43m_validate_can_reindex\u001b[49m\u001b[43m(\u001b[49m\u001b[43mindexer\u001b[49m\u001b[43m)\u001b[49m\n\u001b[0;32m    739\u001b[0m \u001b[38;5;28;01mif\u001b[39;00m axis \u001b[38;5;241m>\u001b[39m\u001b[38;5;241m=\u001b[39m \u001b[38;5;28mself\u001b[39m\u001b[38;5;241m.\u001b[39mndim:\n\u001b[0;32m    740\u001b[0m     \u001b[38;5;28;01mraise\u001b[39;00m \u001b[38;5;167;01mIndexError\u001b[39;00m(\u001b[38;5;124m\"\u001b[39m\u001b[38;5;124mRequested axis not found in manager\u001b[39m\u001b[38;5;124m\"\u001b[39m)\n",
      "File \u001b[1;32m~\\anaconda3\\lib\\site-packages\\pandas\\core\\indexes\\base.py:4316\u001b[0m, in \u001b[0;36mIndex._validate_can_reindex\u001b[1;34m(self, indexer)\u001b[0m\n\u001b[0;32m   4314\u001b[0m \u001b[38;5;66;03m# trying to reindex on an axis with duplicates\u001b[39;00m\n\u001b[0;32m   4315\u001b[0m \u001b[38;5;28;01mif\u001b[39;00m \u001b[38;5;129;01mnot\u001b[39;00m \u001b[38;5;28mself\u001b[39m\u001b[38;5;241m.\u001b[39m_index_as_unique \u001b[38;5;129;01mand\u001b[39;00m \u001b[38;5;28mlen\u001b[39m(indexer):\n\u001b[1;32m-> 4316\u001b[0m     \u001b[38;5;28;01mraise\u001b[39;00m \u001b[38;5;167;01mValueError\u001b[39;00m(\u001b[38;5;124m\"\u001b[39m\u001b[38;5;124mcannot reindex on an axis with duplicate labels\u001b[39m\u001b[38;5;124m\"\u001b[39m)\n",
      "\u001b[1;31mValueError\u001b[0m: cannot reindex on an axis with duplicate labels"
     ]
    },
    {
     "data": {
      "image/png": "[encoded data removed]",
      "text/plain": [
       "<Figure size 640x480 with 1 Axes>"
      ]
     },
     "metadata": {},
     "output_type": "display_data"
    }
   ],
   "source": [
    "sns.lineplot(data=df2, x=\"공급일자(dt)\", y=\"구매금액(clean)\",\n",
    "             estimator=sum, errorbar=None)\n",
    "# 시간에 따른 판매추이, 매출의 추이\n",
    "# 1월-2월 사이에 큰 peak이 있음을 확인할 수 있다. \n",
    "# peak을 특정 event 또는 이상치라고 볼 수 있다. \n",
    "# 저 날짜를 잘 확인해보면 설날이다. \n",
    "# 도메인을 활용\n",
    "\n",
    "# 아래로 떨어지는 peak\n",
    "# 주말이나 매장이 영업을 하지 않는날\n",
    "# 주기를 갖고 매출이 떨어지는 것을 확인할 수 있다. "
   ]
  },
  {
   "cell_type": "code",
   "execution_count": null,
   "id": "90af7cba",
   "metadata": {
    "scrolled": true
   },
   "outputs": [],
   "source": [
    "plt.figure(figsize=(10, 5)) # 그림 사이즈 조정\n",
    "sns.lineplot(data=df2, x=\"공급일자(dt)\", y=\"구매금액(clean)\", \n",
    "             estimator=\"sum\", errorbar=None, hue=\"구매매장\")\n",
    "plt.savefig(\"image1.png\")# 그림 파일로 저장\n",
    "# 매장별 매출액의 추이 \n",
    "# 어느 매장에서 매출 추이가 높은지 낮은지 볼 수 있음\n",
    "# 3번 매장의 매출 추이가 높음 "
   ]
  },
  {
   "cell_type": "code",
   "execution_count": null,
   "id": "ff070999",
   "metadata": {},
   "outputs": [],
   "source": [
    "# 구매수량\n",
    "plt.figure(figsize=(10, 5)) # 그림 사이즈 조정\n",
    "sns.lineplot(data=df2, x=\"공급일자(dt)\", y=\"구매수량(clean)\", \n",
    "             estimator=\"sum\", errorbar=None, hue=\"구매매장\")\n",
    "plt.savefig(\"image1.png\")\n",
    "# 3번 매장 위치에 인구밀집도가 높다던지, \n",
    "# 3번 매장의 규모가 다른 매장에 비해 크다던지\n",
    "# 등의 추론을 해볼 수 있다. "
   ]
  },
  {
   "cell_type": "code",
   "execution_count": null,
   "id": "027b6524",
   "metadata": {},
   "outputs": [],
   "source": [
    "# 물품이 가장 많이 판매되는 요일은 무슨 요일인가? \n",
    "sns.barplot(data=df2, x=\"요일\", y=\"구매금액(clean)\", estimator=\"sum\", errorbar=None)\n",
    "# 일요일 물품 판매량이 저조하다. \n",
    "# 월요일 매출의 추이가 가장 높다. "
   ]
  },
  {
   "cell_type": "code",
   "execution_count": null,
   "id": "c973aea7",
   "metadata": {},
   "outputs": [],
   "source": [
    "# 월-일요일 순으로 요일을 정렬\n",
    "# order: 출력 순서를 list로 정의해줄 수 있음\n",
    "sns.barplot(data=df2, x=\"요일\", y=\"구매금액(clean)\", \n",
    "            estimator=\"sum\", errorbar=None,\n",
    "           order=[\"Monday\", \"Tuesday\", \"Wednesday\", \n",
    "                 \"Thursday\", \"Friday\", \"Saturday\", \"Sunday\"])"
   ]
  },
  {
   "cell_type": "code",
   "execution_count": null,
   "id": "11a8574d",
   "metadata": {},
   "outputs": [],
   "source": [
    "# 구매매장별로 요일별 판매금액 총합 계산\n",
    "sns.barplot(data=df2, x=\"요일\", y=\"구매금액(clean)\", \n",
    "            estimator=\"sum\", errorbar=None, hue=\"구매매장\",\n",
    "           order=[\"Monday\", \"Tuesday\", \"Wednesday\", \n",
    "                 \"Thursday\", \"Friday\", \"Saturday\", \"Sunday\"])"
   ]
  },
  {
   "cell_type": "markdown",
   "id": "b50d1961",
   "metadata": {},
   "source": [
    "## 2"
   ]
  },
  {
   "cell_type": "code",
   "execution_count": null,
   "id": "c7ae73a2",
   "metadata": {},
   "outputs": [],
   "source": [
    "# 고객별 구매금액과 구매수량의 합\n",
    "df2.pivot_table(index=\"회원번호\", \n",
    "                values=[\"구매금액(clean)\", \"구매수량(clean)\"],\n",
    "                aggfunc=\"sum\")"
   ]
  },
  {
   "cell_type": "code",
   "execution_count": null,
   "id": "ecae926e",
   "metadata": {},
   "outputs": [],
   "source": [
    "# storemember.csv와 병합하기 위해서 회원번호를 reset_index()로 빼낸다. \n",
    "df2_1 = df2.pivot_table(index=\"회원번호\", \n",
    "                values=[\"구매금액(clean)\", \"구매수량(clean)\"],\n",
    "                aggfunc=\"sum\").reset_index()"
   ]
  },
  {
   "cell_type": "code",
   "execution_count": null,
   "id": "1a015f60",
   "metadata": {},
   "outputs": [],
   "source": [
    "# 두 df에 모두 있는 회원번호 기준으로 merge\n",
    "# 구매금액(clean): 한명의 회원이 총 얼마를 구매했다. \n",
    "# 구매수량(clean): 한명의 회원이 총 몇개를 구매했다. \n",
    "df1_total = pd.merge(df1, df2_1, on=\"회원번호\", how=\"inner\")"
   ]
  },
  {
   "cell_type": "code",
   "execution_count": null,
   "id": "c7bc334d",
   "metadata": {},
   "outputs": [],
   "source": [
    "# 방문횟수 추가: 한명의 고객이 매장에 방문한 횟수\n",
    "# 한명의 고객이 한번 방문했을 때, 서로 다른 물품을 두개 구매하면\n",
    "# 같은 날짜에 물품이 두개 찍힌다. 행이 두개이다.\n",
    "df2"
   ]
  },
  {
   "cell_type": "code",
   "execution_count": null,
   "id": "d60b9477",
   "metadata": {},
   "outputs": [],
   "source": [
    "# 2101 회원이 17년도 1월 2일에 왔다. \n",
    "# 1월 3일에도 왔다는 식의 방문로그가 찍힌다. \n",
    "df2.pivot_table(index=[\"회원번호\", \"공급일자(dt)\"], values=\"구매수량\", \n",
    "                aggfunc=\"sum\")"
   ]
  },
  {
   "cell_type": "code",
   "execution_count": null,
   "id": "6fcee6b0",
   "metadata": {},
   "outputs": [],
   "source": [
    "df2_2 = df2.pivot_table(index=[\"회원번호\", \"공급일자(dt)\"], \n",
    "                values=\"구매수량\", aggfunc=\"sum\").reset_index()\n",
    "df2_2['총방문횟수'] = 1"
   ]
  },
  {
   "cell_type": "code",
   "execution_count": null,
   "id": "caa59028",
   "metadata": {},
   "outputs": [],
   "source": [
    "df2_2 \n",
    "# df2_2['총방문회수'] = 1\n",
    "# 가 일자별로 1씩 찍힌다. \n",
    "# 이것을 활용해서 총 방문횟수를 구한다."
   ]
  },
  {
   "cell_type": "code",
   "execution_count": null,
   "id": "49e9e6cf",
   "metadata": {},
   "outputs": [],
   "source": [
    "# df2_2['총방문회수'] = 1 하고 pivot 한번 더해서 방문회수의 합을 구한다. \n",
    "# 천천히 로직을 따라와라. 그러면 이해가 된다.\n",
    "# 총방문횟수: 한명의 회원이 6개월 동안 우리 매장에 총 몇번 방문했는지\n",
    "# 많이 방문한 고객, 적게 방문한 고객을 구할 수도 있다. \n",
    "df2_2.pivot_table(index=\"회원번호\", values=\"총방문횟수\", aggfunc=\"sum\")"
   ]
  },
  {
   "cell_type": "code",
   "execution_count": null,
   "id": "d74a3988",
   "metadata": {},
   "outputs": [],
   "source": [
    "df2_3 = df2_2.pivot_table(index=\"회원번호\", values=\"총방문횟수\", \n",
    "                  aggfunc=\"sum\").reset_index()"
   ]
  },
  {
   "cell_type": "code",
   "execution_count": null,
   "id": "81621290",
   "metadata": {},
   "outputs": [],
   "source": [
    "# 회원별 구매금액의 총합, 구매수량의 총합, 방문횟수의 총합 \n",
    "df1_total_1 = pd.merge(df1_total, df2_3, on=\"회원번호\",  how=\"inner\")"
   ]
  },
  {
   "cell_type": "code",
   "execution_count": null,
   "id": "12de336a",
   "metadata": {},
   "outputs": [],
   "source": [
    "df1_total_1"
   ]
  },
  {
   "cell_type": "code",
   "execution_count": null,
   "id": "630cdb8f",
   "metadata": {},
   "outputs": [],
   "source": [
    "# 한명의 고객이 매장에서 물품을 사갈 때,\n",
    "# 채소를 몇%사고, 축산물은 몇 % 사고, ... 사는지\n",
    "# 계산하면 구매수량의 비율을 계산할 수 있다.\n",
    "df2[\"물품대분류\"].value_counts()"
   ]
  },
  {
   "cell_type": "code",
   "execution_count": null,
   "id": "9077aa44",
   "metadata": {},
   "outputs": [],
   "source": [
    "df2.pivot_table(index=\"회원번호\", columns=\"물품대분류\",\n",
    "                values=\"구매수량(clean)\", aggfunc=\"sum\")\n",
    "# 한명의 고객이 간식물품을 몇개 구매, \n",
    "# 건강물품을 몇개 구매했는지 나온다. \n",
    "# NaN : ~물품은 구매한 적이 없다."
   ]
  },
  {
   "cell_type": "code",
   "execution_count": null,
   "id": "c635684c",
   "metadata": {},
   "outputs": [],
   "source": [
    "# NaN을 0으로 채워넣자: df.pivot_table(fill_value)\n",
    "df2.pivot_table(index=\"회원번호\", columns=\"물품대분류\", values=\"구매수량(clean)\",\n",
    "               aggfunc=\"sum\", fill_value=0)\n",
    "\n",
    "# 각각의 항목별로 나눠서 항목별 비율을 계산해줄 수 있다. "
   ]
  },
  {
   "cell_type": "code",
   "execution_count": null,
   "id": "f0e8ddda",
   "metadata": {},
   "outputs": [],
   "source": [
    "# 각각의 고객에 대해서 몇% 간식 구매했는지 \n",
    "df2.pivot_table(index=\"회원번호\", columns=\"물품대분류\", values=\"구매수량(clean)\",\n",
    "               aggfunc=\"sum\", fill_value=0, margins=True)\n",
    "\n",
    "# All : 고객별 구매수량의 합과 같음"
   ]
  },
  {
   "cell_type": "code",
   "execution_count": null,
   "id": "5f8590b4",
   "metadata": {},
   "outputs": [],
   "source": [
    "# 간식 / All, 건강 / All, ... 하면 비율이 계산된다. \n",
    "# 2101 회원이 총 381개의 물품을 구매했고,\n",
    "# 간식 30개 샀는데, 이 30을 381로 나누면\n",
    "# 이 고객이 구매한 전체 물품 중에 간식이 차지하는 비율이 산출된다. \n",
    "df2_4 = df2.pivot_table(index=\"회원번호\", columns=\"물품대분류\", values=\"구매수량(clean)\",\n",
    "               aggfunc=\"sum\", fill_value=0, margins=True).reset_index()"
   ]
  },
  {
   "cell_type": "code",
   "execution_count": null,
   "id": "6ce4d8ec",
   "metadata": {},
   "outputs": [],
   "source": [
    "# 전체 회원에 대해서, 회원별 품목 구매 비율 : 주요 품목만 계산해보자. \n",
    "# df2['물품대분류'].value_counts() 에서 수가 큰 품목만 계산해보자. \n",
    "# 채소부터 주류까지만 해보자. \n",
    "df2_4['간식(%)'] = df2_4['간식'] / df2_4['All']\n",
    "df2_4['건강(%)'] = df2_4['건강'] / df2_4['All']\n",
    "df2_4['과실(%)'] = df2_4['과실'] / df2_4['All']\n",
    "df2_4['생활용품\t(%)'] = df2_4['생활용품'] / df2_4['All']\n",
    "df2_4['서류(%)'] = df2_4['서류'] / df2_4['All']\n",
    "df2_4['수산(%)'] = df2_4['수산'] / df2_4['All']\n",
    "df2_4['양념/가루(%)'] = df2_4['양념/가루'] / df2_4['All']\n",
    "df2_4['음료(%)'] = df2_4['음료'] / df2_4['All']\n",
    "df2_4['잡곡(%)'] = df2_4['잡곡'] / df2_4['All']\n",
    "df2_4['주곡(%)'] = df2_4['주곡'] / df2_4['All']\n",
    "df2_4['주류(%)'] = df2_4['주류'] / df2_4['All']\n",
    "df2_4['채소(%)'] = df2_4['채소'] / df2_4['All']\n",
    "df2_4['축산물(%)'] = df2_4['축산물'] / df2_4['All']\n",
    "# 이 고객이 간식을 몇% 구매하고, \n",
    "# ~으  몇 % 구매했는지 "
   ]
  },
  {
   "cell_type": "code",
   "execution_count": null,
   "id": "77b11010",
   "metadata": {},
   "outputs": [],
   "source": [
    "df2_4"
   ]
  },
  {
   "cell_type": "code",
   "execution_count": null,
   "id": "537a5e52",
   "metadata": {},
   "outputs": [],
   "source": [
    "# 일일이 타이핑할 필요 없이, \n",
    "# 아래에서 필요한 data(위에서 계산한 비율 + 병합에 필요한 '회원번호')만 뽑아보자. \n",
    "df2_4.columns"
   ]
  },
  {
   "cell_type": "code",
   "execution_count": null,
   "id": "fec61b0d",
   "metadata": {},
   "outputs": [],
   "source": [
    "df2_5 = df2_4[['회원번호', '간식(%)', '건강(%)',\n",
    "       '과실(%)', '생활용품\\t(%)', '서류(%)', '수산(%)', '양념/가루(%)', '음료(%)', '잡곡(%)',\n",
    "       '주곡(%)', '주류(%)', '채소(%)', '축산물(%)']]"
   ]
  },
  {
   "cell_type": "code",
   "execution_count": null,
   "id": "1f366668",
   "metadata": {},
   "outputs": [],
   "source": [
    "pd.merge(df1_total_1, df2_5, on=\"회원번호\", how=\"inner\")"
   ]
  },
  {
   "cell_type": "markdown",
   "id": "8c1c6a85",
   "metadata": {},
   "source": [
    "```python\n",
    "ValueError: You are trying to merge on int64 and object columns. If you wish to proceed you should use pd.concat\n",
    "```\n",
    "\n",
    "위 에러는 다음과 같은 이유로 발생했다: "
   ]
  },
  {
   "cell_type": "code",
   "execution_count": null,
   "id": "ee5e8085",
   "metadata": {},
   "outputs": [],
   "source": [
    "df2_5[\"회원번호\"] # 4285 행에 All이 있으므로 dtype이 object이다. \n",
    "# margins 때문에 All이 들어갔다. "
   ]
  },
  {
   "cell_type": "code",
   "execution_count": null,
   "id": "d54f6c8d",
   "metadata": {},
   "outputs": [],
   "source": [
    "df1_total_1[\"회원번호\"] # dtype이 int64이다. \n",
    "# dtype이 달라서 에러가 발생했다. "
   ]
  },
  {
   "cell_type": "code",
   "execution_count": null,
   "id": "47be299e",
   "metadata": {},
   "outputs": [],
   "source": [
    "# 해결방안: All 빼고, int64로 변환시킨 뒤에 merge를 해보자. "
   ]
  },
  {
   "cell_type": "code",
   "execution_count": null,
   "id": "6c0fb446",
   "metadata": {},
   "outputs": [],
   "source": [
    "df2_5[\"회원번호\"].iloc[:-1] # All만 빼기. "
   ]
  },
  {
   "cell_type": "code",
   "execution_count": null,
   "id": "97cc7f40",
   "metadata": {},
   "outputs": [],
   "source": [
    "df2_5[\"회원번호\"].iloc[:-1].astype(int) # All 뺀 ser의 dtype을 int로 변환"
   ]
  },
  {
   "cell_type": "code",
   "execution_count": null,
   "id": "150bc040",
   "metadata": {},
   "outputs": [],
   "source": [
    "df2_5[\"회원번호\"] = df2_5[\"회원번호\"].iloc[:-1].astype(int)"
   ]
  },
  {
   "cell_type": "code",
   "execution_count": null,
   "id": "025a16a6",
   "metadata": {},
   "outputs": [],
   "source": [
    "# 물품 대분류별 구매비율까지. \n",
    "df_total = pd.merge(df1_total_1, df2_5, on=\"회원번호\", how=\"inner\")"
   ]
  },
  {
   "cell_type": "code",
   "execution_count": null,
   "id": "2214efd1",
   "metadata": {
    "scrolled": false
   },
   "outputs": [],
   "source": [
    "df_total"
   ]
  },
  {
   "cell_type": "code",
   "execution_count": null,
   "id": "cfb83287",
   "metadata": {},
   "outputs": [],
   "source": [
    "# 추가 파생변수 생성: 총 구매금액을 방문횟수로 나눠주면, \n",
    "# 1회 방문 당 평균 구매금액을 계산할 수 있다. \n",
    "df_total[\"1회방문시평균구매금액\"] = df_total[\"구매금액(clean)\"] / df_total[\"총방문횟수\"]"
   ]
  },
  {
   "cell_type": "code",
   "execution_count": null,
   "id": "bc61f462",
   "metadata": {},
   "outputs": [],
   "source": [
    "# 1회방문시평균구매금액: 고객이 1회 방문했을 때 \n",
    "df_total.head()"
   ]
  },
  {
   "cell_type": "code",
   "execution_count": null,
   "id": "57c4987b",
   "metadata": {},
   "outputs": [],
   "source": [
    "# 다양한 파생변수를 만들 때 이 데이터를 다시 사용할거다. \n",
    "# pivoting\n",
    "# pandas profiling: 데이터에 대한 전반적인 요약"
   ]
  },
  {
   "cell_type": "markdown",
   "id": "5b78a290",
   "metadata": {},
   "source": [
    "Mission\n",
    "1. 처리한 데이터를 바탕으로, '공급일자(dt)'에 따른 '구매금액(clean)'의 합을 sns.lineplot( ) 함수를 활용하여, '물품대분류' 별 로 판매 추이를 확인하는 그래프를 그려보세요!\n",
    "\n",
    "2. 병합 된 df_total 데이터를 이용하여, '성별'에 따른 '총방문횟수'의 평균을 sns.barplot( ) 함수를 활용하여, 시각화 해보세요!\n",
    "\n",
    "3. df_total 데이터에서 '회원상태'에 따라 '총방문횟수'의 유의미한 차이가 있는지 확인해 보기위해, '회원상태'에 따른 '총방문횟수'의 평균을 pivot_table 함수를 이용해 계산해 보세요!"
   ]
  },
  {
   "cell_type": "code",
   "execution_count": null,
   "id": "c76fc4b3",
   "metadata": {},
   "outputs": [],
   "source": []
  },
  {
   "cell_type": "code",
   "execution_count": null,
   "id": "a423e11e",
   "metadata": {},
   "outputs": [],
   "source": []
  },
  {
   "cell_type": "code",
   "execution_count": null,
   "id": "8e7dc203",
   "metadata": {},
   "outputs": [],
   "source": []
  },
  {
   "cell_type": "code",
   "execution_count": null,
   "id": "02fbcab5",
   "metadata": {},
   "outputs": [],
   "source": []
  },
  {
   "cell_type": "code",
   "execution_count": null,
   "id": "99858cfe",
   "metadata": {},
   "outputs": [],
   "source": []
  }
 ],
 "metadata": {
  "kernelspec": {
   "display_name": "Python 3 (ipykernel)",
   "language": "python",
   "name": "python3"
  },
  "language_info": {
   "codemirror_mode": {
    "name": "ipython",
    "version": 3
   },
   "file_extension": ".py",
   "mimetype": "text/x-python",
   "name": "python",
   "nbconvert_exporter": "python",
   "pygments_lexer": "ipython3",
   "version": "3.10.9"
  }
 },
 "nbformat": 4,
 "nbformat_minor": 5
}
