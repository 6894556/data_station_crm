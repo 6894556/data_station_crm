{
 "cells": [
  {
   "cell_type": "markdown",
   "id": "8ab38faf",
   "metadata": {},
   "source": [
    "### os.makedirs(name, exist_ok)\n",
    "- name: MODEL_DIR\n",
    "- exist_ok: True이면 존재하지 않을 때만 mkdir 한다. 존재하면 error 없이 넘어간다.\n",
    "- 따라서 os.mkdir를 사용하려면 if not os.path.exits(MODEL_DIR)이 필요하고 os.makedirs를 사용할거라면 존재여부 파악이 필요 없다."
   ]
  },
  {
   "cell_type": "markdown",
   "id": "1ba0b65d",
   "metadata": {},
   "source": [
    "### model.compile()\n",
    "- metrics: List of metrics to be evaluated by the model during training and testing. Each of these can be a string (name of a built-in function), function, or a `tf.keras.metrics.Metric` instance. See `tf.keras.metrics`. Typically, you will use `metrics=['accuracy']`.\n"
   ]
  },
  {
   "cell_type": "markdown",
   "id": "7ad34036",
   "metadata": {},
   "source": [
    "-keras.utils.to_categorical(\n",
    "    y, num_classes=None, dtype='float32'\n",
    ")"
   ]
  },
  {
   "cell_type": "markdown",
   "id": "d43f59d0",
   "metadata": {},
   "source": [
    "### plt.legend(bbox_to_anchor)\n",
    "\n",
    "bbox_to_anchor : `.BboxBase`, 2-tuple, or 4-tuple of floats\n",
    "    Box that is used to position the legend in conjunction with *loc*.\n",
    "    Defaults to `axes.bbox` (if called as a method to `.Axes.legend`) or\n",
    "    `figure.bbox` (if `.Figure.legend`).  This argument allows arbitrary\n",
    "    placement of the legend.\n"
   ]
  },
  {
   "cell_type": "markdown",
   "id": "585c18b2",
   "metadata": {},
   "source": [
    "df.select_dtypes(include=np.number)"
   ]
  },
  {
   "cell_type": "markdown",
   "id": "baeb8a2b",
   "metadata": {},
   "source": [
    "#### MODEL_DIR = \"./saved_models/\"일 때, os.makedirs(MODEL_DIR, exist_ok=True) 를 사용하면 os.path.exists(MODEL_DIR)가 필요 없다.\n",
    "맞습니다. `os.makedirs()` 함수에 `exist_ok=True` 옵션을 사용하면, 이미 디렉토리가 존재하는 경우에도 에러를 발생시키지 않고 넘어갑니다. 따라서, `os.path.exists(MODEL_DIR)`로 디렉토리의 존재 여부를 확인할 필요가 없습니다.\n",
    "\n",
    "`os.makedirs(MODEL_DIR, exist_ok=True)`는 다음과 같은 동작을 수행합니다:\n",
    "\n",
    "- 만약 `MODEL_DIR`에 해당하는 디렉토리가 이미 존재하면, 아무런 작업을 하지 않고 넘어갑니다.\n",
    "- 만약 `MODEL_DIR`에 해당하는 디렉토리가 존재하지 않으면, 새로운 디렉토리를 생성합니다.\n",
    "\n",
    "따라서, `os.path.exists(MODEL_DIR)`를 사용하여 디렉토리의 존재 여부를 확인하는 대신에 `os.makedirs(MODEL_DIR, exist_ok=True)`를 사용하여 디렉토리를 생성하는 것이 간편하고 효율적입니다."
   ]
  },
  {
   "cell_type": "markdown",
   "id": "679cbab8",
   "metadata": {},
   "source": [
    "MODEL_DIR\n",
    "> model에서 saved_models로 변경함"
   ]
  },
  {
   "cell_type": "markdown",
   "id": "db7c634c",
   "metadata": {},
   "source": [
    "`.`, `./`, 그리고 `/`는 파일 경로를 지정하는데 사용되는 특수한 기호입니다. 아래에 각 기호의 의미를 설명하겠습니다:\n",
    "\n",
    "1. `.` (닷): 현재 작업 디렉토리를 나타냅니다. 즉, `.`은 현재 디렉토리를 의미합니다. 파일 경로에서 `.`을 사용하면 현재 디렉토리를 참조하는 것을 의미합니다.\n",
    "\n",
    "2. `./` (닷 슬래시): 현재 디렉토리를 기준으로 상대적인 경로를 지정합니다. `./`은 현재 디렉토리를 나타내는 것으로, 파일 경로에서 `./`을 사용하면 현재 디렉토리에서부터 상대적인 경로를 지정하는 것을 의미합니다.\n",
    "\n",
    "3. `/` (슬래시): 절대 경로를 나타냅니다. `/`는 파일 시스템의 루트 디렉토리를 의미하며, 파일 경로에서 `/`를 사용하면 파일 시스템의 루트 디렉토리에서부터 절대적인 경로를 지정하는 것을 의미합니다.\n",
    "\n",
    "따라서, `./model/`은 현재 디렉토리에서부터 상대적인 경로로 `model`이라는 이름의 디렉토리를 의미합니다. `./`을 생략하고 `/model/`로 작성해도 동일한 의미가 됩니다."
   ]
  },
  {
   "cell_type": "markdown",
   "id": "41d0319a",
   "metadata": {},
   "source": [
    "- binary classification problem\n",
    "> LabelEncoder & model.compile(loss=\"binary_crossentropy\")\n",
    "\n",
    "- multi-class classification problem\n",
    "> 1-HOT encoding & model.compile(loss=\"categorical_crossentropy\")"
   ]
  },
  {
   "cell_type": "code",
   "execution_count": 9,
   "id": "bbd5b25d",
   "metadata": {},
   "outputs": [],
   "source": [
    "# 어떤 코드로 data를 살펴보셨는지 정리\n",
    "import pandas as pd\n",
    "pd.options.display.float_format = '{:.2f}'.format # 소수점 이하 두자리까지만 출력\n",
    "pd.set_option('display.max_columns', None) # 생략되는 컬럼이 없도록 설정\n",
    "import numpy as np"
   ]
  },
  {
   "cell_type": "code",
   "execution_count": 2,
   "id": "6f0f7991",
   "metadata": {
    "scrolled": true
   },
   "outputs": [
    {
     "data": {
      "text/plain": [
       "{'',\n",
       " '#N/A',\n",
       " '#N/A N/A',\n",
       " '#NA',\n",
       " '-1.#IND',\n",
       " '-1.#QNAN',\n",
       " '-NaN',\n",
       " '-nan',\n",
       " '1.#IND',\n",
       " '1.#QNAN',\n",
       " '<NA>',\n",
       " 'N/A',\n",
       " 'NA',\n",
       " 'NULL',\n",
       " 'NaN',\n",
       " 'n/a',\n",
       " 'nan',\n",
       " 'null'}"
      ]
     },
     "execution_count": 2,
     "metadata": {},
     "output_type": "execute_result"
    }
   ],
   "source": [
    "pd._libs.parsers.STR_NA_VALUES # pd에서 결측값으로 처리하는 string 모임"
   ]
  },
  {
   "cell_type": "markdown",
   "id": "f0bdbd54",
   "metadata": {},
   "source": [
    "plt.imshow\n",
    "- cmap : str or `~matplotlib.colors.Colormap`, default: :rc:`image.cmap`\n",
    "    The Colormap instance or registered colormap name used to map scalar data\n",
    "    to colors.\n",
    "\n",
    "    This parameter is ignored if *X* is RGB(A)."
   ]
  },
  {
   "cell_type": "markdown",
   "id": "5d810946",
   "metadata": {},
   "source": [
    "plt.axis\n",
    "- option : bool or str\n",
    "    If a bool, turns axis lines and labels on or off. If a string,\n",
    "    possible values are:\n"
   ]
  },
  {
   "cell_type": "markdown",
   "id": "174523f8",
   "metadata": {},
   "source": [
    "| Value   | Description                                                                                     |\n",
    "|---------|-------------------------------------------------------------------------------------------------|\n",
    "| 'on'    | Turn on axis lines and labels. Same as `True`.                                                  |\n",
    "| 'off'   | Turn off axis lines and labels. Same as `False`.                                                |\n",
    "| 'equal' | Set equal scaling (i.e., make circles circular) by changing axis limits.                        |\n",
    "|         | This is the same as `ax.set_aspect('equal', adjustable='datalim')`.                             |\n",
    "|         | Explicit data limits may not be respected in this case.                                         |\n",
    "| 'scaled'| Set equal scaling (i.e., make circles circular) by changing dimensions of the plot box.         |\n",
    "|         | This is the same as `ax.set_aspect('equal', adjustable='box', anchor='C')`.                     |\n",
    "|         | Additionally, further autoscaling will be disabled.                                             |\n",
    "| 'tight' | Set limits just large enough to show all data, then disable further autoscaling.                 |\n",
    "| 'auto'  | Automatic scaling (fill plot box with data).                                                    |\n",
    "| 'image' | 'scaled' with axis limits equal to data limits.                                                  |\n",
    "| 'square'| Square plot; similar to 'scaled', but initially forcing `xmax-xmin == ymax-ymin`.               |\n"
   ]
  },
  {
   "cell_type": "markdown",
   "id": "d1d73551",
   "metadata": {},
   "source": [
    "anacondata prompt\n",
    "- conda install pydot\n",
    "- condata install graphviz"
   ]
  },
  {
   "cell_type": "markdown",
   "id": "745b4fa8",
   "metadata": {},
   "source": [
    "- \\ 를 붙이면 줄바꿔도 에러가 발생하지 않는다:\n",
    "> df1[[\"Sales_Type\", \"Term\", \"Product_Type\", \"Overdue_count\"]]\\\\\n",
    ".sort_values(by=\"Term\", ascending=False).head(50)"
   ]
  },
  {
   "cell_type": "markdown",
   "id": "71428729",
   "metadata": {},
   "source": [
    "pd.DataFrame.sample\n",
    "> df에서 정해진 비율만큼 row를 랜덤하게 뽑아오는 함수"
   ]
  },
  {
   "cell_type": "markdown",
   "id": "eff4bad1",
   "metadata": {},
   "source": [
    "## pd.read_csv\n",
    "일단 default로 불러와서 어떤 option을 변경해야 할지 파악한다\n",
    "- names = [\"Date\", \"col\"]\n",
    "- parse_dates = [\"Date\"]\n",
    "- index_col = \"Date\""
   ]
  },
  {
   "cell_type": "markdown",
   "id": "f6d54d15",
   "metadata": {},
   "source": [
    "## df.describe\n",
    "사람이 보기 편하기 위한 반올림\n",
    "- round(df.describe(), 2)\n",
    "- pd.options.display.float_format = '{:.2f}'.format"
   ]
  },
  {
   "cell_type": "markdown",
   "id": "6fe024f9",
   "metadata": {},
   "source": [
    "### Datetimeindex\n",
    "\n",
    "- 기간 : df.index.max() - df.index.min()\n",
    "- start date: df.index.min()\n",
    "- end date: df.index.max()\n",
    "- df[\"col2\"] = pd.to_datetime(df[\"col1\"], format=\"형식\")"
   ]
  },
  {
   "cell_type": "markdown",
   "id": "aa22403a",
   "metadata": {},
   "source": [
    "## df.count\n",
    "- For each column/row the number of non-NA/null entries.\n",
    "- descirbe()의 count값과 유사하다."
   ]
  },
  {
   "cell_type": "markdown",
   "id": "e59c0cec",
   "metadata": {},
   "source": [
    "## pd.DataFrame.isnull().sum()\n",
    "- pd.DataFrame.isna().sum()\n",
    "- df.copy()\n",
    "> pd.dropna(inplace=True)\n",
    "- "
   ]
  },
  {
   "cell_type": "code",
   "execution_count": 7,
   "id": "75e97fdd",
   "metadata": {},
   "outputs": [
    {
     "data": {
      "text/plain": [
       "18.72986111111111"
      ]
     },
     "execution_count": 7,
     "metadata": {},
     "output_type": "execute_result"
    }
   ],
   "source": [
    "# 26971분의 출처? 결측기간은 총 몇 분인가?\n",
    "# 26971분은 18.7일이다.\n",
    "26971/60/24\n",
    "# 26971분은 전체기간의 0.01%이다.\n",
    "# 따라서 결측기간 data를 날려도 된다.\n",
    "#26971 / len(df_)"
   ]
  },
  {
   "cell_type": "markdown",
   "id": "c99fc748",
   "metadata": {},
   "source": [
    "## seaborn\n",
    "sns.distplot(data, y, hue, multiple, aspect) : **null 처리 전**\n",
    "> - data = df.isna().melt(value_name=\"missing\"),\n",
    "> - y = \"variable\"\n",
    "> - hue = \"missing\"\n",
    "> - multiple = \"fill\"\n",
    "> - aspect = 2.25\n",
    "- melt 넣으면 runtime이 길어진다.\n",
    "- - sns.distplot(data, y, hue, multiple, aspect) : **null 처리 후**\n",
    "> - data = df.dropna().isna().melt(value_name=\"missing),\n",
    "> - y = \"variable\"\n",
    "> - hue = \"missing\"\n",
    "> - multiple = \"fill\"\n",
    "> - aspect = 2.25"
   ]
  },
  {
   "cell_type": "markdown",
   "id": "41535a12",
   "metadata": {},
   "source": [
    "### sns.countplot\n",
    "요일별 sample 개수를 bar chart로\n",
    "- data: df1\n",
    "- x : \"주문요일\""
   ]
  },
  {
   "cell_type": "markdown",
   "id": "3539cbb8",
   "metadata": {},
   "source": [
    "### sns.lineplot\n",
    "일별 상품 구매 금액의 총합(매출)\n",
    "- data: df1\n",
    "- x: \"주문일(datetime)\"\n",
    "- y: \"상품구매금액\"\n",
    "- estimator: \"sum\""
   ]
  },
  {
   "cell_type": "markdown",
   "id": "534a6566",
   "metadata": {},
   "source": [
    "## matplotlib\n",
    "- plt.style.use(\"ggplot\")\n",
    "- plt.rc(\"font\", family=\"NanumGothic\") : minus sign 미지원\n",
    "- %matplotlib tk : figure를 밖으로 빼기 (loop 불가)\n",
    "- %matplotlib inline : figure를 안으로 넣기 (loop 가능)"
   ]
  },
  {
   "cell_type": "markdown",
   "id": "6a76d980",
   "metadata": {},
   "source": [
    "### plt.plot\n",
    "- array : pd.Series\n",
    "- alpha: float\n",
    "- c: str\n",
    "- label: str\n",
    "- plt.legend(loc = 'upper right')"
   ]
  },
  {
   "cell_type": "markdown",
   "id": "d814cf4c",
   "metadata": {},
   "source": [
    "plt.figure(figsize=(13, 5))\n",
    "plt.title(\"Origin col1\", fontsize=14)\n",
    "plt.plot(df[\"col1\"])\n",
    "plt.scatter(df.index, df[\"col1\"], s=30, c='green')\n",
    "plt.show()"
   ]
  },
  {
   "cell_type": "markdown",
   "id": "b7107d03",
   "metadata": {},
   "source": [
    "### plt.twinx().plot()\n",
    "- array: pd.Series\n",
    "- c: str\n",
    "- label: str"
   ]
  },
  {
   "cell_type": "markdown",
   "id": "7cd44071",
   "metadata": {},
   "source": [
    "## col 시각화"
   ]
  },
  {
   "cell_type": "markdown",
   "id": "93ef8ad7",
   "metadata": {},
   "source": [
    "Series 시각화: \n",
    "for i in df_.columns:\n",
    "    plt.plot(df_[i], label=i)\n",
    "    plt.legend()\n",
    "    plt.show()"
   ]
  },
  {
   "cell_type": "markdown",
   "id": "2050a7e1",
   "metadata": {},
   "source": [
    "for i in df_.columns:\n",
    "    print(i)"
   ]
  },
  {
   "cell_type": "markdown",
   "id": "d747fc48",
   "metadata": {},
   "source": [
    "## indexing"
   ]
  },
  {
   "cell_type": "markdown",
   "id": "61bb32de",
   "metadata": {},
   "source": [
    "새로운 변수 df_n에 assign\n",
    "- df[df[\"col1\"] < int]][\"col1\"] : pd.Series를 리턴\n",
    "- df.filter(items={\"col1\"})\n",
    "- df[df[\"col1\"].between(n, m)][\"col1\"]\n",
    "- df[\"pct\"] = df[\"col1\"].pct_change(periods=5)\n",
    "> - df[df[\"pct\"].between(r, s)]\n",
    "> - plt.plot(df[\"col1\"])\n",
    "> - plt.twtinx().plot(df[\"pct\"])\n",
    "> - df[df[\"pct\"] < float]\n",
    "- df_.loc[:, \"col1\"].to_frame()"
   ]
  },
  {
   "cell_type": "markdown",
   "id": "1d1d1fed",
   "metadata": {},
   "source": [
    "### Correlation 마스크\n",
    "mask = np.zeros_like(df_111.corr(), dtype=bool)\n",
    "mask[np.triu_indices_from(mask)] = True\n",
    "sns.heatmap(df.corr(), annot=True, mask=mask)"
   ]
  },
  {
   "cell_type": "markdown",
   "id": "e5e097fc",
   "metadata": {},
   "source": [
    "## df.filter(items)\n",
    "Subset the dataframe rows or columns according to the specified index labels.\n",
    "- items : Keep labels from axis which are in items\n",
    "- see also: DataFrame.loc"
   ]
  },
  {
   "cell_type": "code",
   "execution_count": 10,
   "id": "eeb15c57",
   "metadata": {},
   "outputs": [
    {
     "data": {
      "text/html": [
       "<div>\n",
       "<style scoped>\n",
       "    .dataframe tbody tr th:only-of-type {\n",
       "        vertical-align: middle;\n",
       "    }\n",
       "\n",
       "    .dataframe tbody tr th {\n",
       "        vertical-align: top;\n",
       "    }\n",
       "\n",
       "    .dataframe thead th {\n",
       "        text-align: right;\n",
       "    }\n",
       "</style>\n",
       "<table border=\"1\" class=\"dataframe\">\n",
       "  <thead>\n",
       "    <tr style=\"text-align: right;\">\n",
       "      <th></th>\n",
       "      <th>one</th>\n",
       "      <th>two</th>\n",
       "      <th>three</th>\n",
       "    </tr>\n",
       "  </thead>\n",
       "  <tbody>\n",
       "    <tr>\n",
       "      <th>mouse</th>\n",
       "      <td>1</td>\n",
       "      <td>2</td>\n",
       "      <td>3</td>\n",
       "    </tr>\n",
       "    <tr>\n",
       "      <th>rabbit</th>\n",
       "      <td>4</td>\n",
       "      <td>5</td>\n",
       "      <td>6</td>\n",
       "    </tr>\n",
       "  </tbody>\n",
       "</table>\n",
       "</div>"
      ],
      "text/plain": [
       "        one  two  three\n",
       "mouse     1    2      3\n",
       "rabbit    4    5      6"
      ]
     },
     "execution_count": 10,
     "metadata": {},
     "output_type": "execute_result"
    }
   ],
   "source": [
    "# e.g.\n",
    "df = pd.DataFrame(np.array(([1, 2, 3], [4, 5, 6])),\n",
    "index=['mouse', 'rabbit'],\n",
    "columns=['one', 'two', 'three'])\n",
    "df"
   ]
  },
  {
   "cell_type": "code",
   "execution_count": 11,
   "id": "bf50a63b",
   "metadata": {},
   "outputs": [
    {
     "data": {
      "text/html": [
       "<div>\n",
       "<style scoped>\n",
       "    .dataframe tbody tr th:only-of-type {\n",
       "        vertical-align: middle;\n",
       "    }\n",
       "\n",
       "    .dataframe tbody tr th {\n",
       "        vertical-align: top;\n",
       "    }\n",
       "\n",
       "    .dataframe thead th {\n",
       "        text-align: right;\n",
       "    }\n",
       "</style>\n",
       "<table border=\"1\" class=\"dataframe\">\n",
       "  <thead>\n",
       "    <tr style=\"text-align: right;\">\n",
       "      <th></th>\n",
       "      <th>one</th>\n",
       "      <th>three</th>\n",
       "    </tr>\n",
       "  </thead>\n",
       "  <tbody>\n",
       "    <tr>\n",
       "      <th>mouse</th>\n",
       "      <td>1</td>\n",
       "      <td>3</td>\n",
       "    </tr>\n",
       "    <tr>\n",
       "      <th>rabbit</th>\n",
       "      <td>4</td>\n",
       "      <td>6</td>\n",
       "    </tr>\n",
       "  </tbody>\n",
       "</table>\n",
       "</div>"
      ],
      "text/plain": [
       "        one  three\n",
       "mouse     1      3\n",
       "rabbit    4      6"
      ]
     },
     "execution_count": 11,
     "metadata": {},
     "output_type": "execute_result"
    }
   ],
   "source": [
    "#select columns by name\n",
    "df.filter(items=['one', 'three'])"
   ]
  },
  {
   "cell_type": "code",
   "execution_count": 12,
   "id": "af339680",
   "metadata": {},
   "outputs": [],
   "source": [
    "#Subset the dataframe rows or columns according to the specified index labels.\n",
    "#help(pd.DataFrame.filter)"
   ]
  },
  {
   "cell_type": "markdown",
   "id": "af167268",
   "metadata": {},
   "source": [
    "### [pd.Series.to_frame](https://pandas.pydata.org/docs/reference/api/pandas.Series.to_frame.html)\n",
    "- Convert Series to DataFrame"
   ]
  },
  {
   "cell_type": "markdown",
   "id": "8f254b91",
   "metadata": {},
   "source": [
    "### pd.DataFrame.pct_change\n",
    "Percentage change between the current and a prior element\n",
    "- periods: Periods to shift for forming percent change\n",
    "- Make and return a second axes that shares the *x*-axis. <br> The new axes will\n",
    "    overlay *ax* (or the current axes if *ax* is *None*), and its ticks will be\n",
    "    on the right."
   ]
  },
  {
   "cell_type": "code",
   "execution_count": null,
   "id": "bf9a11f2",
   "metadata": {},
   "outputs": [],
   "source": []
  }
 ],
 "metadata": {
  "kernelspec": {
   "display_name": "Python 3 (ipykernel)",
   "language": "python",
   "name": "python3"
  },
  "language_info": {
   "codemirror_mode": {
    "name": "ipython",
    "version": 3
   },
   "file_extension": ".py",
   "mimetype": "text/x-python",
   "name": "python",
   "nbconvert_exporter": "python",
   "pygments_lexer": "ipython3",
   "version": "3.10.9"
  }
 },
 "nbformat": 4,
 "nbformat_minor": 5
}
