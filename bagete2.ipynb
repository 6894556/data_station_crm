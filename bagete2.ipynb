{
 "cells": [
  {
   "cell_type": "code",
   "execution_count": 2,
   "id": "d67eb65c",
   "metadata": {},
   "outputs": [],
   "source": [
    "import numpy as np\n",
    "import pandas as pd\n",
    "import warnings\n",
    "warnings.filterwarnings(\"ignore\")"
   ]
  },
  {
   "cell_type": "markdown",
   "id": "d4f2bfe0",
   "metadata": {},
   "source": [
    "Fireshot은 크롬 브라우저에서 사용할 수 있는 화면 캡처 및 스크린샷 도구입니다. 아래는 Fireshot의 기본 사용법입니다:\n",
    "\n",
    "1. Fireshot 설치: 크롬 웹 스토어에서 Fireshot 확장 프로그램을 검색하고 설치합니다.\n",
    "\n",
    "2. 화면 캡처: Fireshot 아이콘을 클릭하거나 키보드 단축키(F12)를 사용하여 Fireshot을 활성화합니다. 그 후 다음 중 하나의 방법으로 화면을 캡처할 수 있습니다:\n",
    "   - 전체 화면 캡처: \"Capture entire page\"을 선택하거나 `Ctrl + Shift + E`를 누릅니다.\n",
    "   - 선택 영역 캡처: \"Capture selection\"을 선택하거나 `Ctrl + Shift + S`를 누릅니다. 마우스로 캡처하려는 영역을 드래그합니다.\n",
    "   - 스크롤 영역 캡처: \"Capture region\"을 선택하거나 `Ctrl + Shift + R`를 누릅니다. 화면에서 스크롤이 가능한 영역을 선택하면 Fireshot이 자동으로 스크롤하여 전체 내용을 캡처합니다.\n",
    "\n",
    "3. 캡처 편집: 캡처된 이미지가 Fireshot 편집 창에 열립니다. 여기에서 다양한 편집 도구와 기능을 사용하여 이미지를 편집할 수 있습니다. 텍스트 추가, 모자이크 처리, 화살표 및 도형 그리기, 하이라이트 등의 작업을 수행할 수 있습니다.\n",
    "\n",
    "4. 저장 및 공유: 편집이 완료되면 Fireshot에서 이미지를 저장하거나 원하는 형식(PNG, JPEG, PDF 등)으로 내보낼 수 있습니다. 또한 Fireshot을 통해 이미지를 소셜 미디어에 공유할 수도 있습니다.\n",
    "\n",
    "Fireshot은 다양한 고급 기능과 옵션도 제공하므로 사용자 맞춤 설정 및 기능 활용을 위해 설정 메뉴를 살펴보는 것이 좋습니다."
   ]
  },
  {
   "cell_type": "markdown",
   "id": "edacfc5d",
   "metadata": {},
   "source": [
    "{name: i for i, name inenumerate(label_columns)}"
   ]
  },
  {
   "cell_type": "markdown",
   "id": "2eb43636",
   "metadata": {},
   "source": [
    "sns.violinplot(x=\"Column\", y=\"Normalized\", data=df_std) <br>\n",
    "_ = ax.set_xticklabels(df.keys(), rotation=90)"
   ]
  },
  {
   "cell_type": "markdown",
   "id": "053bce5e",
   "metadata": {},
   "source": [
    "plt.step(f_per_year, np.abs(fft)"
   ]
  },
  {
   "cell_type": "markdown",
   "id": "3acf4b05",
   "metadata": {},
   "source": [
    "tf.signal.rfft(df4[\"T (degC)\"])"
   ]
  },
  {
   "cell_type": "markdown",
   "id": "10c45eba",
   "metadata": {},
   "source": [
    "date_time.map(pd.Timestamp.timestamp)"
   ]
  },
  {
   "cell_type": "markdown",
   "id": "cc94255e",
   "metadata": {},
   "source": [
    "plt.colorbar()"
   ]
  },
  {
   "cell_type": "markdown",
   "id": "0eb885ad",
   "metadata": {},
   "source": [
    "plt.gca()"
   ]
  },
  {
   "cell_type": "markdown",
   "id": "2893ce4e",
   "metadata": {},
   "source": [
    "plt.hist2d(x, y, bins=(50, 50), vmax=400)"
   ]
  },
  {
   "cell_type": "markdown",
   "id": "a04c2072",
   "metadata": {},
   "source": [
    "df.describe().transpose()"
   ]
  },
  {
   "cell_type": "markdown",
   "id": "fdb14150",
   "metadata": {},
   "source": [
    "df.plot(subplots=True)"
   ]
  },
  {
   "cell_type": "markdown",
   "id": "e7157d85",
   "metadata": {},
   "source": [
    "df.pop('Date Time')\n",
    "[pop](https://pandas.pydata.org/docs/reference/api/pandas.DataFrame.pop.html) \n",
    "> Return item and drop from frame. Raise KeyError if not found."
   ]
  },
  {
   "cell_type": "code",
   "execution_count": 4,
   "id": "c8e28d5d",
   "metadata": {},
   "outputs": [],
   "source": [
    "df = pd.DataFrame([('falcon', 'bird', 389.0),\n",
    "             ('parrot', 'bird', 24.0),\n",
    "             ('monkey', 'animal', np.nan)],\n",
    "            columns=('name', 'class', 'max_speed'))"
   ]
  },
  {
   "cell_type": "code",
   "execution_count": 5,
   "id": "df69b17e",
   "metadata": {},
   "outputs": [
    {
     "data": {
      "text/html": [
       "<div>\n",
       "<style scoped>\n",
       "    .dataframe tbody tr th:only-of-type {\n",
       "        vertical-align: middle;\n",
       "    }\n",
       "\n",
       "    .dataframe tbody tr th {\n",
       "        vertical-align: top;\n",
       "    }\n",
       "\n",
       "    .dataframe thead th {\n",
       "        text-align: right;\n",
       "    }\n",
       "</style>\n",
       "<table border=\"1\" class=\"dataframe\">\n",
       "  <thead>\n",
       "    <tr style=\"text-align: right;\">\n",
       "      <th></th>\n",
       "      <th>name</th>\n",
       "      <th>class</th>\n",
       "      <th>max_speed</th>\n",
       "    </tr>\n",
       "  </thead>\n",
       "  <tbody>\n",
       "    <tr>\n",
       "      <th>0</th>\n",
       "      <td>falcon</td>\n",
       "      <td>bird</td>\n",
       "      <td>389.0</td>\n",
       "    </tr>\n",
       "    <tr>\n",
       "      <th>1</th>\n",
       "      <td>parrot</td>\n",
       "      <td>bird</td>\n",
       "      <td>24.0</td>\n",
       "    </tr>\n",
       "    <tr>\n",
       "      <th>2</th>\n",
       "      <td>monkey</td>\n",
       "      <td>animal</td>\n",
       "      <td>NaN</td>\n",
       "    </tr>\n",
       "  </tbody>\n",
       "</table>\n",
       "</div>"
      ],
      "text/plain": [
       "     name   class  max_speed\n",
       "0  falcon    bird      389.0\n",
       "1  parrot    bird       24.0\n",
       "2  monkey  animal        NaN"
      ]
     },
     "execution_count": 5,
     "metadata": {},
     "output_type": "execute_result"
    }
   ],
   "source": [
    "df"
   ]
  },
  {
   "cell_type": "code",
   "execution_count": 6,
   "id": "69f35717",
   "metadata": {},
   "outputs": [
    {
     "data": {
      "text/plain": [
       "0      bird\n",
       "1      bird\n",
       "2    animal\n",
       "Name: class, dtype: object"
      ]
     },
     "execution_count": 6,
     "metadata": {},
     "output_type": "execute_result"
    }
   ],
   "source": [
    "df.pop('class')"
   ]
  },
  {
   "cell_type": "code",
   "execution_count": 7,
   "id": "cf3d7b55",
   "metadata": {},
   "outputs": [
    {
     "data": {
      "text/html": [
       "<div>\n",
       "<style scoped>\n",
       "    .dataframe tbody tr th:only-of-type {\n",
       "        vertical-align: middle;\n",
       "    }\n",
       "\n",
       "    .dataframe tbody tr th {\n",
       "        vertical-align: top;\n",
       "    }\n",
       "\n",
       "    .dataframe thead th {\n",
       "        text-align: right;\n",
       "    }\n",
       "</style>\n",
       "<table border=\"1\" class=\"dataframe\">\n",
       "  <thead>\n",
       "    <tr style=\"text-align: right;\">\n",
       "      <th></th>\n",
       "      <th>name</th>\n",
       "      <th>max_speed</th>\n",
       "    </tr>\n",
       "  </thead>\n",
       "  <tbody>\n",
       "    <tr>\n",
       "      <th>0</th>\n",
       "      <td>falcon</td>\n",
       "      <td>389.0</td>\n",
       "    </tr>\n",
       "    <tr>\n",
       "      <th>1</th>\n",
       "      <td>parrot</td>\n",
       "      <td>24.0</td>\n",
       "    </tr>\n",
       "    <tr>\n",
       "      <th>2</th>\n",
       "      <td>monkey</td>\n",
       "      <td>NaN</td>\n",
       "    </tr>\n",
       "  </tbody>\n",
       "</table>\n",
       "</div>"
      ],
      "text/plain": [
       "     name  max_speed\n",
       "0  falcon      389.0\n",
       "1  parrot       24.0\n",
       "2  monkey        NaN"
      ]
     },
     "execution_count": 7,
     "metadata": {},
     "output_type": "execute_result"
    }
   ],
   "source": [
    "df"
   ]
  },
  {
   "cell_type": "code",
   "execution_count": null,
   "id": "fac4d03c",
   "metadata": {},
   "outputs": [],
   "source": []
  },
  {
   "cell_type": "markdown",
   "id": "db6433b4",
   "metadata": {},
   "source": [
    "df[start:stop:step]: tarting from index 5 take every 6th record.\n",
    "> "
   ]
  },
  {
   "cell_type": "markdown",
   "id": "be0b0a91",
   "metadata": {},
   "source": [
    "tf.keras.utils.get_file(origin, fname, extract)\n",
    "> os.path.splitext(zip_path)"
   ]
  },
  {
   "cell_type": "markdown",
   "id": "39a1dd65",
   "metadata": {},
   "source": [
    "matplotlib 설정\n",
    "- plt.rcParams['agg.path.chunksize'] = 1000\n",
    "- mpl.rcParams['axes.unicode_minus'] = False \n",
    "> 한글폰트사용시 마이너스 글자가 깨지는 현상을 처리\n",
    "- mpl.rcParams['font.family'] = 'Malgun Gothic'\n",
    "> windows 폰트 설정\n",
    "- mpl.rcParams['font.size'] = 15\n",
    "> 글자 크기\n",
    "- mpl.rcParams[\"figure.figsize\"] = (20,10)\n",
    "- mpl.rcParams['lines.linewidth'] = 1"
   ]
  },
  {
   "cell_type": "markdown",
   "id": "2cf7c3e2",
   "metadata": {},
   "source": [
    "df.rename(columns={}, inplace)\n",
    "> column 이름 변경"
   ]
  },
  {
   "cell_type": "markdown",
   "id": "70886c7f",
   "metadata": {},
   "source": [
    "df.interpolate()\n",
    "> 선형 보간법"
   ]
  },
  {
   "cell_type": "markdown",
   "id": "7b374ddb",
   "metadata": {},
   "source": [
    "아래는 Jupyter Notebook에서 유용한 단축키들의 목록입니다:\n",
    "\n",
    "1. **Shift + Enter**: 현재 셀 실행 및 다음 셀로 이동\n",
    "2. **Ctrl + Enter**: 현재 셀 실행\n",
    "3. **Alt + Enter**: 현재 셀 실행 후 새로운 셀 추가\n",
    "4. **Esc**: 셀 편집 모드에서 노트북 모드로 전환\n",
    "5. **Enter**: 노트북 모드에서 셀 편집 모드로 전환\n",
    "6. **A**: 현재 셀 위에 새로운 셀 추가\n",
    "7. **B**: 현재 셀 아래에 새로운 셀 추가\n",
    "8. **X**: 현재 셀 삭제\n",
    "9. **Z**: 셀 삭제 취소\n",
    "10. **M**: 현재 셀을 Markdown 셀로 변경\n",
    "11. **Y**: 현재 셀을 Code 셀로 변경\n",
    "12. **Ctrl + S**: 노트북 저장\n",
    "13. **Shift + Tab**: 현재 커서 위치에서 함수나 메소드에 대한 도움말 보기\n",
    "14. **Shift + Tab + Tab**: 함수나 메소드에 대한 상세 도움말 보기\n",
    "15. **Ctrl + Shift + -**: 현재 커서 위치에서 셀 분할\n",
    "16. **Ctrl + /**: 주석 추가 및 제거\n",
    "\n",
    "위의 단축키들은 Jupyter Notebook에서 기본적으로 제공되는 것들입니다. 추가적인 단축키는 Jupyter Notebook 설정에서 확인할 수 있습니다. 이러한 단축키들을 사용하여 더 효율적으로 Jupyter Notebook을 활용할 수 있습니다."
   ]
  },
  {
   "cell_type": "markdown",
   "id": "db2d4d32",
   "metadata": {},
   "source": [
    "### os.makedirs(name, exist_ok)\n",
    "- name: MODEL_DIR\n",
    "- exist_ok: True이면 존재하지 않을 때만 mkdir 한다. 존재하면 error 없이 넘어간다.\n",
    "- 따라서 os.mkdir를 사용하려면 if not os.path.exits(MODEL_DIR)이 필요하고 os.makedirs를 사용할거라면 존재여부 파악이 필요 없다."
   ]
  },
  {
   "cell_type": "markdown",
   "id": "bc125994",
   "metadata": {},
   "source": [
    "### model.compile()\n",
    "- metrics: List of metrics to be evaluated by the model during training and testing. Each of these can be a string (name of a built-in function), function, or a `tf.keras.metrics.Metric` instance. See `tf.keras.metrics`. Typically, you will use `metrics=['accuracy']`.\n"
   ]
  },
  {
   "cell_type": "markdown",
   "id": "f529b819",
   "metadata": {},
   "source": [
    "-keras.utils.to_categorical(\n",
    "    y, num_classes=None, dtype='float32'\n",
    ")"
   ]
  },
  {
   "cell_type": "markdown",
   "id": "b8f34f56",
   "metadata": {},
   "source": [
    "### plt.legend(bbox_to_anchor)\n",
    "\n",
    "bbox_to_anchor : `.BboxBase`, 2-tuple, or 4-tuple of floats\n",
    "    Box that is used to position the legend in conjunction with *loc*.\n",
    "    Defaults to `axes.bbox` (if called as a method to `.Axes.legend`) or\n",
    "    `figure.bbox` (if `.Figure.legend`).  This argument allows arbitrary\n",
    "    placement of the legend.\n"
   ]
  },
  {
   "cell_type": "markdown",
   "id": "a1167812",
   "metadata": {},
   "source": [
    "df.select_dtypes(include=np.number)"
   ]
  },
  {
   "cell_type": "markdown",
   "id": "baeb8a2b",
   "metadata": {},
   "source": [
    "#### MODEL_DIR = \"./saved_models/\"일 때, os.makedirs(MODEL_DIR, exist_ok=True) 를 사용하면 os.path.exists(MODEL_DIR)가 필요 없다.\n",
    "맞습니다. `os.makedirs()` 함수에 `exist_ok=True` 옵션을 사용하면, 이미 디렉토리가 존재하는 경우에도 에러를 발생시키지 않고 넘어갑니다. 따라서, `os.path.exists(MODEL_DIR)`로 디렉토리의 존재 여부를 확인할 필요가 없습니다.\n",
    "\n",
    "`os.makedirs(MODEL_DIR, exist_ok=True)`는 다음과 같은 동작을 수행합니다:\n",
    "\n",
    "- 만약 `MODEL_DIR`에 해당하는 디렉토리가 이미 존재하면, 아무런 작업을 하지 않고 넘어갑니다.\n",
    "- 만약 `MODEL_DIR`에 해당하는 디렉토리가 존재하지 않으면, 새로운 디렉토리를 생성합니다.\n",
    "\n",
    "따라서, `os.path.exists(MODEL_DIR)`를 사용하여 디렉토리의 존재 여부를 확인하는 대신에 `os.makedirs(MODEL_DIR, exist_ok=True)`를 사용하여 디렉토리를 생성하는 것이 간편하고 효율적입니다."
   ]
  },
  {
   "cell_type": "markdown",
   "id": "679cbab8",
   "metadata": {},
   "source": [
    "MODEL_DIR\n",
    "> model에서 saved_models로 변경함"
   ]
  },
  {
   "cell_type": "markdown",
   "id": "db7c634c",
   "metadata": {},
   "source": [
    "`.`, `./`, 그리고 `/`는 파일 경로를 지정하는데 사용되는 특수한 기호입니다. 아래에 각 기호의 의미를 설명하겠습니다:\n",
    "\n",
    "1. `.` (닷): 현재 작업 디렉토리를 나타냅니다. 즉, `.`은 현재 디렉토리를 의미합니다. 파일 경로에서 `.`을 사용하면 현재 디렉토리를 참조하는 것을 의미합니다.\n",
    "\n",
    "2. `./` (닷 슬래시): 현재 디렉토리를 기준으로 상대적인 경로를 지정합니다. `./`은 현재 디렉토리를 나타내는 것으로, 파일 경로에서 `./`을 사용하면 현재 디렉토리에서부터 상대적인 경로를 지정하는 것을 의미합니다.\n",
    "\n",
    "3. `/` (슬래시): 절대 경로를 나타냅니다. `/`는 파일 시스템의 루트 디렉토리를 의미하며, 파일 경로에서 `/`를 사용하면 파일 시스템의 루트 디렉토리에서부터 절대적인 경로를 지정하는 것을 의미합니다.\n",
    "\n",
    "따라서, `./model/`은 현재 디렉토리에서부터 상대적인 경로로 `model`이라는 이름의 디렉토리를 의미합니다. `./`을 생략하고 `/model/`로 작성해도 동일한 의미가 됩니다."
   ]
  },
  {
   "cell_type": "markdown",
   "id": "41d0319a",
   "metadata": {},
   "source": [
    "- binary classification problem\n",
    "> LabelEncoder & model.compile(loss=\"binary_crossentropy\")\n",
    "\n",
    "- multi-class classification problem\n",
    "> 1-HOT encoding & model.compile(loss=\"categorical_crossentropy\")"
   ]
  },
  {
   "cell_type": "code",
   "execution_count": 9,
   "id": "bbd5b25d",
   "metadata": {},
   "outputs": [],
   "source": [
    "# 어떤 코드로 data를 살펴보셨는지 정리\n",
    "import pandas as pd\n",
    "pd.options.display.float_format = '{:.2f}'.format # 소수점 이하 두자리까지만 출력\n",
    "pd.set_option('display.max_columns', None) # 생략되는 컬럼이 없도록 설정\n",
    "import numpy as np"
   ]
  },
  {
   "cell_type": "code",
   "execution_count": 2,
   "id": "6f0f7991",
   "metadata": {
    "scrolled": true
   },
   "outputs": [
    {
     "data": {
      "text/plain": [
       "{'',\n",
       " '#N/A',\n",
       " '#N/A N/A',\n",
       " '#NA',\n",
       " '-1.#IND',\n",
       " '-1.#QNAN',\n",
       " '-NaN',\n",
       " '-nan',\n",
       " '1.#IND',\n",
       " '1.#QNAN',\n",
       " '<NA>',\n",
       " 'N/A',\n",
       " 'NA',\n",
       " 'NULL',\n",
       " 'NaN',\n",
       " 'n/a',\n",
       " 'nan',\n",
       " 'null'}"
      ]
     },
     "execution_count": 2,
     "metadata": {},
     "output_type": "execute_result"
    }
   ],
   "source": [
    "pd._libs.parsers.STR_NA_VALUES # pd에서 결측값으로 처리하는 string 모임"
   ]
  },
  {
   "cell_type": "markdown",
   "id": "f0bdbd54",
   "metadata": {},
   "source": [
    "plt.imshow\n",
    "- cmap : str or `~matplotlib.colors.Colormap`, default: :rc:`image.cmap`\n",
    "    The Colormap instance or registered colormap name used to map scalar data\n",
    "    to colors.\n",
    "\n",
    "    This parameter is ignored if *X* is RGB(A)."
   ]
  },
  {
   "cell_type": "markdown",
   "id": "5d810946",
   "metadata": {},
   "source": [
    "plt.axis\n",
    "- option : bool or str\n",
    "    If a bool, turns axis lines and labels on or off. If a string,\n",
    "    possible values are:\n"
   ]
  },
  {
   "cell_type": "markdown",
   "id": "174523f8",
   "metadata": {},
   "source": [
    "| Value   | Description                                                                                     |\n",
    "|---------|-------------------------------------------------------------------------------------------------|\n",
    "| 'on'    | Turn on axis lines and labels. Same as `True`.                                                  |\n",
    "| 'off'   | Turn off axis lines and labels. Same as `False`.                                                |\n",
    "| 'equal' | Set equal scaling (i.e., make circles circular) by changing axis limits.                        |\n",
    "|         | This is the same as `ax.set_aspect('equal', adjustable='datalim')`.                             |\n",
    "|         | Explicit data limits may not be respected in this case.                                         |\n",
    "| 'scaled'| Set equal scaling (i.e., make circles circular) by changing dimensions of the plot box.         |\n",
    "|         | This is the same as `ax.set_aspect('equal', adjustable='box', anchor='C')`.                     |\n",
    "|         | Additionally, further autoscaling will be disabled.                                             |\n",
    "| 'tight' | Set limits just large enough to show all data, then disable further autoscaling.                 |\n",
    "| 'auto'  | Automatic scaling (fill plot box with data).                                                    |\n",
    "| 'image' | 'scaled' with axis limits equal to data limits.                                                  |\n",
    "| 'square'| Square plot; similar to 'scaled', but initially forcing `xmax-xmin == ymax-ymin`.               |\n"
   ]
  },
  {
   "cell_type": "markdown",
   "id": "d1d73551",
   "metadata": {},
   "source": [
    "anacondata prompt\n",
    "- conda install pydot\n",
    "- condata install graphviz"
   ]
  },
  {
   "cell_type": "markdown",
   "id": "745b4fa8",
   "metadata": {},
   "source": [
    "- \\ 를 붙이면 줄바꿔도 에러가 발생하지 않는다:\n",
    "> df1[[\"Sales_Type\", \"Term\", \"Product_Type\", \"Overdue_count\"]]\\\\\n",
    ".sort_values(by=\"Term\", ascending=False).head(50)"
   ]
  },
  {
   "cell_type": "markdown",
   "id": "71428729",
   "metadata": {},
   "source": [
    "pd.DataFrame.sample\n",
    "> df에서 정해진 비율만큼 row를 랜덤하게 뽑아오는 함수"
   ]
  },
  {
   "cell_type": "markdown",
   "id": "eff4bad1",
   "metadata": {},
   "source": [
    "## pd.read_csv\n",
    "일단 default로 불러와서 어떤 option을 변경해야 할지 파악한다\n",
    "- names = [\"Date\", \"col\"]\n",
    "- parse_dates = [\"Date\"]\n",
    "- index_col = \"Date\"\n",
    "\n",
    "\n",
    "- UnicodeDecodeError: 'utf-8' codec can't decode byte 0xb0 in position 0: invalid start byte\n",
    "> encoding=\"cp949\"를 add 하면 해결됨"
   ]
  },
  {
   "cell_type": "markdown",
   "id": "f6d54d15",
   "metadata": {},
   "source": [
    "## df.describe\n",
    "사람이 보기 편하기 위한 반올림\n",
    "- round(df.describe(), 2)\n",
    "- pd.options.display.float_format = '{:.2f}'.format"
   ]
  },
  {
   "cell_type": "code",
   "execution_count": null,
   "id": "f39824fe",
   "metadata": {},
   "outputs": [],
   "source": []
  },
  {
   "cell_type": "markdown",
   "id": "6fe024f9",
   "metadata": {},
   "source": [
    "### Datetimeindex\n",
    "\n",
    "- 기간 : df.index.max() - df.index.min()\n",
    "- start date: df.index.min()\n",
    "- end date: df.index.max()\n",
    "- df[\"col2\"] = pd.to_datetime(df[\"col1\"], format=\"형식\")\n",
    "- df1[\"주문연도\"] = df1[\"주문일(dt)\"].dt.year\n",
    "- df1[\"주문월\"] = df1[\"주문일(dt)\"].dt.month\n",
    "- df1[\"주문주차\"] = df1[\"주문일(dt)\"].dt.isocalendar().week\n",
    "- df1[\"주문요일\"] = df1[\"주문일(dt)\"].dt.day_name()\n",
    "\n",
    "#### pd.to_datetime(ser, format)\n",
    "- ser : 날자 데이터 pd.Series\n",
    "- format: 날짜 데이터 string의 [format](https://docs.python.org/3/library/datetime.html#strftime-and-strptime-behavior)\n",
    "> - %Y: Year with century as a decimal number.\n",
    "> - %m: Month as a **zero-padded** decimal number.\n",
    "> - %d:Day of the month as a **zero-padded** decimal number."
   ]
  },
  {
   "cell_type": "markdown",
   "id": "aa22403a",
   "metadata": {},
   "source": [
    "## df.count\n",
    "- For each column/row the number of non-NA/null entries.\n",
    "- descirbe()의 count값과 유사하다."
   ]
  },
  {
   "cell_type": "markdown",
   "id": "e59c0cec",
   "metadata": {},
   "source": [
    "## pd.DataFrame.isnull().sum()\n",
    "- pd.DataFrame.isna().sum()\n",
    "- df.copy()\n",
    "> pd.dropna(inplace=True)\n",
    "- "
   ]
  },
  {
   "cell_type": "code",
   "execution_count": 7,
   "id": "75e97fdd",
   "metadata": {},
   "outputs": [
    {
     "data": {
      "text/plain": [
       "18.72986111111111"
      ]
     },
     "execution_count": 7,
     "metadata": {},
     "output_type": "execute_result"
    }
   ],
   "source": [
    "# 26971분의 출처? 결측기간은 총 몇 분인가?\n",
    "# 26971분은 18.7일이다.\n",
    "26971/60/24\n",
    "# 26971분은 전체기간의 0.01%이다.\n",
    "# 따라서 결측기간 data를 날려도 된다.\n",
    "#26971 / len(df_)"
   ]
  },
  {
   "cell_type": "markdown",
   "id": "c99fc748",
   "metadata": {},
   "source": [
    "## seaborn\n",
    "sns.distplot(data, y, hue, multiple, aspect) : **null 처리 전**\n",
    "> - data = df.isna().melt(value_name=\"missing\"),\n",
    "> - y = \"variable\"\n",
    "> - hue = \"missing\"\n",
    "> - multiple = \"fill\"\n",
    "> - aspect = 2.25\n",
    "- melt 넣으면 runtime이 길어진다.\n",
    "- - sns.distplot(data, y, hue, multiple, aspect) : **null 처리 후**\n",
    "> - data = df.dropna().isna().melt(value_name=\"missing),\n",
    "> - y = \"variable\"\n",
    "> - hue = \"missing\"\n",
    "> - multiple = \"fill\"\n",
    "> - aspect = 2.25"
   ]
  },
  {
   "cell_type": "markdown",
   "id": "41535a12",
   "metadata": {},
   "source": [
    "### sns.countplot\n",
    "요일별 sample 개수를 bar chart로\n",
    "- data: df1\n",
    "- x : \"주문요일\""
   ]
  },
  {
   "cell_type": "markdown",
   "id": "3539cbb8",
   "metadata": {},
   "source": [
    "### sns.lineplot\n",
    "일별 상품 구매 금액의 총합(매출)\n",
    "- data: df1\n",
    "- x: \"주문일(datetime)\"\n",
    "- y: \"상품구매금액\"\n",
    "- estimator: \"sum\""
   ]
  },
  {
   "cell_type": "markdown",
   "id": "534a6566",
   "metadata": {},
   "source": [
    "## matplotlib\n",
    "- plt.style.use(\"ggplot\")\n",
    "- plt.rc(\"font\", family=\"NanumGothic\") : minus sign 미지원\n",
    "- %matplotlib tk : figure를 밖으로 빼기 (loop 불가)\n",
    "- %matplotlib inline : figure를 안으로 넣기 (loop 가능)"
   ]
  },
  {
   "cell_type": "markdown",
   "id": "6a76d980",
   "metadata": {},
   "source": [
    "### plt.plot\n",
    "- array : pd.Series\n",
    "- alpha: float\n",
    "- c: str\n",
    "- label: str\n",
    "- plt.legend(loc = 'upper right')"
   ]
  },
  {
   "cell_type": "markdown",
   "id": "d814cf4c",
   "metadata": {},
   "source": [
    "plt.figure(figsize=(13, 5))\n",
    "plt.title(\"Origin col1\", fontsize=14)\n",
    "plt.plot(df[\"col1\"])\n",
    "plt.scatter(df.index, df[\"col1\"], s=30, c='green')\n",
    "plt.show()"
   ]
  },
  {
   "cell_type": "markdown",
   "id": "b7107d03",
   "metadata": {},
   "source": [
    "### plt.twinx().plot()\n",
    "- array: pd.Series\n",
    "- c: str\n",
    "- label: str"
   ]
  },
  {
   "cell_type": "markdown",
   "id": "7cd44071",
   "metadata": {},
   "source": [
    "## col 시각화"
   ]
  },
  {
   "cell_type": "markdown",
   "id": "93ef8ad7",
   "metadata": {},
   "source": [
    "Series 시각화: \n",
    "for i in df_.columns:\n",
    "    plt.plot(df_[i], label=i)\n",
    "    plt.legend()\n",
    "    plt.show()"
   ]
  },
  {
   "cell_type": "markdown",
   "id": "2050a7e1",
   "metadata": {},
   "source": [
    "for i in df_.columns:\n",
    "    print(i)"
   ]
  },
  {
   "cell_type": "markdown",
   "id": "d747fc48",
   "metadata": {},
   "source": [
    "## indexing"
   ]
  },
  {
   "cell_type": "markdown",
   "id": "61bb32de",
   "metadata": {},
   "source": [
    "새로운 변수 df_n에 assign\n",
    "- df[df[\"col1\"] < int]][\"col1\"] : pd.Series를 리턴\n",
    "- df.filter(items={\"col1\"})\n",
    "- df[df[\"col1\"].between(n, m)][\"col1\"]\n",
    "- df[\"pct\"] = df[\"col1\"].pct_change(periods=5)\n",
    "> - df[df[\"pct\"].between(r, s)]\n",
    "> - plt.plot(df[\"col1\"])\n",
    "> - plt.twtinx().plot(df[\"pct\"])\n",
    "> - df[df[\"pct\"] < float]\n",
    "- df_.loc[:, \"col1\"].to_frame()"
   ]
  },
  {
   "cell_type": "markdown",
   "id": "1d1d1fed",
   "metadata": {},
   "source": [
    "### Correlation 마스크\n",
    "mask = np.zeros_like(df_111.corr(), dtype=bool)\n",
    "mask[np.triu_indices_from(mask)] = True\n",
    "sns.heatmap(df.corr(), annot=True, mask=mask)"
   ]
  },
  {
   "cell_type": "markdown",
   "id": "e5e097fc",
   "metadata": {},
   "source": [
    "## df.filter(items)\n",
    "Subset the dataframe rows or columns according to the specified index labels.\n",
    "- items : Keep labels from axis which are in items\n",
    "- see also: DataFrame.loc"
   ]
  },
  {
   "cell_type": "code",
   "execution_count": 10,
   "id": "eeb15c57",
   "metadata": {},
   "outputs": [
    {
     "data": {
      "text/html": [
       "<div>\n",
       "<style scoped>\n",
       "    .dataframe tbody tr th:only-of-type {\n",
       "        vertical-align: middle;\n",
       "    }\n",
       "\n",
       "    .dataframe tbody tr th {\n",
       "        vertical-align: top;\n",
       "    }\n",
       "\n",
       "    .dataframe thead th {\n",
       "        text-align: right;\n",
       "    }\n",
       "</style>\n",
       "<table border=\"1\" class=\"dataframe\">\n",
       "  <thead>\n",
       "    <tr style=\"text-align: right;\">\n",
       "      <th></th>\n",
       "      <th>one</th>\n",
       "      <th>two</th>\n",
       "      <th>three</th>\n",
       "    </tr>\n",
       "  </thead>\n",
       "  <tbody>\n",
       "    <tr>\n",
       "      <th>mouse</th>\n",
       "      <td>1</td>\n",
       "      <td>2</td>\n",
       "      <td>3</td>\n",
       "    </tr>\n",
       "    <tr>\n",
       "      <th>rabbit</th>\n",
       "      <td>4</td>\n",
       "      <td>5</td>\n",
       "      <td>6</td>\n",
       "    </tr>\n",
       "  </tbody>\n",
       "</table>\n",
       "</div>"
      ],
      "text/plain": [
       "        one  two  three\n",
       "mouse     1    2      3\n",
       "rabbit    4    5      6"
      ]
     },
     "execution_count": 10,
     "metadata": {},
     "output_type": "execute_result"
    }
   ],
   "source": [
    "# e.g.\n",
    "df = pd.DataFrame(np.array(([1, 2, 3], [4, 5, 6])),\n",
    "index=['mouse', 'rabbit'],\n",
    "columns=['one', 'two', 'three'])\n",
    "df"
   ]
  },
  {
   "cell_type": "code",
   "execution_count": 11,
   "id": "bf50a63b",
   "metadata": {},
   "outputs": [
    {
     "data": {
      "text/html": [
       "<div>\n",
       "<style scoped>\n",
       "    .dataframe tbody tr th:only-of-type {\n",
       "        vertical-align: middle;\n",
       "    }\n",
       "\n",
       "    .dataframe tbody tr th {\n",
       "        vertical-align: top;\n",
       "    }\n",
       "\n",
       "    .dataframe thead th {\n",
       "        text-align: right;\n",
       "    }\n",
       "</style>\n",
       "<table border=\"1\" class=\"dataframe\">\n",
       "  <thead>\n",
       "    <tr style=\"text-align: right;\">\n",
       "      <th></th>\n",
       "      <th>one</th>\n",
       "      <th>three</th>\n",
       "    </tr>\n",
       "  </thead>\n",
       "  <tbody>\n",
       "    <tr>\n",
       "      <th>mouse</th>\n",
       "      <td>1</td>\n",
       "      <td>3</td>\n",
       "    </tr>\n",
       "    <tr>\n",
       "      <th>rabbit</th>\n",
       "      <td>4</td>\n",
       "      <td>6</td>\n",
       "    </tr>\n",
       "  </tbody>\n",
       "</table>\n",
       "</div>"
      ],
      "text/plain": [
       "        one  three\n",
       "mouse     1      3\n",
       "rabbit    4      6"
      ]
     },
     "execution_count": 11,
     "metadata": {},
     "output_type": "execute_result"
    }
   ],
   "source": [
    "#select columns by name\n",
    "df.filter(items=['one', 'three'])"
   ]
  },
  {
   "cell_type": "code",
   "execution_count": 12,
   "id": "af339680",
   "metadata": {},
   "outputs": [],
   "source": [
    "#Subset the dataframe rows or columns according to the specified index labels.\n",
    "#help(pd.DataFrame.filter)"
   ]
  },
  {
   "cell_type": "markdown",
   "id": "af167268",
   "metadata": {},
   "source": [
    "### [pd.Series.to_frame](https://pandas.pydata.org/docs/reference/api/pandas.Series.to_frame.html)\n",
    "- Convert Series to DataFrame"
   ]
  },
  {
   "cell_type": "markdown",
   "id": "8f254b91",
   "metadata": {},
   "source": [
    "### pd.DataFrame.pct_change\n",
    "Percentage change between the current and a prior element\n",
    "- periods: Periods to shift for forming percent change\n",
    "- Make and return a second axes that shares the *x*-axis. <br> The new axes will\n",
    "    overlay *ax* (or the current axes if *ax* is *None*), and its ticks will be\n",
    "    on the right."
   ]
  },
  {
   "cell_type": "code",
   "execution_count": null,
   "id": "bf9a11f2",
   "metadata": {},
   "outputs": [],
   "source": []
  }
 ],
 "metadata": {
  "kernelspec": {
   "display_name": "Python 3 (ipykernel)",
   "language": "python",
   "name": "python3"
  },
  "language_info": {
   "codemirror_mode": {
    "name": "ipython",
    "version": 3
   },
   "file_extension": ".py",
   "mimetype": "text/x-python",
   "name": "python",
   "nbconvert_exporter": "python",
   "pygments_lexer": "ipython3",
   "version": "3.10.9"
  }
 },
 "nbformat": 4,
 "nbformat_minor": 5
}
