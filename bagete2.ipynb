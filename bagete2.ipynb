{
 "cells": [
  {
   "cell_type": "code",
   "execution_count": 9,
   "id": "bbd5b25d",
   "metadata": {},
   "outputs": [],
   "source": [
    "# 어떤 코드로 data를 살펴보셨는지 정리\n",
    "import pandas as pd\n",
    "import numpy as np"
   ]
  },
  {
   "cell_type": "code",
   "execution_count": 2,
   "id": "6f0f7991",
   "metadata": {},
   "outputs": [
    {
     "data": {
      "text/plain": [
       "{'',\n",
       " '#N/A',\n",
       " '#N/A N/A',\n",
       " '#NA',\n",
       " '-1.#IND',\n",
       " '-1.#QNAN',\n",
       " '-NaN',\n",
       " '-nan',\n",
       " '1.#IND',\n",
       " '1.#QNAN',\n",
       " '<NA>',\n",
       " 'N/A',\n",
       " 'NA',\n",
       " 'NULL',\n",
       " 'NaN',\n",
       " 'n/a',\n",
       " 'nan',\n",
       " 'null'}"
      ]
     },
     "execution_count": 2,
     "metadata": {},
     "output_type": "execute_result"
    }
   ],
   "source": [
    "pd._libs.parsers.STR_NA_VALUES # pd에서 결측값으로 처리하는 string 모임"
   ]
  },
  {
   "cell_type": "markdown",
   "id": "eff4bad1",
   "metadata": {},
   "source": [
    "## pd.read_csv\n",
    "일단 default로 불러와서 어떤 option을 변경해야 할지 파악한다\n",
    "- names = [\"Date\", \"col\"]\n",
    "- parse_dates = [\"Date\"]\n",
    "- index_col = \"Date\""
   ]
  },
  {
   "cell_type": "markdown",
   "id": "f6d54d15",
   "metadata": {},
   "source": [
    "## df.describe\n",
    "사람이 보기 편하기 위한 반올림\n",
    "- round(df.describe(), 2)\n",
    "- pd.options.display.float_format = '{:.2f}'.format"
   ]
  },
  {
   "cell_type": "markdown",
   "id": "6fe024f9",
   "metadata": {},
   "source": [
    "### Datetimeindex\n",
    "\n",
    "- 기간 : df.index.max() - df.index.min()\n",
    "- start date: df.index.min()\n",
    "- end date: df.index.max()"
   ]
  },
  {
   "cell_type": "markdown",
   "id": "aa22403a",
   "metadata": {},
   "source": [
    "## df.count\n",
    "- For each column/row the number of non-NA/null entries.\n",
    "- descirbe()의 count값과 유사하다."
   ]
  },
  {
   "cell_type": "markdown",
   "id": "e59c0cec",
   "metadata": {},
   "source": [
    "## pd.DataFrame.isnull().sum()\n",
    "- pd.DataFrame.isna().sum()\n",
    "- df.copy()\n",
    "> pd.dropna(inplace=True)\n",
    "- "
   ]
  },
  {
   "cell_type": "code",
   "execution_count": 7,
   "id": "75e97fdd",
   "metadata": {},
   "outputs": [
    {
     "data": {
      "text/plain": [
       "18.72986111111111"
      ]
     },
     "execution_count": 7,
     "metadata": {},
     "output_type": "execute_result"
    }
   ],
   "source": [
    "# 26971분의 출처? 결측기간은 총 몇 분인가?\n",
    "# 26971분은 18.7일이다.\n",
    "26971/60/24\n",
    "# 26971분은 전체기간의 0.01%이다.\n",
    "# 따라서 결측기간 data를 날려도 된다.\n",
    "#26971 / len(df_)"
   ]
  },
  {
   "cell_type": "markdown",
   "id": "c99fc748",
   "metadata": {},
   "source": [
    "## seaborn\n",
    "- sns.distplot(data, y, hue, multiple, aspect) : **null 처리 전**\n",
    "> - data = df.isna().melt(value_name=\"missing),\n",
    "> - y = \"variable\"\n",
    "> - hue = \"missing\"\n",
    "> - multiple = \"fill\"\n",
    "> - aspect = 2.25\n",
    "- melt 넣으면 runtime이 길어진다.\n",
    "- - sns.distplot(data, y, hue, multiple, aspect) : **null 처리 후**\n",
    "> - data = df.dropna().isna().melt(value_name=\"missing),\n",
    "> - y = \"variable\"\n",
    "> - hue = \"missing\"\n",
    "> - multiple = \"fill\"\n",
    "> - aspect = 2.25"
   ]
  },
  {
   "cell_type": "markdown",
   "id": "534a6566",
   "metadata": {},
   "source": [
    "## matplotlib\n",
    "- plt.style.use(\"ggplot\")\n",
    "- plt.rc(\"font\", family=\"NanumGothic\") : minus sign 미지원\n",
    "- %matplotlib tk : figure를 밖으로 빼기 (loop 불가)\n",
    "- %matplotlib inline : figure를 안으로 넣기 (loop 가능)"
   ]
  },
  {
   "cell_type": "markdown",
   "id": "6a76d980",
   "metadata": {},
   "source": [
    "### plt.plot\n",
    "- array : pd.Series\n",
    "- alpha: float\n",
    "- c: str\n",
    "- label: str\n",
    "- plt.legend(loc = 'upper right')"
   ]
  },
  {
   "cell_type": "markdown",
   "id": "d814cf4c",
   "metadata": {},
   "source": [
    "plt.figure(figsize=(13, 5))\n",
    "plt.title(\"Origin col1\", fontsize=14)\n",
    "plt.plot(df[\"col1\"])\n",
    "plt.scatter(df.index, df[\"col1\"], s=30, c='green')\n",
    "plt.show()"
   ]
  },
  {
   "cell_type": "markdown",
   "id": "b7107d03",
   "metadata": {},
   "source": [
    "### plt.twinx().plot()\n",
    "- array: pd.Series\n",
    "- c: str\n",
    "- label: str"
   ]
  },
  {
   "cell_type": "markdown",
   "id": "7cd44071",
   "metadata": {},
   "source": [
    "## col 시각화"
   ]
  },
  {
   "cell_type": "markdown",
   "id": "93ef8ad7",
   "metadata": {},
   "source": [
    "Series 시각화: \n",
    "for i in df_.columns:\n",
    "    plt.plot(df_[i], label=i)\n",
    "    plt.legend()\n",
    "    plt.show()"
   ]
  },
  {
   "cell_type": "markdown",
   "id": "2050a7e1",
   "metadata": {},
   "source": [
    "for i in df_.columns:\n",
    "    print(i)"
   ]
  },
  {
   "cell_type": "markdown",
   "id": "d747fc48",
   "metadata": {},
   "source": [
    "## indexing"
   ]
  },
  {
   "cell_type": "markdown",
   "id": "61bb32de",
   "metadata": {},
   "source": [
    "새로운 변수 df_n에 assign\n",
    "- df[df[\"col1\"] < int]][\"col1\"] : pd.Series를 리턴\n",
    "- df.filter(items={\"col1\"})\n",
    "- df[df[\"col1\"].between(n, m)][\"col1\"]\n",
    "- df[\"pct\"] = df[\"col1\"].pct_change(periods=5)\n",
    "> - df[df[\"pct\"].between(r, s)]\n",
    "> - plt.plot(df[\"col1\"])\n",
    "> - plt.twtinx().plot(df[\"pct\"])\n",
    "> - df[df[\"pct\"] < float]\n",
    "- df_.loc[:, \"col1\"].to_frame()"
   ]
  },
  {
   "cell_type": "markdown",
   "id": "1d1d1fed",
   "metadata": {},
   "source": [
    "### Correlation 마스크\n",
    "mask = np.zeros_like(df_111.corr(), dtype=bool)\n",
    "mask[np.triu_indices_from(mask)] = True\n",
    "sns.heatmap(df.corr(), annot=True, mask=mask)"
   ]
  },
  {
   "cell_type": "markdown",
   "id": "e5e097fc",
   "metadata": {},
   "source": [
    "## df.filter(items)\n",
    "Subset the dataframe rows or columns according to the specified index labels.\n",
    "- items : Keep labels from axis which are in items\n",
    "- see also: DataFrame.loc"
   ]
  },
  {
   "cell_type": "code",
   "execution_count": 10,
   "id": "eeb15c57",
   "metadata": {},
   "outputs": [
    {
     "data": {
      "text/html": [
       "<div>\n",
       "<style scoped>\n",
       "    .dataframe tbody tr th:only-of-type {\n",
       "        vertical-align: middle;\n",
       "    }\n",
       "\n",
       "    .dataframe tbody tr th {\n",
       "        vertical-align: top;\n",
       "    }\n",
       "\n",
       "    .dataframe thead th {\n",
       "        text-align: right;\n",
       "    }\n",
       "</style>\n",
       "<table border=\"1\" class=\"dataframe\">\n",
       "  <thead>\n",
       "    <tr style=\"text-align: right;\">\n",
       "      <th></th>\n",
       "      <th>one</th>\n",
       "      <th>two</th>\n",
       "      <th>three</th>\n",
       "    </tr>\n",
       "  </thead>\n",
       "  <tbody>\n",
       "    <tr>\n",
       "      <th>mouse</th>\n",
       "      <td>1</td>\n",
       "      <td>2</td>\n",
       "      <td>3</td>\n",
       "    </tr>\n",
       "    <tr>\n",
       "      <th>rabbit</th>\n",
       "      <td>4</td>\n",
       "      <td>5</td>\n",
       "      <td>6</td>\n",
       "    </tr>\n",
       "  </tbody>\n",
       "</table>\n",
       "</div>"
      ],
      "text/plain": [
       "        one  two  three\n",
       "mouse     1    2      3\n",
       "rabbit    4    5      6"
      ]
     },
     "execution_count": 10,
     "metadata": {},
     "output_type": "execute_result"
    }
   ],
   "source": [
    "# e.g.\n",
    "df = pd.DataFrame(np.array(([1, 2, 3], [4, 5, 6])),\n",
    "index=['mouse', 'rabbit'],\n",
    "columns=['one', 'two', 'three'])\n",
    "df"
   ]
  },
  {
   "cell_type": "code",
   "execution_count": 11,
   "id": "bf50a63b",
   "metadata": {},
   "outputs": [
    {
     "data": {
      "text/html": [
       "<div>\n",
       "<style scoped>\n",
       "    .dataframe tbody tr th:only-of-type {\n",
       "        vertical-align: middle;\n",
       "    }\n",
       "\n",
       "    .dataframe tbody tr th {\n",
       "        vertical-align: top;\n",
       "    }\n",
       "\n",
       "    .dataframe thead th {\n",
       "        text-align: right;\n",
       "    }\n",
       "</style>\n",
       "<table border=\"1\" class=\"dataframe\">\n",
       "  <thead>\n",
       "    <tr style=\"text-align: right;\">\n",
       "      <th></th>\n",
       "      <th>one</th>\n",
       "      <th>three</th>\n",
       "    </tr>\n",
       "  </thead>\n",
       "  <tbody>\n",
       "    <tr>\n",
       "      <th>mouse</th>\n",
       "      <td>1</td>\n",
       "      <td>3</td>\n",
       "    </tr>\n",
       "    <tr>\n",
       "      <th>rabbit</th>\n",
       "      <td>4</td>\n",
       "      <td>6</td>\n",
       "    </tr>\n",
       "  </tbody>\n",
       "</table>\n",
       "</div>"
      ],
      "text/plain": [
       "        one  three\n",
       "mouse     1      3\n",
       "rabbit    4      6"
      ]
     },
     "execution_count": 11,
     "metadata": {},
     "output_type": "execute_result"
    }
   ],
   "source": [
    "#select columns by name\n",
    "df.filter(items=['one', 'three'])"
   ]
  },
  {
   "cell_type": "code",
   "execution_count": 12,
   "id": "af339680",
   "metadata": {},
   "outputs": [],
   "source": [
    "#Subset the dataframe rows or columns according to the specified index labels.\n",
    "#help(pd.DataFrame.filter)"
   ]
  },
  {
   "cell_type": "markdown",
   "id": "af167268",
   "metadata": {},
   "source": [
    "### [pd.Series.to_frame](https://pandas.pydata.org/docs/reference/api/pandas.Series.to_frame.html)\n",
    "- Convert Series to DataFrame"
   ]
  },
  {
   "cell_type": "markdown",
   "id": "8f254b91",
   "metadata": {},
   "source": [
    "### pd.DataFrame.pct_change\n",
    "Percentage change between the current and a prior element\n",
    "- periods: Periods to shift for forming percent change\n",
    "- Make and return a second axes that shares the *x*-axis. <br> The new axes will\n",
    "    overlay *ax* (or the current axes if *ax* is *None*), and its ticks will be\n",
    "    on the right."
   ]
  },
  {
   "cell_type": "code",
   "execution_count": null,
   "id": "bf9a11f2",
   "metadata": {},
   "outputs": [],
   "source": []
  }
 ],
 "metadata": {
  "kernelspec": {
   "display_name": "Python 3 (ipykernel)",
   "language": "python",
   "name": "python3"
  },
  "language_info": {
   "codemirror_mode": {
    "name": "ipython",
    "version": 3
   },
   "file_extension": ".py",
   "mimetype": "text/x-python",
   "name": "python",
   "nbconvert_exporter": "python",
   "pygments_lexer": "ipython3",
   "version": "3.10.9"
  }
 },
 "nbformat": 4,
 "nbformat_minor": 5
}
