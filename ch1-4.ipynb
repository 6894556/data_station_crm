{
 "cells": [
  {
   "cell_type": "code",
   "execution_count": 1,
   "id": "eb4347fa",
   "metadata": {},
   "outputs": [
    {
     "data": {
      "text/plain": [
       "300"
      ]
     },
     "execution_count": 1,
     "metadata": {},
     "output_type": "execute_result"
    }
   ],
   "source": [
    "a = 100\n",
    "b = 200\n",
    "a + b"
   ]
  },
  {
   "cell_type": "markdown",
   "id": "38f1ee9f",
   "metadata": {},
   "source": [
    "# Pandas 라이브러리\n",
    "- Series 구조와 DataFrame 구조 이해하기\n",
    "- Series 구조 : index(순서) - value(값)으로 구성되어 있는 데이터 구조\n",
    "- Series 특징: 하나의 Series에 한 개의 데이터 타입만 올 수 있다. (dtype: int64) (기본적인 원칙)\n",
    "- 64 : 메모리 bit수\n",
    "- Ser로 데이터를 만들어 놓으면 통계적인 연산을 하려할 때 오류가 생기지 않음 (문자가 없어지기 때문)"
   ]
  },
  {
   "cell_type": "code",
   "execution_count": 3,
   "id": "fa0bf7ff",
   "metadata": {},
   "outputs": [],
   "source": [
    "import pandas as pd # Pandas 라이브러리를 불러온다."
   ]
  },
  {
   "cell_type": "code",
   "execution_count": 5,
   "id": "e2b57bf9",
   "metadata": {},
   "outputs": [
    {
     "data": {
      "text/plain": [
       "0    10\n",
       "1    20\n",
       "2    30\n",
       "3    40\n",
       "dtype: int64"
      ]
     },
     "execution_count": 5,
     "metadata": {},
     "output_type": "execute_result"
    }
   ],
   "source": [
    "# list를 넣으면 Series가 나온다.\n",
    "s1 = pd.Series([10, 20, 30, 40])\n",
    "s1"
   ]
  },
  {
   "cell_type": "code",
   "execution_count": 7,
   "id": "f5c6bd8b",
   "metadata": {},
   "outputs": [
    {
     "data": {
      "text/plain": [
       "100"
      ]
     },
     "execution_count": 7,
     "metadata": {},
     "output_type": "execute_result"
    }
   ],
   "source": [
    "s1.sum() # 통계연산 1"
   ]
  },
  {
   "cell_type": "code",
   "execution_count": 8,
   "id": "7477cba7",
   "metadata": {},
   "outputs": [
    {
     "data": {
      "text/plain": [
       "0    10\n",
       "1    20\n",
       "2    30\n",
       "3     a\n",
       "dtype: object"
      ]
     },
     "execution_count": 8,
     "metadata": {},
     "output_type": "execute_result"
    }
   ],
   "source": [
    "# 문자가 하나 들어가면 object 데이터가 된다.\n",
    "s2 = pd.Series([10, 20, 30, 'a'])\n",
    "s2"
   ]
  },
  {
   "cell_type": "code",
   "execution_count": 11,
   "id": "0a7f025f",
   "metadata": {},
   "outputs": [],
   "source": [
    "#s2.sum() # 통계 연산이 안된다."
   ]
  },
  {
   "cell_type": "code",
   "execution_count": 12,
   "id": "679cdff4",
   "metadata": {},
   "outputs": [],
   "source": [
    "s3 = pd.Series([10, 20, 30, 40, 50])"
   ]
  },
  {
   "cell_type": "code",
   "execution_count": 16,
   "id": "bdaa1110",
   "metadata": {},
   "outputs": [
    {
     "name": "stdout",
     "output_type": "stream",
     "text": [
      "150\n",
      "30.0\n",
      "10\n",
      "50\n"
     ]
    }
   ],
   "source": [
    "# 주피터 cell의 특징 : 마지막 변수만 출력됨. 그래서 print 붙여야 모두 볼 수 있음\n",
    "# print 사용하면 out[n]이 없어짐\n",
    "# 여러 통계 연산값 동시에 확인하기\n",
    "print(s3.sum())\n",
    "print(s3.mean())\n",
    "print(s3.min())\n",
    "print(s3.max())"
   ]
  },
  {
   "cell_type": "code",
   "execution_count": 18,
   "id": "9bcbae22",
   "metadata": {},
   "outputs": [],
   "source": [
    "# index와 value로 이루어진 data structure이다.\n",
    "# Python의 data structure, Pandas의 ds"
   ]
  },
  {
   "cell_type": "markdown",
   "id": "07a5a40e",
   "metadata": {},
   "source": [
    "- DataFrame: index-column-value'\n",
    "> recall Ser가 index와 value의 pair구조였다. Ser들이 한곳에 모인게 df이다라고 이해할 것. (vct, mtx)"
   ]
  },
  {
   "cell_type": "code",
   "execution_count": 23,
   "id": "772a12f4",
   "metadata": {},
   "outputs": [],
   "source": [
    "# Ser 3개가 df 1개 구성했다.\n",
    "df = pd.DataFrame({'이름': [\"홍길동\", \"이몽룡\", \"성춘향\"],\n",
    "              \"나이\": [10, 20, 30],\n",
    "              \"주소\": [\"서울\", \"경기\", \"강원\"]})"
   ]
  },
  {
   "cell_type": "code",
   "execution_count": 24,
   "id": "463b5aed",
   "metadata": {},
   "outputs": [
    {
     "data": {
      "text/html": [
       "<div>\n",
       "<style scoped>\n",
       "    .dataframe tbody tr th:only-of-type {\n",
       "        vertical-align: middle;\n",
       "    }\n",
       "\n",
       "    .dataframe tbody tr th {\n",
       "        vertical-align: top;\n",
       "    }\n",
       "\n",
       "    .dataframe thead th {\n",
       "        text-align: right;\n",
       "    }\n",
       "</style>\n",
       "<table border=\"1\" class=\"dataframe\">\n",
       "  <thead>\n",
       "    <tr style=\"text-align: right;\">\n",
       "      <th></th>\n",
       "      <th>이름</th>\n",
       "      <th>나이</th>\n",
       "      <th>주소</th>\n",
       "    </tr>\n",
       "  </thead>\n",
       "  <tbody>\n",
       "    <tr>\n",
       "      <th>0</th>\n",
       "      <td>홍길동</td>\n",
       "      <td>10</td>\n",
       "      <td>서울</td>\n",
       "    </tr>\n",
       "    <tr>\n",
       "      <th>1</th>\n",
       "      <td>이몽룡</td>\n",
       "      <td>20</td>\n",
       "      <td>경기</td>\n",
       "    </tr>\n",
       "    <tr>\n",
       "      <th>2</th>\n",
       "      <td>성춘향</td>\n",
       "      <td>30</td>\n",
       "      <td>강원</td>\n",
       "    </tr>\n",
       "  </tbody>\n",
       "</table>\n",
       "</div>"
      ],
      "text/plain": [
       "    이름  나이  주소\n",
       "0  홍길동  10  서울\n",
       "1  이몽룡  20  경기\n",
       "2  성춘향  30  강원"
      ]
     },
     "execution_count": 24,
     "metadata": {},
     "output_type": "execute_result"
    }
   ],
   "source": [
    "df"
   ]
  },
  {
   "cell_type": "code",
   "execution_count": 29,
   "id": "240bd382",
   "metadata": {},
   "outputs": [],
   "source": [
    "# ser로 뽑아내면 통계적 연산이 가능해진다.\n",
    "# df의 ser 뽑아보기"
   ]
  },
  {
   "cell_type": "code",
   "execution_count": 27,
   "id": "685af0c5",
   "metadata": {},
   "outputs": [
    {
     "data": {
      "text/plain": [
       "0    홍길동\n",
       "1    이몽룡\n",
       "2    성춘향\n",
       "Name: 이름, dtype: object"
      ]
     },
     "execution_count": 27,
     "metadata": {},
     "output_type": "execute_result"
    }
   ],
   "source": [
    "df[\"이름\"]"
   ]
  },
  {
   "cell_type": "code",
   "execution_count": 28,
   "id": "49b8e63d",
   "metadata": {},
   "outputs": [
    {
     "data": {
      "text/plain": [
       "0    10\n",
       "1    20\n",
       "2    30\n",
       "Name: 나이, dtype: int64"
      ]
     },
     "execution_count": 28,
     "metadata": {},
     "output_type": "execute_result"
    }
   ],
   "source": [
    "df[\"나이\"]"
   ]
  },
  {
   "cell_type": "code",
   "execution_count": 30,
   "id": "3de663ef",
   "metadata": {},
   "outputs": [
    {
     "data": {
      "text/plain": [
       "20.0"
      ]
     },
     "execution_count": 30,
     "metadata": {},
     "output_type": "execute_result"
    }
   ],
   "source": [
    "df[\"나이\"].mean()"
   ]
  },
  {
   "cell_type": "code",
   "execution_count": 31,
   "id": "1a1c1245",
   "metadata": {},
   "outputs": [],
   "source": [
    "# 데이터를 직접 입력했다.\n",
    "# 다음 시간부터 데이터를 불러와서 사용한다."
   ]
  },
  {
   "cell_type": "code",
   "execution_count": null,
   "id": "c9cdf78b",
   "metadata": {},
   "outputs": [],
   "source": []
  }
 ],
 "metadata": {
  "kernelspec": {
   "display_name": "Python 3 (ipykernel)",
   "language": "python",
   "name": "python3"
  },
  "language_info": {
   "codemirror_mode": {
    "name": "ipython",
    "version": 3
   },
   "file_extension": ".py",
   "mimetype": "text/x-python",
   "name": "python",
   "nbconvert_exporter": "python",
   "pygments_lexer": "ipython3",
   "version": "3.10.9"
  }
 },
 "nbformat": 4,
 "nbformat_minor": 5
}
