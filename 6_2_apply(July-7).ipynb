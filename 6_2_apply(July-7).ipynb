{
 "cells": [
  {
   "cell_type": "code",
   "execution_count": 1,
   "id": "d6c4ca77",
   "metadata": {},
   "outputs": [],
   "source": [
    "import pandas as pd"
   ]
  },
  {
   "cell_type": "code",
   "execution_count": 4,
   "id": "ade05aaf",
   "metadata": {},
   "outputs": [],
   "source": [
    "df1 = pd.read_csv(\"dataset/store_member_total_1.csv\")"
   ]
  },
  {
   "cell_type": "code",
   "execution_count": 5,
   "id": "341eb5f5",
   "metadata": {},
   "outputs": [],
   "source": [
    "def func1(row):\n",
    "    return row"
   ]
  },
  {
   "cell_type": "code",
   "execution_count": 7,
   "id": "85c3700c",
   "metadata": {},
   "outputs": [
    {
     "data": {
      "text/plain": [
       "0       서울 강북구 미아동 134-\n",
       "1        경기 용인시 수지구 동천동\n",
       "2        경기 용인시 수지구 동천동\n",
       "3        경기 용인시 수지구 성복동\n",
       "4        경기 용인시 수지구 동천동\n",
       "             ...       \n",
       "4280     경기 성남시 분당구 판교동\n",
       "4281    서울 관악구 행운동 1681\n",
       "4282     경기 성남시 분당구 백현동\n",
       "4283    서울 용산구 한남동 737-\n",
       "4284     경기 수원시 영통구 이의동\n",
       "Name: 주소, Length: 4285, dtype: object"
      ]
     },
     "execution_count": 7,
     "metadata": {},
     "output_type": "execute_result"
    }
   ],
   "source": [
    "df1[\"주소\"]"
   ]
  },
  {
   "cell_type": "code",
   "execution_count": 10,
   "id": "e7a3624a",
   "metadata": {},
   "outputs": [
    {
     "data": {
      "text/plain": [
       "0       서울 강북구 미아동 134-\n",
       "1        경기 용인시 수지구 동천동\n",
       "2        경기 용인시 수지구 동천동\n",
       "3        경기 용인시 수지구 성복동\n",
       "4        경기 용인시 수지구 동천동\n",
       "             ...       \n",
       "4280     경기 성남시 분당구 판교동\n",
       "4281    서울 관악구 행운동 1681\n",
       "4282     경기 성남시 분당구 백현동\n",
       "4283    서울 용산구 한남동 737-\n",
       "4284     경기 수원시 영통구 이의동\n",
       "Name: 주소, Length: 4285, dtype: object"
      ]
     },
     "execution_count": 10,
     "metadata": {},
     "output_type": "execute_result"
    }
   ],
   "source": [
    "# row라는 이름으로 한줄씩 들어간다. \n",
    "df1[\"주소\"].apply(func1)"
   ]
  },
  {
   "cell_type": "code",
   "execution_count": 12,
   "id": "aa7896b8",
   "metadata": {},
   "outputs": [],
   "source": [
    "# 긴 세부 주소에서 앞에 두 글자만\n",
    "# 앞에 있는 두 글자만 추출하는 로직을 만들어보자\n",
    "def func1(row):\n",
    "    result = row[0:2]\n",
    "    return result"
   ]
  },
  {
   "cell_type": "code",
   "execution_count": 13,
   "id": "061da11f",
   "metadata": {},
   "outputs": [
    {
     "data": {
      "text/plain": [
       "0       서울\n",
       "1       경기\n",
       "2       경기\n",
       "3       경기\n",
       "4       경기\n",
       "        ..\n",
       "4280    경기\n",
       "4281    서울\n",
       "4282    경기\n",
       "4283    서울\n",
       "4284    경기\n",
       "Name: 주소, Length: 4285, dtype: object"
      ]
     },
     "execution_count": 13,
     "metadata": {},
     "output_type": "execute_result"
    }
   ],
   "source": [
    "df1[\"주소\"].apply(func1)"
   ]
  },
  {
   "cell_type": "code",
   "execution_count": 14,
   "id": "6a856856",
   "metadata": {},
   "outputs": [],
   "source": [
    "df1[\"주소(apply1)\"] = df1[\"주소\"].apply(func1)"
   ]
  },
  {
   "cell_type": "code",
   "execution_count": 17,
   "id": "145660f4",
   "metadata": {},
   "outputs": [
    {
     "data": {
      "text/plain": [
       "array(['서울', '경기', '인천', '충북', '강원', '경남', '대전', '전북', '광주', '경북', '세종',\n",
       "       '충남', '제주', '대구', '울산', '전남'], dtype=object)"
      ]
     },
     "execution_count": 17,
     "metadata": {},
     "output_type": "execute_result"
    }
   ],
   "source": [
    "df1[\"주소(apply1)\"].unique()"
   ]
  },
  {
   "cell_type": "code",
   "execution_count": 20,
   "id": "6312f289",
   "metadata": {},
   "outputs": [
    {
     "data": {
      "text/plain": [
       "경기    3323\n",
       "서울     754\n",
       "강원      42\n",
       "대전      28\n",
       "인천      24\n",
       "충남      23\n",
       "경남      16\n",
       "충북      14\n",
       "경북      14\n",
       "제주      13\n",
       "세종      10\n",
       "광주       8\n",
       "전북       7\n",
       "대구       5\n",
       "울산       2\n",
       "전남       2\n",
       "Name: 주소(apply1), dtype: int64"
      ]
     },
     "execution_count": 20,
     "metadata": {},
     "output_type": "execute_result"
    }
   ],
   "source": [
    "# 어느 지역 거주자가 경기도 용인시에 위치한 우리 매장에 가장 많이 방문했는가? \n",
    "# 빈도\n",
    "df1[\"주소(apply1)\"].value_counts()"
   ]
  },
  {
   "cell_type": "code",
   "execution_count": 22,
   "id": "b902b315",
   "metadata": {},
   "outputs": [],
   "source": [
    "import seaborn as sns\n",
    "import matplotlib as mpl\n",
    "mpl.rc(\"font\", family=\"Malgun Gothic\")\n",
    "import matplotlib.pyplot as plt"
   ]
  },
  {
   "cell_type": "code",
   "execution_count": 23,
   "id": "75bc4270",
   "metadata": {
    "collapsed": true
   },
   "outputs": [
    {
     "data": {
      "text/plain": [
       "<Axes: xlabel='주소(apply1)', ylabel='count'>"
      ]
     },
     "execution_count": 23,
     "metadata": {},
     "output_type": "execute_result"
    },
    {
     "data": {
      "image/png": "[encoded data removed]",
      "text/plain": [
       "<Figure size 640x480 with 1 Axes>"
      ]
     },
     "metadata": {},
     "output_type": "display_data"
    }
   ],
   "source": [
    "# 빈도수를 시각화하는 countplot\n",
    "# 주소별 인원수 출력\n",
    "sns.countplot(data=df1, x=\"주소(apply1)\")"
   ]
  },
  {
   "cell_type": "code",
   "execution_count": 25,
   "id": "6fada336",
   "metadata": {},
   "outputs": [
    {
     "data": {
      "text/plain": [
       "0       1967.0\n",
       "1       1947.0\n",
       "2       1972.0\n",
       "3       1969.0\n",
       "4       1948.0\n",
       "         ...  \n",
       "4280    1963.0\n",
       "4281    1982.0\n",
       "4282    1975.0\n",
       "4283    1961.0\n",
       "4284    1971.0\n",
       "Name: 생년, Length: 4285, dtype: float64"
      ]
     },
     "execution_count": 25,
     "metadata": {},
     "output_type": "execute_result"
    }
   ],
   "source": [
    "# 생년 이용해서 연령을 계산하고 연령대를 구해보자\n",
    "df1[\"생년\"]"
   ]
  },
  {
   "cell_type": "code",
   "execution_count": 27,
   "id": "89ace95b",
   "metadata": {},
   "outputs": [],
   "source": [
    "df1[\"연령\"] = 2021 - df1[\"생년\"]"
   ]
  },
  {
   "cell_type": "code",
   "execution_count": 28,
   "id": "889d4a6f",
   "metadata": {},
   "outputs": [
    {
     "data": {
      "text/plain": [
       "0       54.0\n",
       "1       74.0\n",
       "2       49.0\n",
       "3       52.0\n",
       "4       73.0\n",
       "        ... \n",
       "4280    58.0\n",
       "4281    39.0\n",
       "4282    46.0\n",
       "4283    60.0\n",
       "4284    50.0\n",
       "Name: 연령, Length: 4285, dtype: float64"
      ]
     },
     "execution_count": 28,
     "metadata": {},
     "output_type": "execute_result"
    }
   ],
   "source": [
    "df1[\"연령\"]"
   ]
  },
  {
   "cell_type": "code",
   "execution_count": 30,
   "id": "5be86f5a",
   "metadata": {},
   "outputs": [
    {
     "data": {
      "text/plain": [
       "count      4283.000000\n",
       "mean          9.032921\n",
       "std        3025.409511\n",
       "min     -197916.000000\n",
       "25%          44.000000\n",
       "50%          52.000000\n",
       "75%          63.000000\n",
       "max        1828.000000\n",
       "Name: 연령, dtype: float64"
      ]
     },
     "execution_count": 30,
     "metadata": {},
     "output_type": "execute_result"
    }
   ],
   "source": [
    "# descirbe 사용해서 분포 확인하기\n",
    "# 이상치 있음. \n",
    "# 이상치 제거하고 연령대 처리해보자. \n",
    "df1[\"연령\"].describe()"
   ]
  },
  {
   "cell_type": "code",
   "execution_count": 33,
   "id": "166ec7e0",
   "metadata": {},
   "outputs": [],
   "source": [
    "import numpy as np"
   ]
  },
  {
   "cell_type": "code",
   "execution_count": 34,
   "id": "5706685c",
   "metadata": {},
   "outputs": [],
   "source": [
    "cond1 = (df1[\"연령\"] > 0 )\n",
    "cond2 = (df1[\"연령\"] < 100)\n",
    "\n",
    "df1.loc[cond1& cond2, \"연령(clean)\"] = df1[\"연령\"] # 정상 연령\n",
    "df1.loc[~cond1&cond2, \"연령(clean)\"] = np.nan # 이상 연령"
   ]
  },
  {
   "cell_type": "code",
   "execution_count": 37,
   "id": "1eef0ddb",
   "metadata": {},
   "outputs": [
    {
     "data": {
      "text/plain": [
       "count    4277.000000\n",
       "mean       53.988543\n",
       "std        12.820361\n",
       "min        26.000000\n",
       "25%        44.000000\n",
       "50%        52.000000\n",
       "75%        63.000000\n",
       "max        98.000000\n",
       "Name: 연령(clean), dtype: float64"
      ]
     },
     "execution_count": 37,
     "metadata": {},
     "output_type": "execute_result"
    }
   ],
   "source": [
    "# 연령 이상치 제거 여부 확인: 26-98\n",
    "df1[\"연령(clean)\"].describe()"
   ]
  },
  {
   "cell_type": "code",
   "execution_count": 38,
   "id": "ca051fd1",
   "metadata": {},
   "outputs": [
    {
     "data": {
      "text/plain": [
       "<Axes: xlabel='연령(clean)', ylabel='Count'>"
      ]
     },
     "execution_count": 38,
     "metadata": {},
     "output_type": "execute_result"
    },
    {
     "data": {
      "image/png": "[encoded data removed]",
      "text/plain": [
       "<Figure size 640x480 with 1 Axes>"
      ]
     },
     "metadata": {},
     "output_type": "display_data"
    }
   ],
   "source": [
    "# 데이터 분포 확인\n",
    "sns.histplot(data=df1, x=\"연령(clean)\")"
   ]
  },
  {
   "cell_type": "code",
   "execution_count": 40,
   "id": "3f0660c4",
   "metadata": {},
   "outputs": [],
   "source": [
    "# apply 사용해서 연령을 연령대로 만들자\n",
    "# apply 함수 사용할 때는 일단 apply 함수가 정상적으로 작동하는지 다음과 같이 확인한다: \n",
    "# 연령을 연령대로 바꾸는 로직\n",
    "def func2(row):\n",
    "    return row"
   ]
  },
  {
   "cell_type": "code",
   "execution_count": 45,
   "id": "793152b4",
   "metadata": {},
   "outputs": [],
   "source": [
    "def func2(row):\n",
    "    return row % 10"
   ]
  },
  {
   "cell_type": "code",
   "execution_count": 47,
   "id": "72d680cb",
   "metadata": {},
   "outputs": [],
   "source": [
    "# if block으로 구성할 경우, 최소연령이 26, 최대연령이 96이었다는 점을 고려해서 90대부터 20대까지 처리한다.\n",
    "def func2(row):\n",
    "    if row >=90:\n",
    "        return \"90대\"\n",
    "    elif row >=80:\n",
    "        return \"80대\"\n",
    "    elif row >=70:\n",
    "        return \"80대\"\n",
    "    elif row >=60:\n",
    "        return \"60대\"\n",
    "    elif row >=50:\n",
    "        return \"50대\"\n",
    "    elif row >=40:\n",
    "        return \"40대\"\n",
    "    elif row >=30:\n",
    "        return \"30대\"\n",
    "    return \"20대\""
   ]
  },
  {
   "cell_type": "code",
   "execution_count": 48,
   "id": "fa8bfaf6",
   "metadata": {},
   "outputs": [
    {
     "data": {
      "text/plain": [
       "0       50대\n",
       "1       80대\n",
       "2       40대\n",
       "3       50대\n",
       "4       80대\n",
       "       ... \n",
       "4280    50대\n",
       "4281    30대\n",
       "4282    40대\n",
       "4283    60대\n",
       "4284    50대\n",
       "Name: 연령(clean), Length: 4285, dtype: object"
      ]
     },
     "execution_count": 48,
     "metadata": {},
     "output_type": "execute_result"
    }
   ],
   "source": [
    "df1[\"연령(clean)\"].apply(func2)"
   ]
  },
  {
   "cell_type": "code",
   "execution_count": 49,
   "id": "53105e3b",
   "metadata": {},
   "outputs": [],
   "source": [
    "df1[\"연령대\"] = df1[\"연령(clean)\"].apply(func2)"
   ]
  },
  {
   "cell_type": "code",
   "execution_count": 50,
   "id": "dc9779b2",
   "metadata": {},
   "outputs": [
    {
     "data": {
      "text/plain": [
       "40대    1345\n",
       "50대    1062\n",
       "60대     798\n",
       "80대     574\n",
       "30대     478\n",
       "20대      19\n",
       "90대       9\n",
       "Name: 연령대, dtype: int64"
      ]
     },
     "execution_count": 50,
     "metadata": {},
     "output_type": "execute_result"
    }
   ],
   "source": [
    "# 연령대 수치적 확인\n",
    "df1[\"연령대\"].value_counts()"
   ]
  },
  {
   "cell_type": "code",
   "execution_count": 51,
   "id": "14742a58",
   "metadata": {},
   "outputs": [
    {
     "data": {
      "text/plain": [
       "<Axes: xlabel='연령대', ylabel='count'>"
      ]
     },
     "execution_count": 51,
     "metadata": {},
     "output_type": "execute_result"
    },
    {
     "data": {
      "image/png": "[encoded data removed]",
      "text/plain": [
       "<Figure size 640x480 with 1 Axes>"
      ]
     },
     "metadata": {},
     "output_type": "display_data"
    }
   ],
   "source": [
    "# 어느 연령대가 가장 많이 이용했는가? \n",
    "sns.countplot(data=df1, x=\"연령대\")"
   ]
  },
  {
   "cell_type": "code",
   "execution_count": 71,
   "id": "2d8bdf2f",
   "metadata": {},
   "outputs": [],
   "source": [
    "# if block을 사용한 func2는 너무 복잡하다. \n",
    "# 더 쉬운 방법은 없을까?\n",
    "def func3(row):\n",
    "    result = str(row)\n",
    "    return result[0] + \"0대\""
   ]
  },
  {
   "cell_type": "code",
   "execution_count": 72,
   "id": "a46275fe",
   "metadata": {},
   "outputs": [
    {
     "data": {
      "text/plain": [
       "0       50대\n",
       "1       70대\n",
       "2       40대\n",
       "3       50대\n",
       "4       70대\n",
       "       ... \n",
       "4280    50대\n",
       "4281    30대\n",
       "4282    40대\n",
       "4283    60대\n",
       "4284    50대\n",
       "Name: 연령(clean), Length: 4285, dtype: object"
      ]
     },
     "execution_count": 72,
     "metadata": {},
     "output_type": "execute_result"
    }
   ],
   "source": [
    "df1[\"연령(clean)\"].apply(func3)"
   ]
  },
  {
   "cell_type": "code",
   "execution_count": 73,
   "id": "897c5797",
   "metadata": {},
   "outputs": [],
   "source": [
    "# apply 함수는 파이썬 기초를 탄탄하게 하고 왔어야 유용하게 사용할 수 있다. \n",
    "# 내가 원하는 수식과 로직에 따라서 데이터를 처리하고 분석하고자 할 때, apply함수를 사용한다. \n",
    "# pandas에 내가 원하는 기능을 하는 함수가 있는데 기억이 나지 않을 떄도, apply 함수를 사용할 수 있다."
   ]
  },
  {
   "cell_type": "code",
   "execution_count": 74,
   "id": "07cdc6c2",
   "metadata": {},
   "outputs": [],
   "source": [
    "df1[\"연령대\"] = df1[\"연령(clean)\"].apply(func3)"
   ]
  },
  {
   "cell_type": "code",
   "execution_count": 76,
   "id": "cd7c9ad0",
   "metadata": {},
   "outputs": [
    {
     "data": {
      "text/plain": [
       "40대    1345\n",
       "50대    1062\n",
       "60대     798\n",
       "30대     478\n",
       "70대     421\n",
       "80대     153\n",
       "20대      11\n",
       "90대       9\n",
       "n0대       8\n",
       "Name: 연령대, dtype: int64"
      ]
     },
     "execution_count": 76,
     "metadata": {},
     "output_type": "execute_result"
    }
   ],
   "source": [
    "# n0대는 결측치이다. \n",
    "df1[\"연령대\"].value_counts()"
   ]
  },
  {
   "cell_type": "code",
   "execution_count": 84,
   "id": "d97c10b1",
   "metadata": {},
   "outputs": [],
   "source": [
    "def func3(row):\n",
    "    # row 값에 결측값이 있다면 pass\n",
    "    # 결측치는 결측치로 그대로 냅두는 로직\n",
    "    # 결측값은 그대로 결측값으로 처리?\n",
    "    if pd.isnull(row):\n",
    "        return row\n",
    "    # 결측값이 아니면 절차 수행\n",
    "    else:\n",
    "        result = str(row)\n",
    "        return result[0] + \"0대\""
   ]
  },
  {
   "cell_type": "code",
   "execution_count": 85,
   "id": "90a2be25",
   "metadata": {},
   "outputs": [
    {
     "data": {
      "text/plain": [
       "0       50대\n",
       "1       70대\n",
       "2       40대\n",
       "3       50대\n",
       "4       70대\n",
       "       ... \n",
       "4280    50대\n",
       "4281    30대\n",
       "4282    40대\n",
       "4283    60대\n",
       "4284    50대\n",
       "Name: 연령(clean), Length: 4285, dtype: object"
      ]
     },
     "execution_count": 85,
     "metadata": {},
     "output_type": "execute_result"
    }
   ],
   "source": [
    "df1[\"연령(clean)\"].apply(func3)"
   ]
  },
  {
   "cell_type": "code",
   "execution_count": null,
   "id": "84e8d7a6",
   "metadata": {},
   "outputs": [],
   "source": []
  },
  {
   "cell_type": "code",
   "execution_count": 87,
   "id": "5edda28e",
   "metadata": {},
   "outputs": [
    {
     "data": {
      "text/plain": [
       "0       서울 강북구 미아동 134-\n",
       "1        경기 용인시 수지구 동천동\n",
       "2        경기 용인시 수지구 동천동\n",
       "3        경기 용인시 수지구 성복동\n",
       "4        경기 용인시 수지구 동천동\n",
       "             ...       \n",
       "4280     경기 성남시 분당구 판교동\n",
       "4281    서울 관악구 행운동 1681\n",
       "4282     경기 성남시 분당구 백현동\n",
       "4283    서울 용산구 한남동 737-\n",
       "4284     경기 수원시 영통구 이의동\n",
       "Name: 주소, Length: 4285, dtype: object"
      ]
     },
     "execution_count": 87,
     "metadata": {},
     "output_type": "execute_result"
    }
   ],
   "source": [
    "# 동천 or 분당 or 성북과 같이 특정 글자가 들어가 있으면 ~지역과 같이 만들어보자. \n",
    "df1[\"주소\"]"
   ]
  },
  {
   "cell_type": "code",
   "execution_count": null,
   "id": "5f979a11",
   "metadata": {},
   "outputs": [],
   "source": []
  },
  {
   "cell_type": "code",
   "execution_count": 88,
   "id": "25538513",
   "metadata": {},
   "outputs": [],
   "source": [
    "# 세부주소에서 '동천'\n",
    "def func4(row):\n",
    "    if \"동천\" in row:\n",
    "        return \"동천\"\n",
    "    else:\n",
    "        return row"
   ]
  },
  {
   "cell_type": "code",
   "execution_count": 89,
   "id": "bb12f132",
   "metadata": {},
   "outputs": [
    {
     "data": {
      "text/plain": [
       "0       서울 강북구 미아동 134-\n",
       "1                    동천\n",
       "2                    동천\n",
       "3        경기 용인시 수지구 성복동\n",
       "4                    동천\n",
       "             ...       \n",
       "4280     경기 성남시 분당구 판교동\n",
       "4281    서울 관악구 행운동 1681\n",
       "4282     경기 성남시 분당구 백현동\n",
       "4283    서울 용산구 한남동 737-\n",
       "4284     경기 수원시 영통구 이의동\n",
       "Name: 주소, Length: 4285, dtype: object"
      ]
     },
     "execution_count": 89,
     "metadata": {},
     "output_type": "execute_result"
    }
   ],
   "source": [
    "df1[\"주소\"].apply(func4)"
   ]
  },
  {
   "cell_type": "code",
   "execution_count": null,
   "id": "499698ff",
   "metadata": {},
   "outputs": [],
   "source": [
    "# 텍스트 마이닝: 문자 데이터를 처리해서 데이터를 분석하는 영역"
   ]
  },
  {
   "cell_type": "code",
   "execution_count": 91,
   "id": "a770dad6",
   "metadata": {},
   "outputs": [
    {
     "data": {
      "text/plain": [
       "경기 용인시 수지구 신봉동     212\n",
       "경기 용인시 수지구 풍덕천2    184\n",
       "경기 용인시 수지구 성복동     180\n",
       "경기 용인시 수지구 풍덕천동    175\n",
       "경기 용인시 수지구 상현동     158\n",
       "                  ... \n",
       "서울 동작구 상도1동 520      1\n",
       "인천 중구 내동 83-5번지      1\n",
       "경남 거제시 장평동 경남 거      1\n",
       "경기 화성시 반송동 135번      1\n",
       "서울 용산구 한남동 737-      1\n",
       "Name: 주소(중분류), Length: 1274, dtype: int64"
      ]
     },
     "execution_count": 91,
     "metadata": {},
     "output_type": "execute_result"
    }
   ],
   "source": [
    "df1[\"주소(중분류)\"] = df1[\"주소\"].apply(func4)\n",
    "df1[\"주소(중분류)\"].value_counts() # 어떤 데이터가 얼만큼 처리가 됬는지 확인하면서 처리하기 위해 value_counts 사용"
   ]
  },
  {
   "cell_type": "code",
   "execution_count": 92,
   "id": "22405654",
   "metadata": {},
   "outputs": [
    {
     "data": {
      "text/plain": [
       "신봉                 212\n",
       "경기 용인시 수지구 풍덕천2    184\n",
       "경기 용인시 수지구 성복동     180\n",
       "경기 용인시 수지구 풍덕천동    175\n",
       "경기 용인시 수지구 상현동     158\n",
       "                  ... \n",
       "서울 동작구 상도1동 520      1\n",
       "인천 중구 내동 83-5번지      1\n",
       "경남 거제시 장평동 경남 거      1\n",
       "경기 화성시 반송동 135번      1\n",
       "서울 용산구 한남동 737-      1\n",
       "Name: 주소(중분류), Length: 1274, dtype: int64"
      ]
     },
     "execution_count": 92,
     "metadata": {},
     "output_type": "execute_result"
    }
   ],
   "source": [
    "# 이런식으로 데이터를 봐가면서 처리해줄 수 있다. \n",
    "# 어떤 데이터가 어떻게 처리되고 있는지 보면서 처리해줄 수 있다. \n",
    "def func4(row):\n",
    "    if \"동천\" in row:\n",
    "        return \"동천\"\n",
    "    elif '신봉' in row:\n",
    "        return '신봉'\n",
    "    else:\n",
    "        return row\n",
    "    \n",
    "df1[\"주소(중분류)\"] = df1[\"주소\"].apply(func4)\n",
    "df1[\"주소(중분류)\"].value_counts() "
   ]
  },
  {
   "cell_type": "code",
   "execution_count": 96,
   "id": "f486a407",
   "metadata": {},
   "outputs": [
    {
     "data": {
      "text/plain": [
       "서울                 754\n",
       "상현                 424\n",
       "신봉                 212\n",
       "풍덕천2               184\n",
       "성복                 181\n",
       "                  ... \n",
       "경기 안양시 만안구 안양동       1\n",
       "경기 화성시 병점동 성호1차      1\n",
       "경기 고양시 일산동구 장항동      1\n",
       "경기 하남시 덕풍3동 참아름      1\n",
       "충남 금산군 복수면 곡남리       1\n",
       "Name: 주소(중분류), Length: 632, dtype: int64"
      ]
     },
     "execution_count": 96,
     "metadata": {},
     "output_type": "execute_result"
    }
   ],
   "source": [
    "def func4(row):\n",
    "    if \"동천\" in row:\n",
    "        return \"동천\"\n",
    "    elif '신봉' in row:\n",
    "        return '신봉'\n",
    "    elif '풍덕천2' in row:\n",
    "        return '풍덕천2' # 풍덕천2라는 글자가 들어가면\n",
    "    elif '성복' in row:\n",
    "        return '성복'\n",
    "    elif '상현' in row:\n",
    "        return '상현'\n",
    "    elif '서울' in row:\n",
    "        return '서울'\n",
    "    else:\n",
    "        return row\n",
    "    \n",
    "df1[\"주소(중분류)\"] = df1[\"주소\"].apply(func4)\n",
    "df1[\"주소(중분류)\"].value_counts() "
   ]
  },
  {
   "cell_type": "code",
   "execution_count": 99,
   "id": "c6bdce0c",
   "metadata": {
    "collapsed": true
   },
   "outputs": [
    {
     "data": {
      "text/plain": [
       "array(['서울', '동천', '성복', '상현', '신봉', '풍덕천2', '경기 용인시 수지구 풍덕천1',\n",
       "       '경기 성남시 분당구 정자동', '인천 서구 당하동 895-1', '경기 용인시 수지구 죽전2동',\n",
       "       '경기 용인시 수지구 풍덕천동', '경기 성남시 분당구 동원동', '경기 용인시 수지구 죽전1동',\n",
       "       '경기 오산시 내삼미동 899', '경기 수원시 영통구 매탄3동', '경기 용인시 기흥구 보정동',\n",
       "       '경기 용인시 기흥구 서천동', '경기 성남시 분당구 판교동', '경기 용인시 기흥구 신갈동',\n",
       "       '경기 성남시 분당구 분당동', '경기 성남시 분당구 삼평동', '경기 수원시 영통구 하동 9',\n",
       "       '경기 수원시 영통구 이의동', '경기 수원시 영통구 영통1동', '경기 성남시 중원구 하대원동',\n",
       "       '경기 성남시 분당구 야탑동', '경기 성남시 분당구 구미동', '경기 부천시 오정구 고강동',\n",
       "       '경기 성남시 중원구 상대원1', '경기 용인시 수지구 고기동', '경기 용인시 수지구 죽전동',\n",
       "       '경기 성남시 분당구 수내2동', '경기 광명시 광명2동 98-', '경기 용인시 기흥구 구갈동',\n",
       "       '충북 충주시 연수동 연수힐스', '경기 고양시 덕양구 토당동', '경기 수원시 영통구 원천동',\n",
       "       '경기 용인시 기흥구 마북동', '경기 과천시 원문동 4번지', '경기 광주시 오포읍 신현리',\n",
       "       '경기 성남시 분당구 서현동', '경기 용인시 기흥구 중동 어', '경기 용인시 기흥구 영덕동',\n",
       "       '경기 성남시 분당구 수내동', '경기 용인시 기흥구 언남동', '경기 성남시 분당구 백현동',\n",
       "       '경기 용인시 기흥구 중동 백', '경기 부천시 원미구 중동 5', '경기 수원시 권선구 구운동',\n",
       "       '경기 용인시 기흥구 청덕동', '경기 양평군 양서면 양수리', '강원 원주시 반곡동 1158',\n",
       "       '경기 광주시 장지동 376-', '경기 수원시 팔달구 인계동', '경기 오산시 궐동 우남아파트',\n",
       "       '경기 고양시 덕양구 화정동', '경기 수원시 영통구 하동 광', '강원 원주시 개운동 원흥3차',\n",
       "       '경기 용인시 기흥구 지곡동', '경기 용인시 처인구 고림동', '경남 창원시 성산구 상남동',\n",
       "       '경기 성남시 수정구 창곡동', '경기 수원시 영통구 하동 1', '경기 성남시 분당구 이매동',\n",
       "       '경기 과천시 원문동 래미안슈', '경기 안양시 동안구 귀인동', '경기 고양시 일산서구 주엽1',\n",
       "       '경기 성남시 분당구 운중동', '강원 홍천군 서석면 청량리', '경기 군포시 오금동 율곡아파',\n",
       "       '경기 안양시 동안구 평촌동', '경기 광주시 퇴촌면 관음리', '강원 춘천시 우두동 1080',\n",
       "       '경기 용인시 처인구 역북동', '경기 용인시 기흥구 중동 참', '대전 중구 태평동 삼부아파트',\n",
       "       '경기 하남시 학암동 671번', '전북 전주시 덕진구 장동 1', '경기 평택시 죽백동 720번',\n",
       "       '경기 화성시 청계동 512번', '인천 연수구 송도동  현대힐', '경기 안양시 동안구 관양동',\n",
       "       '경기 광주시 태전동 성원아파', '경기 오산시 원동 495번지', '경기 양평군 강상면 신화리',\n",
       "       '경기 수원시 영통구 영통동', '경기 용인시 처인구 이동면', '광주 광산구 월곡동 538-',\n",
       "       '경북 경산시 하양읍 금락리', '경남 창원시 마산회원구 경남', '경기 수원시 영통구 하동',\n",
       "       '경기 양평군 강상면 송학리', '경기 고양시 일산서구 일산2', '경기 성남시 중원구 여수동',\n",
       "       '경기 용인시 기흥구 보라동', '경기 화성시 청계동 동탄대로', '세종  도담동 도램마을14단',\n",
       "       '광주 남구 주월1동  한양아', '경기 양평군 개군면 주읍리', '경기 용인시 처인구 양지면',\n",
       "       '경기 용인시 기흥구 상하동', '경기 광주시 오포읍 능평리', '경기 용인시 기흥구 공세동',\n",
       "       '경기 용인시 기흥구 중동 성', '대전 유성구 지족동 894-', '경기 광주시 초월읍 쌍동리',\n",
       "       '경기 용인시 기흥구 동백동', '경기 성남시 분당구 수내3동', '경기 성남시 분당구 수내1동',\n",
       "       '인천 남동구 구월2동 롯데캐', '인천 계양구 이화동  신동아', '경기 과천시 갈현동 주공연립',\n",
       "       '경기 수원시 장안구 정자3동', '경기 화성시 청계동 520번', '충남 공주시 이인면 이인리',\n",
       "       '경기 가평군 설악면 선촌리', '경기 수원시 팔달구 화서동', '경기 용인시 기흥구 하갈동',\n",
       "       '경북 예천군 감천면 덕율리', '인천 연수구 송도1동 송도웰', '경기 수원시 장안구 조원동',\n",
       "       '경기 용인시 기흥구 상갈동', '경기 성남시 수정구 신흥동', '경기 용인시 처인구 원삼면',\n",
       "       '충북 청주시 상당구 용암동', '충남 공주시 신관동 대아곰나', '경기 화성시 반송동 시범한빛',\n",
       "       '경기 고양시 일산동구 장항2', '경기 수원시 장안구 이목동', '제주 제주시 일도이동 천수로',\n",
       "       '경기 이천시 사음동 현진에버', '경기 수원시 영통구 영통2동', '경기 고양시 일산서구 대화동',\n",
       "       '강원 춘천시 후평동 481번', '경기 성남시 수정구 태평2동', '경북 영주시 고현동 202-',\n",
       "       '경기 군포시 대야미동  센트', '경기 광주시 쌍령동 현대2차', '경기 시흥시 월곶동 1010',\n",
       "       '강원 원주시 태장2동 금광포', '경기 하남시 망월동 미사강변', '대전 유성구 추목동  창조대',\n",
       "       '경기 하남시 풍산동 480번', '경기 용인시 처인구 모현면', '경기 용인시 처인구 유방동',\n",
       "       '대전 서구 내동 23-37번', '인천 남동구 서창동 639번', '경기 수원시 장안구 율전동',\n",
       "       '경기 용인시 처인구 마평동', '경기 화성시 기산동 행림마을', '인천 부평구 부개3동 주공아',\n",
       "       '경기 오산시 세교동 잔다리마', '경기 화성시 기산동 476번', '인천 연수구 송도동 3-10',\n",
       "       '경기 고양시 일산서구 일산1', '충남 공주시 신관동 삼환나우', '강원 강릉시 교동 롯데캐슬@',\n",
       "       '경기 군포시 산본2동 신안모', '경기 안산시 단원구 고잔동', '경기 하남시 망월동 904번',\n",
       "       '인천 서구 원당동 852-1', '제주 제주시 노형동  부영', '경기 의왕시 내손동   포일',\n",
       "       '경기 부천시 소사구 범박동', '경기 군포시 수리동 계룡아파', '경기 의왕시 내손동 삼성래미',\n",
       "       '경기 과천시 별양동 주공아파', '경기 수원시 영통구 매탄동', '강원 영월군 영월읍 덕포리',\n",
       "       '경기 수원시 권선구 금곡동', '경기 파주시 동패동  책향기', '경기 파주시 문발동  노을빛',\n",
       "       '경기 성남시 분당구 금곡동', '경기 수원시 장안구 정자2동', '경기 남양주시 별내면 청학리',\n",
       "       '경기 광주시 역동 248번지', '경기 화성시 병점동 태안초등', '경기 고양시 일산서구 주엽2',\n",
       "       '대전 서구 둔산2동 향촌아파', '경기 성남시 중원구 은행동', '경기 구리시 수택3동 금호베',\n",
       "       '경기 고양시 일산동구 식사동', '경북 경주시 양남면 읍천리', '대구 수성구 파동 240번지',\n",
       "       '충남 천안시 서북구 불당동', '경기 수원시 영통구 망포동', '경기 수원시 영통구 신동 9',\n",
       "       '경기 고양시 덕양구 화정2동', '경기 고양시 일산동구 마두2', '경기 화성시 오산동 967-',\n",
       "       '경기 고양시 덕양구 성사1동', '경기 평택시 팽성읍 안정리', '경기 용인시 기흥구 중동 9',\n",
       "       '경기 부천시 오정구 여월동', '경기 성남시 중원구 도촌동', '경기 고양시 일산서구 탄현동',\n",
       "       '경기 부천시 원미구 상동 푸', '경기 화성시 반월동 960번', '경기 오산시 금암동 금암마을',\n",
       "       '경기 용인시 처인구 삼가동', '경기 수원시 팔달구 고등동', '경기 파주시 와동동  가람마',\n",
       "       '경기 김포시 장기동 고창마을', '경기 수원시 팔달구 우만2동', '경기 성남시 분당구 정자1동',\n",
       "       '경기 성남시 분당구 궁내동', '강원 원주시 중앙동 235', '전북 전주시 완산구 효자동2',\n",
       "       '경기 성남시 수정구 신흥2동', '경기 이천시 증포동 104-', '경기 의왕시 청계동  628',\n",
       "       '제주 제주시 애월읍 하귀1리', '경기 용인시 기흥구 중동 8', '울산 남구 무거동 1553번',\n",
       "       '경기 하남시 창우동 520번', '충북 청주시 상당구 용담동', '경기 여주군 여주읍 홍문리',\n",
       "       '경기 군포시 광정동 을지아파', '경기 남양주시 퇴계원면 쌍용', '경기 수원시 팔달구 우만동',\n",
       "       '강원 춘천시 퇴계동 905번', '경기 광주시 오포읍 양벌리', '강원 원주시 단구동 1547',\n",
       "       '경기 수원시 장안구 정자1동', '경기 광주시 태전동 59-6', '충남 부여군 남면 회동리 3',\n",
       "       '경기 성남시 중원구 중앙동', '경기 수원시 장안구 송죽동', '대전 유성구 전민동 세종아파',\n",
       "       '경기 안양시 동안구 평안동', '경기 안양시 동안구 관양1동', '경기 시흥시 신천동 870-',\n",
       "       '경기 용인시 처인구 포곡읍', '세종  어진동 649번지 호', '경기 고양시 덕양구 성사2동',\n",
       "       '경북 안동시 송현동 안동송현', '경기 양평군 용문면 덕촌리', '경기 화성시 청계동 A27블',\n",
       "       '대전 서구 둔산동 목련아파트', '경기 평택시 용이동 580번', '경기 군포시 오금동 한라1차',\n",
       "       '경기 고양시 덕양구 도내동', '경기 군포시 산본동 1240', '경기 하남시 학암동 662번',\n",
       "       '인천 서구 검암동 658-7', '경기 용인시 기흥구 중동 1', '제주 서귀포시 안덕면 덕수리',\n",
       "       '경기 화성시 봉담읍 와우리', '경남 창원시 의창구 경남 창', '경기 광주시 송정동 대주파크',\n",
       "       '경남 진주시 충무공동 230', '강원 원주시 문막읍 건등6리', '경기 군포시 산본2동 래미안',\n",
       "       '충북 영동군 용산면 한석리', '경기 안산시 단원구 선부동', '경기 안양시 동안구 관양2동',\n",
       "       '강원 원주시 반곡동 힐데스하', '경기 김포시 북변동 442-', '경기 안성시 공도읍 용두리',\n",
       "       '전북 부안군 변산면 운산리', '경기 의왕시 포일동 두산위브', '경기 양평군 용문면 중원리',\n",
       "       '경기 포천시 소흘읍 이동교리', '광주 남구 봉선동 490-1', '경기 광주시 장지동 벽산블루',\n",
       "       '경기 오산시 원동 901번지', '경기 성남시 분당구 석운동', '경기 과천시 중앙동 주공아파',\n",
       "       '경기 안양시 만안구 석수동', '경기 화성시 청계동 558번', '경기 수원시 권선구 권선동',\n",
       "       '경기 화성시 청계동 525번', '광주 광산구 장덕동 1043', '경기 화성시 동탄면 송리 6',\n",
       "       '강원 강릉시 포남동 1293', '경기 화성시 반송동 솔빛마을', '경기 화성시 반월동 신영통현',\n",
       "       '경기 화성시 안녕동 신한미지', '경기 의왕시 포일동 위브호수', '인천 남동구 구월2동 구월힐',\n",
       "       '대전 서구 관저동 1398번', '경기 용인시 기흥구 중동 호', '경기 화성시 반송동 시범다은',\n",
       "       '대전 서구 도안동 1364번', '경기 군포시 당동 주공3단지', '광주 광산구 장덕동 부영1차',\n",
       "       '경기 하남시 덕풍3동 참아름', '경기 수원시 영통구 매탄2동', '경기 고양시 일산동구 장항동',\n",
       "       '경기 화성시 병점동 성호1차', '경기 안양시 만안구 안양동', '경기 화성시 우정읍 조암리',\n",
       "       '경기 고양시 일산동구 중산동', '경기 용인시 기흥구 중동', '경기 안양시 동안구 신촌동',\n",
       "       '강원 강릉시 교동 136-3', '인천 서구 불로동  353-', '경기 화성시 청계동 동탄순환',\n",
       "       '인천 중구 내동 83-5번지', '경남 거제시 장평동 경남 거', '경기 화성시 반송동 135번',\n",
       "       '경기 과천시 중앙동 77번지', '경기 수원시 팔달구 우만1동', '경기 파주시 문발동  498',\n",
       "       '경북 예천군 호명면 산합리', '경기 부천시 중동 1102번', '경기 과천시 문원동 15-1',\n",
       "       '전남 해남군 산이면 부동리', '경기 의왕시 청계동 휴먼시아', '대구 수성구 황금1동 캐슬골',\n",
       "       '경기 수원시 권선구 호매실동', '대전 중구 태평동 317번지', '충남 천안시 동남구 목천읍',\n",
       "       '경기 남양주시 와부읍 덕소리', '경기 군포시 부곡동 1201', '경기 양주시 덕정동 한국아파',\n",
       "       '경기 남양주시 가운동 669', '경기 광주시 역동 245번지', '경기 수원시 팔달구 화서2동',\n",
       "       '충남 아산시 탕정면 명암리', '강원 원주시 개운동 28-1', '강원 횡성군 공근면 학담리',\n",
       "       '경기 고양시 일산서구 주엽동', '경기 고양시 일산서구 가좌동', '경기 수원시 팔달구 신풍동',\n",
       "       '대전 서구 정림동 641번지', '경기 광주시 태전동  245', '충남 계룡시 신도안면 해미르',\n",
       "       '대구 수성구 만촌1동 만촌화', '경북 김천시 율곡동 409번', '경기 화성시 기산동 90-2',\n",
       "       '경기 파주시 문발동  592', '경기 성남시 수정구 심곡동', '세종  도담동 보듬2로 43',\n",
       "       '경기 과천시 문원동 15-3', '경기 파주시 야당동  한빛마', '제주 제주시 이도이동 438',\n",
       "       '경북 김천시 율곡동 한신휴플', '인천 서구 연희동 청라자이아', '경기 안양시 동안구 비산1동',\n",
       "       '경기 화성시 병점동 안화마을', '경기 화성시 청계동 556번', '대전 서구 괴정동 423-2',\n",
       "       '경기 과천시 별양동 7번지', '경기 양평군 서종면 정배리', '경기 안산시 단원구 초지동',\n",
       "       '충남 천안시 쌍용동 주공10', '경기 평택시 비전동 평택효성', '경기 남양주시 지금동 129',\n",
       "       '인천 서구 당하동 1031번', '경기 용인시 처인구 운학동', '경기 성남시 중원구 성남동',\n",
       "       '경기 화성시 영천동 665번', '경기 화성시 향남읍 행정리', '경기 광주시 역동 247번지',\n",
       "       '경남 창원시 진해구 경남 창', '경기 안양시 만안구 안양4동', '경남 마산시 완월동 경남 마',\n",
       "       '경기 안양시 동안구 호계1동', '충남 아산시 인주면 공세리', '경기 용인시 처인구 김량장동',\n",
       "       '대전 유성구 어은동 한빛아파', '경기 과천시 과천동 -', '경기 양평군 양동면 매월리',\n",
       "       '경기 광주시 중부면 산성리', '충북 제천시 천남동 9-10', '경기 화성시 영천동 676번',\n",
       "       '대전 유성구 상대동  트리플', '경기 용인시 기흥구 중동 초', '경기 화성시 청계동 센트럴푸',\n",
       "       '충남 당진시 수청동 동부로', '경기 군포시 궁내동 대림솔거', '충북 청주시 청원구 오창읍',\n",
       "       '경기 화성시 동탄면 목리 3', '강원 원주시 신림면 황둔리', '경기 광명시 철산4동 도덕파',\n",
       "       '경기 안산시 상록구 사3동', '경기 화성시 석우동 예당마을', '경기 고양시 일산동구 마두동',\n",
       "       '경기 이천시 마장면 해월리', '경기 의왕시 포일동  숲속마', '경기 수원시 장안구 조원1동',\n",
       "       '경기 용인시 기흥구 중동 신', '충남 계룡시 금암동 신성미소', '경기 부천시 원미구 역곡동',\n",
       "       '경기 광주시 목현동 127-', '대전 대덕구 신탄진동 라이프', '강원 춘천시 사농동 롯데캐슬',\n",
       "       '경기 이천시 단월동 산 50', '경기 과천시 문원동 15-7', '경기 시흥시 거모동 1726',\n",
       "       '경기 화성시 병점동 신창1차', '경기 광주시 경안동 대우아파', '경기 파주시 목동동 해솔마을',\n",
       "       '경기 과천시 과천동 391-', '경기 성남시 수정구 시흥동', '인천 서구 검암동 516-1',\n",
       "       '강원 동해시 동회동 442번', '경남 창원시 의창구 용호동', '경기 여주시 점동면 사곡리',\n",
       "       '경기 군포시 광정동 삼성장미', '강원 원주시 신림면 금창리', '경기 의왕시 청계동  숲속마',\n",
       "       '경기 광주시 탄벌동 탄벌경남', '제주 제주시 이도이동 201', '충남 홍성군 홍동면 구정리',\n",
       "       '경기 수원시 장안구 연무동', '경기 안양시 동안구 비산3동', '광주 서구 쌍촌동 중흥S클래',\n",
       "       '경기 부천시 원미구 중4동', '경북 고령군 덕곡면 가륜리', '제주 제주시 조천읍 선흘리',\n",
       "       '경기 안양시 동안구 호계3동', '경기 안성시 대덕면 토현리', '경남 함양군 함양읍 교산리',\n",
       "       '경기 하남시 덕풍3동 진모루', '경기 파주시 문발동 헤르만하', '경기 광주시 역동 243번지',\n",
       "       '제주 서귀포시 표선면  일주', '제주 제주시 조천읍 대흘리', '경기 파주시 문산읍 문산리',\n",
       "       '충북 청주시 흥덕구 복대동', '경기 의정부시 호원1동 27', '경기 안양시 만안구 박달2동',\n",
       "       '광주 광산구 장덕동  대방노', '강원 고성군 토성면 교암리', '경남 김해시 장유면 경남 김',\n",
       "       '경기 평택시 합정동 876-', '강원 속초시 조양동 부영아파', '경기 화성시 능동 1134번',\n",
       "       '경기 파주시 조리읍 동문그린', '세종  종촌동 169-7번지', '인천 연수구 송도동 3-46',\n",
       "       '경기 오산시 금암동  금암마', '경기 성남시 수정구 태평1동', '경기 양평군 서종면 문호리',\n",
       "       '충남 천안시 서북구 두정동', '경기 김포시 구래동 6895', '경기 광주시 초월읍 도평리',\n",
       "       '경기 수원시 권선구 세류동', '경기 의왕시 내손1동 반도1', '경기 남양주시 별내동 900',\n",
       "       '경기 남양주시 호평동 주공아', '강원 평창군 봉평면 무이리', '경기 광주시 오포읍 고산리',\n",
       "       '강원 정선군 여량면 고양리', '경기 의정부시 호원1동 현대', '경기 수원시 장안구 천천동',\n",
       "       '경기 양주시 광사동 해동마을', '충북 제천시 장락동 로즈웰@', '경기 성남시 분당구 대장동',\n",
       "       '대전 서구 복수동 612번지', '경기 광주시 태전동 483-', '경기 성남시 수정구 상대원2',\n",
       "       '경기 의왕시 내손2동  69', '강원 원주시 무실동 주공아파', '경기 의왕시 청계동 628번',\n",
       "       '대전 유성구 전민동 엑스포아', '경기 김포시 사우동 238-', '대전 유성구 관평동 운암네오',\n",
       "       '경기 광주시 초월읍 용수리', '강원 춘천시 동면 장학리 두', '경기 과천시 부림동 주공아파',\n",
       "       '경기 화성시 영천동 반도유보', '경기 수원시 권선구 오목천동', '경기 수원시 장안구 조원2동',\n",
       "       '경기 광명시 철산3동 철산래', '대전 유성구 신성동 160-', '대전 유성구 관평동 쌍용스윗',\n",
       "       '강원 강릉시 내곡동 522', '대전 중구 태평동 422-7', '경기 성남시 분당구 율동 2',\n",
       "       '세종  어진동 세종더?센트럴', '경기 화성시 반월동 880번', '경기 안양시 동안구 호계동',\n",
       "       '충북 청주시 흥덕구 오송읍', '경기 광주시 퇴촌면 도수리', '강원 춘천시 남산면  백양리',\n",
       "       '인천 중구 운서동 2785-', '경기 광명시 철산2동 주공아', '경기 화성시 청계동 541번',\n",
       "       '경북 봉화군 춘양면 애당리4', '경기 광명시 하안3동 하안주', '제주 제주시 이도이동 신설로',\n",
       "       '경기 김포시 양촌면 양곡리1', '경기 안양시 동안구 호계2동', '경기 의왕시 청계동 976번',\n",
       "       '경기 수원시 장안구 정자동', '경기 남양주시 별내동 유승한', '경기 이천시 송정동 동양아파',\n",
       "       '경기 화성시 동탄면 산척리', '강원 속초시 조양동 삼성쉐르', '충남 아산시 배방읍 갈매리',\n",
       "       '대전 서구 월평3동 누리아파', '경기 광주시 오포읍 문형리', '경기 화성시 영천동 716번',\n",
       "       '경기 구리시 수택동 주공검배', '세종  아름동 보듬3로73', '경기 김포시 운양동  125',\n",
       "       '경기 광주시 탄벌동 765번', '충북 청주시 서원구 개신동', '경기 화성시 영천동 677번',\n",
       "       '강원 원주시 반곡동 2042', '제주 제주시 아라일동 612', '경기 성남시 수정구 복정동',\n",
       "       '충남 아산시 용화동 16-1', '경기 수원시 권선구 입북동', '경기 화성시 반송동 83번지',\n",
       "       '경기 광주시 목현동 431-', '대전 유성구 송강동 송강그린', '충북 제천시 강제동 903번',\n",
       "       '경기 군포시 재궁동 충무1차', '경북 문경시 흥덕동 776', '인천 연수구 연수동 577번',\n",
       "       '경기 안양시동안구 평촌동 9', '대구 수성구 범어1동 908', '세종  조치원읍 죽림리 자이',\n",
       "       '경기 광주시 경안동 193-', '경기 광주시 중대동 195-', '강원 평창군 용평면 용전리',\n",
       "       '경기 평택시 비전동 758-', '경기 군포시 산본2동 개나리', '경기 부천시 중동 1184-',\n",
       "       '경기 고양시 일산서구 일산동', '강원 동해시 천곡동 롯데아파', '경기 화성시 반송동 224번',\n",
       "       '경기 광주시 회덕동   19', '경기 여주시 산북면  해여림', '경기 의왕시 포일동 동아에코',\n",
       "       '경기 구리시 인창동 주공4단', '경기 고양시 덕양구 신원동', '전남 순천시 해룡면 상삼리',\n",
       "       '경기 시흥시 조남동 669번', '경기 안산시 상록구 사2동', '인천 서구 경서동 롯데캐슬아',\n",
       "       '경남 고성군 하이면 경남 고', '전북 전주시 완산구 평화동1', '대전 유성구 전민동 삼성푸른',\n",
       "       '경남 창원시 마산합포구 경남', '경기 수원시 영통구 하동 참', '경기 평택시 청북읍 옥길리',\n",
       "       '경기 고양시 덕양구 행신동', '경기 수원시 영통구 매탄1동', '경기 오산시 궐동 616-1',\n",
       "       '경기 화성시 반송동 140번', '경기 화성시 영천동 678-', '경기 화성시 청계동 대원칸타',\n",
       "       '경기 화성시 능동 숲속마을광', '경기 구리시 갈매동 77번지', '경기 군포시 금정동 871-',\n",
       "       '경기 군포시 부곡동 1211', '대구 수성구 범어동 77-7', '광주 북구 일곡동 대우아파트',\n",
       "       '강원 강릉시 교1동 주공2차', '강원 양양군 강현면 광석리', '경기 오산시 원동 운암청구아',\n",
       "       '경북 영주시 봉현면 유전리', '경기 하남시 풍산동 477번', '세종  한솔동 첫마을아파트7',\n",
       "       '경기 화성시 반월동 944번', '경기 부천시 원미구 상3동', '경북 상주시 화북면 입석리',\n",
       "       '경기 화성시 봉담읍 동화리', '강원 원주시 명륜1동 현대1', '경기 이천시 백사면 모전리',\n",
       "       '제주 제주시 한경면 저지리', '강원 원주시 행구동 1851', '강원 홍천군 남면 명동리 7',\n",
       "       '강원 원주시 단구동 대림아파', '경기 성남시 중원구 상대원2', '충남 천안시 동남구 안서동',\n",
       "       '경남 창원시 상남동 경남 창', '경기 남양주시 별내동 905', '대전 유성구 지족동 열매마을',\n",
       "       '경기 화성시 영천동 672번', '경기 고양시 덕양구 화정1동', '경기 군포시 궁내동 금강1차',\n",
       "       '경기 안양시 동안구 비산동', '경기 안양시 동안구 부림동', '전북 전주시 완산구 삼천동1',\n",
       "       '충남 천안시 동남구 신방동', '경기 이천시 증포동 선경2차', '경기 고양시 일산동구 백석동',\n",
       "       '경기 고양시 덕양구 행신3동', '전북 익산시 영등동 라인아파', '경기 수원시 권선구 곡반정동',\n",
       "       '경기 안산시 상록구 사동 1', '충북 충주시 연수동 연수아이', '충남 천안시 동남구 청당동',\n",
       "       '경기 하남시 창우동 부영아파', '충남 천안시 서북구 쌍용동', '인천 연수구 송도2동 송도힐',\n",
       "       '인천 중구 중산동 1887-', '세종  종촌동 649번지 가', '경기 안산시 상록구 본오동',\n",
       "       '충남 천안시 불당동 현대아이', '전북 무주군 무풍면 금평리', '경기 군포시 산본1동 239',\n",
       "       '경기 용인시 기흥구 중동 롯', '경기 부천시 원미구 역곡2동', '경기 안양시동안구 비산3동',\n",
       "       '제주 제주시 노형동 2273', '경기 화성시 병점동 819번', '경기 화성시 오산동 844-',\n",
       "       '경기 화성시 반송동 167번', '울산 북구 천곡동 삼성코아루', '경기 성남시 수정구 사송동',\n",
       "       '경기 남양주시 별내동  15', '충남 서산시 부석면  가사리', '경기 화성시 청계동 513번',\n",
       "       '경기 안양시 만안구 석수3동', '경기 과천시 중앙동 19-1', '경기 남양주시 별내동  동익',\n",
       "       '경기 광주시 역동 13-16', '대전 서구 둔산동 향촌아파트', '경기 남양주시 이패동 산 6',\n",
       "       '경기 광주시 탄벌동 40번지', '세종  도담동 653번지 도', '경기 의정부시 신곡2동 삼성',\n",
       "       '경기 남양주시 평내동 신명아', '경기 남양주시 별내동 남양주', '경기 의왕시 내손1동 삼성래',\n",
       "       '경기 과천시 중앙동 래미안에', '인천 동구 화수동 34-39', '경기 안양시 만안구 안양8동',\n",
       "       '경남 창원시 의창구 명서동', '강원 속초시 교동 658-2', '강원 강릉시 사천면 방동리',\n",
       "       '경기 성남시 수정구 태평동', '경기 성남시 수정구 양지동', '대전 유성구 구성동 373-',\n",
       "       '충남 금산군 복수면 곡남리'], dtype=object)"
      ]
     },
     "execution_count": 99,
     "metadata": {},
     "output_type": "execute_result"
    }
   ],
   "source": [
    "# 주소의 unique val 개수가 너무 많아서 중간에 잘려서 나온다. (...)\n",
    "# 이런 경우에는 unique 함수를 쓴다.\n",
    "df1[\"주소(중분류)\"].unique() \n",
    "# 주소가 너무 많아서 동단위로 구분하는 건 쉽지 않아 보인다. "
   ]
  },
  {
   "cell_type": "code",
   "execution_count": 105,
   "id": "ccbbc7df",
   "metadata": {},
   "outputs": [
    {
     "data": {
      "text/plain": [
       "경기기타    1863\n",
       "서울       754\n",
       "수지구      511\n",
       "상현       424\n",
       "신봉       212\n",
       "풍덕천2     184\n",
       "성복       181\n",
       "동천       156\n",
       "Name: 주소(중분류), dtype: int64"
      ]
     },
     "execution_count": 105,
     "metadata": {},
     "output_type": "execute_result"
    }
   ],
   "source": [
    "def func4(row):\n",
    "    if \"동천\" in row:\n",
    "        return \"동천\"\n",
    "    elif '신봉' in row:\n",
    "        return '신봉'\n",
    "    elif '풍덕천2' in row:\n",
    "        return '풍덕천2' # 풍덕천2라는 글자가 들어가면\n",
    "    elif '성복' in row:\n",
    "        return '성복'\n",
    "    elif '상현' in row:\n",
    "        return '상현'\n",
    "    elif '서울' in row:\n",
    "        return '서울'\n",
    "    elif '수지구' in row:\n",
    "        return '수지구'\n",
    "    else: # 빈도수가 많지 않은 지역은 기타로 묶어버리기\n",
    "         return '경기기타'\n",
    "    \n",
    "df1[\"주소(중분류)\"] = df1[\"주소\"].apply(func4)\n",
    "df1[\"주소(중분류)\"].value_counts() # 빈도수 decreaing sort 되어 있다 \n",
    "# 경기기타가 너무 많다. \n",
    "# 경기기타만 데이터 추출 기법 사용해서 추가 처리를 해줘도 된다. "
   ]
  },
  {
   "cell_type": "code",
   "execution_count": 108,
   "id": "92396158",
   "metadata": {},
   "outputs": [
    {
     "data": {
      "text/plain": [
       "16       경기 성남시 분당구 정자동\n",
       "22      인천 서구 당하동 895-1\n",
       "45       경기 성남시 분당구 동원동\n",
       "63      경기 오산시 내삼미동 899\n",
       "68      경기 수원시 영통구 매탄3동\n",
       "             ...       \n",
       "4278     경기 용인시 기흥구 보정동\n",
       "4279     충남 금산군 복수면 곡남리\n",
       "4280     경기 성남시 분당구 판교동\n",
       "4282     경기 성남시 분당구 백현동\n",
       "4284     경기 수원시 영통구 이의동\n",
       "Name: 주소, Length: 1863, dtype: object"
      ]
     },
     "execution_count": 108,
     "metadata": {},
     "output_type": "execute_result"
    }
   ],
   "source": [
    "# 경기기타에서 수원, 용인, 분당와 같이 더 나누는 작업을 할 수도 있다.\n",
    "cond1 = (df1[\"주소(중분류)\"] == \"경기기타\")\n",
    "df1.loc[cond1, \"주소\"]"
   ]
  },
  {
   "cell_type": "code",
   "execution_count": 109,
   "id": "c35bd89f",
   "metadata": {},
   "outputs": [
    {
     "data": {
      "text/plain": [
       "경기기타    1657\n",
       "서울       754\n",
       "수지구      511\n",
       "상현       424\n",
       "신봉       212\n",
       "수원       206\n",
       "풍덕천2     184\n",
       "성복       181\n",
       "동천       156\n",
       "Name: 주소(중분류), dtype: int64"
      ]
     },
     "execution_count": 109,
     "metadata": {},
     "output_type": "execute_result"
    }
   ],
   "source": [
    "# 데이터를 원하는 형태로 '분할'\n",
    "def func4(row):\n",
    "    if \"동천\" in row:\n",
    "        return \"동천\"\n",
    "    elif '신봉' in row:\n",
    "        return '신봉'\n",
    "    elif '풍덕천2' in row:\n",
    "        return '풍덕천2' # 풍덕천2라는 글자가 들어가면\n",
    "    elif '성복' in row:\n",
    "        return '성복'\n",
    "    elif '상현' in row:\n",
    "        return '상현'\n",
    "    elif '서울' in row:\n",
    "        return '서울'\n",
    "    elif '수지구' in row:\n",
    "        return '수지구'\n",
    "    elif '수원' in row:\n",
    "        return '수원'\n",
    "    else: # 빈도수가 많지 않은 지역은 기타로 묶어버리기\n",
    "         return '경기기타'\n",
    "    \n",
    "df1[\"주소(중분류)\"] = df1[\"주소\"].apply(func4)\n",
    "df1[\"주소(중분류)\"].value_counts() # 수원이 206개 따로 빠지고 경기기타가 줄었다. "
   ]
  },
  {
   "cell_type": "code",
   "execution_count": 110,
   "id": "9aaecc7a",
   "metadata": {},
   "outputs": [
    {
     "data": {
      "text/plain": [
       "서울      754\n",
       "경기기타    711\n",
       "수지구     511\n",
       "분당      504\n",
       "기흥      442\n",
       "상현      424\n",
       "신봉      212\n",
       "수원      206\n",
       "풍덕천2    184\n",
       "성복      181\n",
       "동천      156\n",
       "Name: 주소(중분류), dtype: int64"
      ]
     },
     "execution_count": 110,
     "metadata": {},
     "output_type": "execute_result"
    }
   ],
   "source": [
    "# 데이터를 원하는 형태로 '분할': 보면서 처리를 한다. \n",
    "# 이런 데이터는  지도를 펴놓고 처리를 하는게 가장좋다. \n",
    "def func4(row):\n",
    "    if \"동천\" in row:\n",
    "        return \"동천\"\n",
    "    elif '신봉' in row:\n",
    "        return '신봉'\n",
    "    elif '풍덕천2' in row:\n",
    "        return '풍덕천2' # 풍덕천2라는 글자가 들어가면\n",
    "    elif '성복' in row:\n",
    "        return '성복'\n",
    "    elif '상현' in row:\n",
    "        return '상현'\n",
    "    elif '서울' in row:\n",
    "        return '서울'\n",
    "    elif '수지구' in row:\n",
    "        return '수지구'\n",
    "    elif '수원' in row:\n",
    "        return '수원'\n",
    "    elif '분당' in row:\n",
    "        return '분당'\n",
    "    elif '기흥' in row:\n",
    "        return '기흥'\n",
    "    else: # 빈도수가 많지 않은 지역은 기타로 묶어버리기\n",
    "         return '경기기타'\n",
    "    \n",
    "df1[\"주소(중분류)\"] = df1[\"주소\"].apply(func4)\n",
    "df1[\"주소(중분류)\"].value_counts() # 수원이 206개 따로 빠지고 경기기타가 줄었다. "
   ]
  },
  {
   "cell_type": "code",
   "execution_count": 113,
   "id": "63b26fc5",
   "metadata": {},
   "outputs": [
    {
     "data": {
      "text/plain": [
       "<Axes: xlabel='주소(중분류)', ylabel='구매금액(clean)'>"
      ]
     },
     "execution_count": 113,
     "metadata": {},
     "output_type": "execute_result"
    },
    {
     "data": {
      "image/png": "[encoded data removed]",
      "text/plain": [
       "<Figure size 640x480 with 1 Axes>"
      ]
     },
     "metadata": {},
     "output_type": "display_data"
    }
   ],
   "source": [
    "# 매출액 계산\n",
    "# 구매력이 큰 지역: 풍덕천\n",
    "# 우리 매장에 주는 매출액의 규모\n",
    "sns.barplot(data=df1, x=\"주소(중분류)\", y=\"구매금액(clean)\", estimator=\"sum\", errorbar=None)"
   ]
  },
  {
   "cell_type": "code",
   "execution_count": 117,
   "id": "c8bf8064",
   "metadata": {},
   "outputs": [
    {
     "data": {
      "text/plain": [
       "<Axes: xlabel='주소(중분류)', ylabel='구매금액(clean)'>"
      ]
     },
     "execution_count": 117,
     "metadata": {},
     "output_type": "execute_result"
    },
    {
     "data": {
      "image/png": "[encoded data removed]",
      "text/plain": [
       "<Figure size 640x480 with 1 Axes>"
      ]
     },
     "metadata": {},
     "output_type": "display_data"
    }
   ],
   "source": [
    "# 구매력이 큰 순서대로 시각화: order에 꼭 df1[\"주소(중분류)\"].unique()가 모두 들어가야 할 필요는 없다. \n",
    "sns.barplot(data=df1, x=\"주소(중분류)\", y=\"구매금액(clean)\", estimator=\"sum\", errorbar=None,\n",
    "           order=['풍덕천2', '신봉', '상현', '동천','서울', '동천', '성복'])"
   ]
  },
  {
   "cell_type": "code",
   "execution_count": 119,
   "id": "3ed467cc",
   "metadata": {},
   "outputs": [
    {
     "data": {
      "text/plain": [
       "<Axes: xlabel='연령(clean)', ylabel='구매금액(clean)'>"
      ]
     },
     "execution_count": 119,
     "metadata": {},
     "output_type": "execute_result"
    },
    {
     "data": {
      "image/png": "[encoded data removed]",
      "text/plain": [
       "<Figure size 640x480 with 1 Axes>"
      ]
     },
     "metadata": {},
     "output_type": "display_data"
    }
   ],
   "source": [
    "# 연령대-구매금액(clean): 데이터 분포 확인\n",
    "sns.scatterplot(data=df1, x=\"연령(clean)\", y=\"구매금액(clean)\")"
   ]
  },
  {
   "cell_type": "code",
   "execution_count": 121,
   "id": "ca20eccb",
   "metadata": {},
   "outputs": [
    {
     "data": {
      "text/plain": [
       "<Axes: xlabel='연령대', ylabel='구매금액(clean)'>"
      ]
     },
     "execution_count": 121,
     "metadata": {},
     "output_type": "execute_result"
    },
    {
     "data": {
      "image/png": "[encoded data removed]",
      "text/plain": [
       "<Figure size 640x480 with 1 Axes>"
      ]
     },
     "metadata": {},
     "output_type": "display_data"
    }
   ],
   "source": [
    "# 연령대 파생변수를 생성했기 때문에, 다음과 같이 시각화를 할 수 있다. \n",
    "sns.barplot(data=df1, x=\"연령대\", y=\"구매금액(clean)\", estimator=\"sum\", errorbar=None)\n",
    "# 숫자-숫자 데이터 분포 확인했을 때와, 문자-숫자 데이터 분포 확인했을 때와 다른 결과가 나왔다. \n",
    "# 숫자-숫자 데이터 분포로는 4-50대 고객들이 구매력이 크다 정도만 보이는 반면, \n",
    "# 문자-숫자 데이터 분포는 정확히 어느 연령대가 우리 매장 매출액에 가장 많이 기여하는지 정확하게 보인다. \n",
    "# 이런식으로 데이터 타입을 변환해서 데이터를 분석하면, 더 다양한 insight를 얻을 수 있다. \n",
    "\n",
    "# apply 사용해서\n",
    "# 숫자 -> 문자\n",
    "# 문자 -> 문자\n",
    "# 이렇게 하려면 python 베이스가 탄탄해야 한다.\n",
    "\n",
    "# 실무에서\n",
    "# 문자열 데이터 처리, \n",
    "# if 문\n",
    "# 이 많이 쓰인다. "
   ]
  },
  {
   "cell_type": "code",
   "execution_count": 123,
   "id": "9806fc26",
   "metadata": {},
   "outputs": [
    {
     "data": {
      "text/plain": [
       "Index(['Unnamed: 0', '회원번호', '회원상태', '성별', '결혼유무', '주소', '생년', '구매금액(clean)',\n",
       "       '구매수량(clean)', '총방문횟수', '간식(%)', '건강(%)', '과실(%)', '생활용품(%)', '서류(%)',\n",
       "       '수산(%)', '양념/가루(%)', '음료(%)', '잡곡(%)', '주곡(%)', '채소(%)', '축산물(%)',\n",
       "       '1회방문시평균구매금액', '주소(apply1)', '연령', '연령(clean)', '연령대', '주소(중분류)'],\n",
       "      dtype='object')"
      ]
     },
     "execution_count": 123,
     "metadata": {},
     "output_type": "execute_result"
    }
   ],
   "source": [
    "df1.columns"
   ]
  },
  {
   "cell_type": "code",
   "execution_count": 124,
   "id": "7f088c0c",
   "metadata": {},
   "outputs": [
    {
     "data": {
      "text/plain": [
       "<Axes: xlabel='연령대', ylabel='축산물(%)'>"
      ]
     },
     "execution_count": 124,
     "metadata": {},
     "output_type": "execute_result"
    },
    {
     "data": {
      "image/png": "[encoded data removed]",
      "text/plain": [
       "<Figure size 640x480 with 1 Axes>"
      ]
     },
     "metadata": {},
     "output_type": "display_data"
    }
   ],
   "source": [
    "# 축산물만 보자. \n",
    "# 이것은 평균으로 계산해야 한다. \n",
    "# 축산물은 90대, 20대가 가장 많이 산다. \n",
    "sns.barplot(data=df1, x=\"연령대\", y=\"축산물(%)\", estimator=\"mean\", errorbar=None)"
   ]
  },
  {
   "cell_type": "code",
   "execution_count": 125,
   "id": "4c472b07",
   "metadata": {},
   "outputs": [
    {
     "data": {
      "text/plain": [
       "<Axes: xlabel='연령대', ylabel='간식(%)'>"
      ]
     },
     "execution_count": 125,
     "metadata": {},
     "output_type": "execute_result"
    },
    {
     "data": {
      "image/png": "[encoded data removed]",
      "text/plain": [
       "<Figure size 640x480 with 1 Axes>"
      ]
     },
     "metadata": {},
     "output_type": "display_data"
    }
   ],
   "source": [
    "# 간식\n",
    "sns.barplot(data=df1, x=\"연령대\", y=\"간식(%)\", estimator=\"mean\", errorbar=None)"
   ]
  },
  {
   "cell_type": "code",
   "execution_count": null,
   "id": "05329871",
   "metadata": {},
   "outputs": [],
   "source": [
    "# 이런 식으로 파생변수를 만들어서 데이터를 분석하면 \n",
    "# 같은 데이터로부터 더 많은 insight를 얻을 수 있다. "
   ]
  },
  {
   "cell_type": "code",
   "execution_count": 126,
   "id": "720b0273",
   "metadata": {},
   "outputs": [],
   "source": [
    "# 이런 그림자료들을 활용해서, 데이터를 입체적으로 분석할 수 있다. "
   ]
  },
  {
   "cell_type": "code",
   "execution_count": 127,
   "id": "8a038b7f",
   "metadata": {},
   "outputs": [],
   "source": [
    "# 데이터 분석은 시각화에서 끝나면 안된다. \n",
    "# 원래 통계적 가설 검정이라는 단계를 거쳐서, \n",
    "# 이 연령대 간의 유의미한 차이가 있냐 없냐를\n",
    "# 객관적으로 규명해주는 작업이 필요하다. \n",
    "\n",
    "# 이를 하려면 통계학을 깊게 공부해야 한다. "
   ]
  },
  {
   "cell_type": "code",
   "execution_count": 128,
   "id": "0c68ddf5",
   "metadata": {},
   "outputs": [],
   "source": [
    "# apply 기능은 연습이 많이 필요하다. \n",
    "# 현재 업무를 보고 있다면\n",
    "# 현재 업무에서 보고 있는 데이터로, \n",
    "# 데이터를 다양하게 처리하는 연습을 해보라. \n",
    "\n",
    "# 취준생이라면\n",
    "# 제공된 실습 데이터로 \n",
    "# 개인 프로젝트를 해보라. \n",
    "# 또는 클래스에서 배운 내용을 다른 데이터에 적용해보는 연습을해볼 것을 추천한다. \n",
    "\n",
    "# 데이터를 어떻게 다루고 처리하고 분석할 것인가? "
   ]
  },
  {
   "cell_type": "markdown",
   "id": "756d5e9f",
   "metadata": {},
   "source": [
    "Mission\n",
    "데이터를 이용해 계산한 '구매금액(clean)'을, 성별과 연령대에 따라 평균,합,표준편차를 계산하여, 데이터 파일형태로 저장해 보세요!"
   ]
  },
  {
   "cell_type": "code",
   "execution_count": 189,
   "id": "9ff42b13",
   "metadata": {},
   "outputs": [
    {
     "data": {
      "text/html": [
       "<div>\n",
       "<style scoped>\n",
       "    .dataframe tbody tr th:only-of-type {\n",
       "        vertical-align: middle;\n",
       "    }\n",
       "\n",
       "    .dataframe tbody tr th {\n",
       "        vertical-align: top;\n",
       "    }\n",
       "\n",
       "    .dataframe thead th {\n",
       "        text-align: right;\n",
       "    }\n",
       "</style>\n",
       "<table border=\"1\" class=\"dataframe\">\n",
       "  <thead>\n",
       "    <tr style=\"text-align: right;\">\n",
       "      <th></th>\n",
       "      <th>Unnamed: 0</th>\n",
       "      <th>Unnamed: 1</th>\n",
       "      <th>mean</th>\n",
       "      <th>sum</th>\n",
       "      <th>std</th>\n",
       "    </tr>\n",
       "  </thead>\n",
       "  <tbody>\n",
       "    <tr>\n",
       "      <th>0</th>\n",
       "      <td>NaN</td>\n",
       "      <td>NaN</td>\n",
       "      <td>구매금액(clean)</td>\n",
       "      <td>구매금액(clean)</td>\n",
       "      <td>구매금액(clean)</td>\n",
       "    </tr>\n",
       "    <tr>\n",
       "      <th>1</th>\n",
       "      <td>성별</td>\n",
       "      <td>연령대</td>\n",
       "      <td>NaN</td>\n",
       "      <td>NaN</td>\n",
       "      <td>NaN</td>\n",
       "    </tr>\n",
       "    <tr>\n",
       "      <th>2</th>\n",
       "      <td>남</td>\n",
       "      <td>20대</td>\n",
       "      <td>3550</td>\n",
       "      <td>7100</td>\n",
       "      <td>5020.46</td>\n",
       "    </tr>\n",
       "    <tr>\n",
       "      <th>3</th>\n",
       "      <td>NaN</td>\n",
       "      <td>30대</td>\n",
       "      <td>171192.76</td>\n",
       "      <td>4964590</td>\n",
       "      <td>280883.69</td>\n",
       "    </tr>\n",
       "    <tr>\n",
       "      <th>4</th>\n",
       "      <td>NaN</td>\n",
       "      <td>40대</td>\n",
       "      <td>597710.43</td>\n",
       "      <td>93242827</td>\n",
       "      <td>1705581.34</td>\n",
       "    </tr>\n",
       "    <tr>\n",
       "      <th>5</th>\n",
       "      <td>NaN</td>\n",
       "      <td>50대</td>\n",
       "      <td>460705.39</td>\n",
       "      <td>70027220</td>\n",
       "      <td>752745.25</td>\n",
       "    </tr>\n",
       "    <tr>\n",
       "      <th>6</th>\n",
       "      <td>NaN</td>\n",
       "      <td>60대</td>\n",
       "      <td>419173.68</td>\n",
       "      <td>31857200</td>\n",
       "      <td>604852.54</td>\n",
       "    </tr>\n",
       "    <tr>\n",
       "      <th>7</th>\n",
       "      <td>NaN</td>\n",
       "      <td>70대</td>\n",
       "      <td>574764.26</td>\n",
       "      <td>31037270</td>\n",
       "      <td>1073582.76</td>\n",
       "    </tr>\n",
       "    <tr>\n",
       "      <th>8</th>\n",
       "      <td>NaN</td>\n",
       "      <td>80대</td>\n",
       "      <td>314276.14</td>\n",
       "      <td>13828150</td>\n",
       "      <td>357990.69</td>\n",
       "    </tr>\n",
       "    <tr>\n",
       "      <th>9</th>\n",
       "      <td>NaN</td>\n",
       "      <td>90대</td>\n",
       "      <td>157333.33</td>\n",
       "      <td>472000</td>\n",
       "      <td>107092.98</td>\n",
       "    </tr>\n",
       "    <tr>\n",
       "      <th>10</th>\n",
       "      <td>NaN</td>\n",
       "      <td>n0대</td>\n",
       "      <td>1830010</td>\n",
       "      <td>5490030</td>\n",
       "      <td>3123460.08</td>\n",
       "    </tr>\n",
       "    <tr>\n",
       "      <th>11</th>\n",
       "      <td>여</td>\n",
       "      <td>20대</td>\n",
       "      <td>567740</td>\n",
       "      <td>1135480</td>\n",
       "      <td>746266.35</td>\n",
       "    </tr>\n",
       "    <tr>\n",
       "      <th>12</th>\n",
       "      <td>NaN</td>\n",
       "      <td>30대</td>\n",
       "      <td>433143.96</td>\n",
       "      <td>104387695</td>\n",
       "      <td>780260.06</td>\n",
       "    </tr>\n",
       "    <tr>\n",
       "      <th>13</th>\n",
       "      <td>NaN</td>\n",
       "      <td>40대</td>\n",
       "      <td>1018218.11</td>\n",
       "      <td>1168914390</td>\n",
       "      <td>2321777.25</td>\n",
       "    </tr>\n",
       "    <tr>\n",
       "      <th>14</th>\n",
       "      <td>NaN</td>\n",
       "      <td>50대</td>\n",
       "      <td>1455187.23</td>\n",
       "      <td>1447911290</td>\n",
       "      <td>3098988.26</td>\n",
       "    </tr>\n",
       "    <tr>\n",
       "      <th>15</th>\n",
       "      <td>NaN</td>\n",
       "      <td>60대</td>\n",
       "      <td>839171.39</td>\n",
       "      <td>634413571</td>\n",
       "      <td>1545044.74</td>\n",
       "    </tr>\n",
       "    <tr>\n",
       "      <th>16</th>\n",
       "      <td>NaN</td>\n",
       "      <td>70대</td>\n",
       "      <td>920329.28</td>\n",
       "      <td>404024555</td>\n",
       "      <td>1400792.30</td>\n",
       "    </tr>\n",
       "    <tr>\n",
       "      <th>17</th>\n",
       "      <td>NaN</td>\n",
       "      <td>80대</td>\n",
       "      <td>722349.75</td>\n",
       "      <td>115575960</td>\n",
       "      <td>1051262.74</td>\n",
       "    </tr>\n",
       "    <tr>\n",
       "      <th>18</th>\n",
       "      <td>NaN</td>\n",
       "      <td>90대</td>\n",
       "      <td>734817.19</td>\n",
       "      <td>11757075</td>\n",
       "      <td>1425118.53</td>\n",
       "    </tr>\n",
       "    <tr>\n",
       "      <th>19</th>\n",
       "      <td>NaN</td>\n",
       "      <td>n0대</td>\n",
       "      <td>5635407.50</td>\n",
       "      <td>33812445</td>\n",
       "      <td>5417714.87</td>\n",
       "    </tr>\n",
       "  </tbody>\n",
       "</table>\n",
       "</div>"
      ],
      "text/plain": [
       "   Unnamed: 0 Unnamed: 1         mean          sum          std\n",
       "0         NaN        NaN  구매금액(clean)  구매금액(clean)  구매금액(clean)\n",
       "1          성별        연령대          NaN          NaN          NaN\n",
       "2           남        20대         3550         7100      5020.46\n",
       "3         NaN        30대    171192.76      4964590    280883.69\n",
       "4         NaN        40대    597710.43     93242827   1705581.34\n",
       "5         NaN        50대    460705.39     70027220    752745.25\n",
       "6         NaN        60대    419173.68     31857200    604852.54\n",
       "7         NaN        70대    574764.26     31037270   1073582.76\n",
       "8         NaN        80대    314276.14     13828150    357990.69\n",
       "9         NaN        90대    157333.33       472000    107092.98\n",
       "10        NaN        n0대      1830010      5490030   3123460.08\n",
       "11          여        20대       567740      1135480    746266.35\n",
       "12        NaN        30대    433143.96    104387695    780260.06\n",
       "13        NaN        40대   1018218.11   1168914390   2321777.25\n",
       "14        NaN        50대   1455187.23   1447911290   3098988.26\n",
       "15        NaN        60대    839171.39    634413571   1545044.74\n",
       "16        NaN        70대    920329.28    404024555   1400792.30\n",
       "17        NaN        80대    722349.75    115575960   1051262.74\n",
       "18        NaN        90대    734817.19     11757075   1425118.53\n",
       "19        NaN        n0대   5635407.50     33812445   5417714.87"
      ]
     },
     "execution_count": 189,
     "metadata": {},
     "output_type": "execute_result"
    }
   ],
   "source": [
    "import pandas as pd\n",
    "pd.options.display.float_format = \"{:.2f}\".format\n",
    "import numpy as np\n",
    "\n",
    "\n",
    "df1 = pd.read_csv(\"dataset/store_member_total_1.csv\")\n",
    "df1[\"연령\"] = 2023 - df1[\"생년\"]\n",
    "#df1[\"연령(clean)\"].describe()\n",
    "cond1 = (df1[\"연령\"] > 0)\n",
    "cond2 = (df1[\"연령\"] < 100)\n",
    "df1.loc[cond1&cond2, \"연령(clean)\"] = df1[\"연령\"]\n",
    "df1.loc[~cond1&cond2, \"연령(clean)\"] = np.nan\n",
    "#df1[\"연령(clean)\"].describe()\n",
    "\n",
    "def func1(row):\n",
    "    result = str(row)\n",
    "    return result[0] + \"0대\"\n",
    "\n",
    "df1[\"연령대\"] = df1[\"연령(clean)\"].apply(func1)\n",
    "df2 = df1[[\"연령대\", \"성별\", \"구매금액(clean)\"]]\n",
    "#help(pd.DataFrame.pivot_table)\n",
    "df3 = df2.pivot_table(index=[\"성별\", \"연령대\"], values=\"구매금액(clean)\", aggfunc=[np.mean, np.sum, np.std])\n",
    "df3.to_excel(\"submission.xlsx\", float_format=\"%.2f\")\n",
    "#pd.read_excel(\"submission.xlsx\")"
   ]
  },
  {
   "cell_type": "code",
   "execution_count": null,
   "id": "ed93d1aa",
   "metadata": {},
   "outputs": [],
   "source": []
  },
  {
   "cell_type": "code",
   "execution_count": null,
   "id": "63dad402",
   "metadata": {},
   "outputs": [],
   "source": []
  }
 ],
 "metadata": {
  "kernelspec": {
   "display_name": "Python 3 (ipykernel)",
   "language": "python",
   "name": "python3"
  },
  "language_info": {
   "codemirror_mode": {
    "name": "ipython",
    "version": 3
   },
   "file_extension": ".py",
   "mimetype": "text/x-python",
   "name": "python",
   "nbconvert_exporter": "python",
   "pygments_lexer": "ipython3",
   "version": "3.10.9"
  }
 },
 "nbformat": 4,
 "nbformat_minor": 5
}
