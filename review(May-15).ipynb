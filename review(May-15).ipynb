{
 "cells": [
  {
   "cell_type": "code",
   "execution_count": 1,
   "id": "56bbe636",
   "metadata": {},
   "outputs": [],
   "source": [
    "import pandas as pd"
   ]
  },
  {
   "cell_type": "code",
   "execution_count": 3,
   "id": "6fcb4672",
   "metadata": {},
   "outputs": [],
   "source": [
    "df1 = pd.read_csv(\"04_store_member.csv\")"
   ]
  },
  {
   "cell_type": "code",
   "execution_count": 5,
   "id": "528b6709",
   "metadata": {},
   "outputs": [],
   "source": [
    "df2 = pd.read_csv(\"04_store_product_1.csv\")"
   ]
  },
  {
   "cell_type": "code",
   "execution_count": 7,
   "id": "bbadedc2",
   "metadata": {},
   "outputs": [
    {
     "data": {
      "text/plain": [
       "Index(['회원번호'], dtype='object')"
      ]
     },
     "execution_count": 7,
     "metadata": {},
     "output_type": "execute_result"
    }
   ],
   "source": [
    "df1.columns.intersection(df2.columns)"
   ]
  },
  {
   "cell_type": "code",
   "execution_count": 10,
   "id": "86af8073",
   "metadata": {},
   "outputs": [
    {
     "name": "stdout",
     "output_type": "stream",
     "text": [
      "<class 'pandas.core.frame.DataFrame'>\n",
      "RangeIndex: 130893 entries, 0 to 130892\n",
      "Data columns (total 11 columns):\n",
      " #   Column    Non-Null Count   Dtype  \n",
      "---  ------    --------------   -----  \n",
      " 0   공급일자      130893 non-null  int64  \n",
      " 1   물품코드      130893 non-null  int64  \n",
      " 2   물품대분류     130893 non-null  object \n",
      " 3   물품중분류     130889 non-null  object \n",
      " 4   물품소분류     130890 non-null  object \n",
      " 5   물품명       130891 non-null  object \n",
      " 6   구매수량      130893 non-null  float64\n",
      " 7   구매금액      130893 non-null  int64  \n",
      " 8   구매매장      130891 non-null  object \n",
      " 9   반품_원거래일자  1940 non-null    float64\n",
      " 10  회원번호      130893 non-null  int64  \n",
      "dtypes: float64(2), int64(4), object(5)\n",
      "memory usage: 11.0+ MB\n"
     ]
    }
   ],
   "source": [
    "df2.info()"
   ]
  },
  {
   "cell_type": "code",
   "execution_count": 12,
   "id": "c28d7e0e",
   "metadata": {},
   "outputs": [
    {
     "data": {
      "text/html": [
       "<div>\n",
       "<style scoped>\n",
       "    .dataframe tbody tr th:only-of-type {\n",
       "        vertical-align: middle;\n",
       "    }\n",
       "\n",
       "    .dataframe tbody tr th {\n",
       "        vertical-align: top;\n",
       "    }\n",
       "\n",
       "    .dataframe thead th {\n",
       "        text-align: right;\n",
       "    }\n",
       "</style>\n",
       "<table border=\"1\" class=\"dataframe\">\n",
       "  <thead>\n",
       "    <tr style=\"text-align: right;\">\n",
       "      <th></th>\n",
       "      <th>공급일자</th>\n",
       "      <th>물품코드</th>\n",
       "      <th>물품대분류</th>\n",
       "      <th>물품중분류</th>\n",
       "      <th>물품소분류</th>\n",
       "      <th>물품명</th>\n",
       "      <th>구매수량</th>\n",
       "      <th>구매금액</th>\n",
       "      <th>구매매장</th>\n",
       "      <th>반품_원거래일자</th>\n",
       "      <th>회원번호</th>\n",
       "    </tr>\n",
       "  </thead>\n",
       "  <tbody>\n",
       "    <tr>\n",
       "      <th>0</th>\n",
       "      <td>20170201</td>\n",
       "      <td>50301001</td>\n",
       "      <td>채소</td>\n",
       "      <td>과일채소</td>\n",
       "      <td>딸기</td>\n",
       "      <td>딸기(1kg)</td>\n",
       "      <td>1.0</td>\n",
       "      <td>13600</td>\n",
       "      <td>매장1</td>\n",
       "      <td>NaN</td>\n",
       "      <td>2102</td>\n",
       "    </tr>\n",
       "    <tr>\n",
       "      <th>1</th>\n",
       "      <td>20170201</td>\n",
       "      <td>80201053</td>\n",
       "      <td>간식</td>\n",
       "      <td>떡</td>\n",
       "      <td>가래떡</td>\n",
       "      <td>현미가래떡(400g)</td>\n",
       "      <td>1.0</td>\n",
       "      <td>99999999</td>\n",
       "      <td>매장1</td>\n",
       "      <td>NaN</td>\n",
       "      <td>2102</td>\n",
       "    </tr>\n",
       "  </tbody>\n",
       "</table>\n",
       "</div>"
      ],
      "text/plain": [
       "       공급일자      물품코드 물품대분류 물품중분류 물품소분류          물품명  구매수량      구매금액 구매매장  \\\n",
       "0  20170201  50301001    채소  과일채소    딸기      딸기(1kg)   1.0     13600  매장1   \n",
       "1  20170201  80201053    간식     떡   가래떡  현미가래떡(400g)   1.0  99999999  매장1   \n",
       "\n",
       "   반품_원거래일자  회원번호  \n",
       "0       NaN  2102  \n",
       "1       NaN  2102  "
      ]
     },
     "execution_count": 12,
     "metadata": {},
     "output_type": "execute_result"
    }
   ],
   "source": [
    "# 구매 물품 데이터\n",
    "df2.head(2)"
   ]
  },
  {
   "cell_type": "code",
   "execution_count": 19,
   "id": "00f2a811",
   "metadata": {},
   "outputs": [],
   "source": [
    "df3 = df2.pivot_table(index=\"회원번호\",\n",
    "                values=[\"구매수량\", \"구매금액\"],\n",
    "                aggfunc=\"sum\").reset_index()"
   ]
  },
  {
   "cell_type": "code",
   "execution_count": 24,
   "id": "a1363dd0",
   "metadata": {},
   "outputs": [
    {
     "data": {
      "text/html": [
       "<div>\n",
       "<style scoped>\n",
       "    .dataframe tbody tr th:only-of-type {\n",
       "        vertical-align: middle;\n",
       "    }\n",
       "\n",
       "    .dataframe tbody tr th {\n",
       "        vertical-align: top;\n",
       "    }\n",
       "\n",
       "    .dataframe thead th {\n",
       "        text-align: right;\n",
       "    }\n",
       "</style>\n",
       "<table border=\"1\" class=\"dataframe\">\n",
       "  <thead>\n",
       "    <tr style=\"text-align: right;\">\n",
       "      <th></th>\n",
       "      <th>회원번호</th>\n",
       "      <th>구매금액</th>\n",
       "      <th>구매수량</th>\n",
       "    </tr>\n",
       "  </thead>\n",
       "  <tbody>\n",
       "    <tr>\n",
       "      <th>0</th>\n",
       "      <td>2102</td>\n",
       "      <td>102093159</td>\n",
       "      <td>472.5</td>\n",
       "    </tr>\n",
       "    <tr>\n",
       "      <th>1</th>\n",
       "      <td>2103</td>\n",
       "      <td>7904400</td>\n",
       "      <td>1586.4</td>\n",
       "    </tr>\n",
       "    <tr>\n",
       "      <th>2</th>\n",
       "      <td>2104</td>\n",
       "      <td>389040</td>\n",
       "      <td>112.0</td>\n",
       "    </tr>\n",
       "    <tr>\n",
       "      <th>3</th>\n",
       "      <td>2105</td>\n",
       "      <td>3067930</td>\n",
       "      <td>602.0</td>\n",
       "    </tr>\n",
       "    <tr>\n",
       "      <th>4</th>\n",
       "      <td>2106</td>\n",
       "      <td>54550</td>\n",
       "      <td>25.0</td>\n",
       "    </tr>\n",
       "    <tr>\n",
       "      <th>...</th>\n",
       "      <td>...</td>\n",
       "      <td>...</td>\n",
       "      <td>...</td>\n",
       "    </tr>\n",
       "    <tr>\n",
       "      <th>1378</th>\n",
       "      <td>6471</td>\n",
       "      <td>1600</td>\n",
       "      <td>1.0</td>\n",
       "    </tr>\n",
       "    <tr>\n",
       "      <th>1379</th>\n",
       "      <td>6474</td>\n",
       "      <td>709400</td>\n",
       "      <td>175.0</td>\n",
       "    </tr>\n",
       "    <tr>\n",
       "      <th>1380</th>\n",
       "      <td>6478</td>\n",
       "      <td>2600</td>\n",
       "      <td>1.0</td>\n",
       "    </tr>\n",
       "    <tr>\n",
       "      <th>1381</th>\n",
       "      <td>6489</td>\n",
       "      <td>22100</td>\n",
       "      <td>14.0</td>\n",
       "    </tr>\n",
       "    <tr>\n",
       "      <th>1382</th>\n",
       "      <td>6490</td>\n",
       "      <td>13400</td>\n",
       "      <td>2.0</td>\n",
       "    </tr>\n",
       "  </tbody>\n",
       "</table>\n",
       "<p>1383 rows × 3 columns</p>\n",
       "</div>"
      ],
      "text/plain": [
       "      회원번호       구매금액    구매수량\n",
       "0     2102  102093159   472.5\n",
       "1     2103    7904400  1586.4\n",
       "2     2104     389040   112.0\n",
       "3     2105    3067930   602.0\n",
       "4     2106      54550    25.0\n",
       "...    ...        ...     ...\n",
       "1378  6471       1600     1.0\n",
       "1379  6474     709400   175.0\n",
       "1380  6478       2600     1.0\n",
       "1381  6489      22100    14.0\n",
       "1382  6490      13400     2.0\n",
       "\n",
       "[1383 rows x 3 columns]"
      ]
     },
     "execution_count": 24,
     "metadata": {},
     "output_type": "execute_result"
    }
   ],
   "source": [
    "# 1383\n",
    "df3"
   ]
  },
  {
   "cell_type": "code",
   "execution_count": 22,
   "id": "4ef5ada4",
   "metadata": {
    "scrolled": false
   },
   "outputs": [
    {
     "data": {
      "text/html": [
       "<div>\n",
       "<style scoped>\n",
       "    .dataframe tbody tr th:only-of-type {\n",
       "        vertical-align: middle;\n",
       "    }\n",
       "\n",
       "    .dataframe tbody tr th {\n",
       "        vertical-align: top;\n",
       "    }\n",
       "\n",
       "    .dataframe thead th {\n",
       "        text-align: right;\n",
       "    }\n",
       "</style>\n",
       "<table border=\"1\" class=\"dataframe\">\n",
       "  <thead>\n",
       "    <tr style=\"text-align: right;\">\n",
       "      <th></th>\n",
       "      <th>회원번호</th>\n",
       "      <th>회원상태</th>\n",
       "      <th>성별</th>\n",
       "      <th>결혼유무</th>\n",
       "      <th>주소</th>\n",
       "      <th>생년</th>\n",
       "    </tr>\n",
       "  </thead>\n",
       "  <tbody>\n",
       "    <tr>\n",
       "      <th>0</th>\n",
       "      <td>2101</td>\n",
       "      <td>정상회원</td>\n",
       "      <td>여</td>\n",
       "      <td>기혼</td>\n",
       "      <td>서울 강북구 미아동 134-</td>\n",
       "      <td>1967.0</td>\n",
       "    </tr>\n",
       "    <tr>\n",
       "      <th>1</th>\n",
       "      <td>2102</td>\n",
       "      <td>정상회원</td>\n",
       "      <td>여</td>\n",
       "      <td>NaN</td>\n",
       "      <td>경기 용인시 수지구 동천동</td>\n",
       "      <td>1947.0</td>\n",
       "    </tr>\n",
       "    <tr>\n",
       "      <th>2</th>\n",
       "      <td>2103</td>\n",
       "      <td>정상회원</td>\n",
       "      <td>여</td>\n",
       "      <td>기혼</td>\n",
       "      <td>경기 용인시 수지구 동천동</td>\n",
       "      <td>1972.0</td>\n",
       "    </tr>\n",
       "    <tr>\n",
       "      <th>3</th>\n",
       "      <td>2104</td>\n",
       "      <td>정상회원</td>\n",
       "      <td>여</td>\n",
       "      <td>NaN</td>\n",
       "      <td>경기 용인시 수지구 성복동</td>\n",
       "      <td>1969.0</td>\n",
       "    </tr>\n",
       "    <tr>\n",
       "      <th>4</th>\n",
       "      <td>2105</td>\n",
       "      <td>정상회원</td>\n",
       "      <td>여</td>\n",
       "      <td>기혼</td>\n",
       "      <td>경기 용인시 수지구 동천동</td>\n",
       "      <td>1948.0</td>\n",
       "    </tr>\n",
       "    <tr>\n",
       "      <th>...</th>\n",
       "      <td>...</td>\n",
       "      <td>...</td>\n",
       "      <td>...</td>\n",
       "      <td>...</td>\n",
       "      <td>...</td>\n",
       "      <td>...</td>\n",
       "    </tr>\n",
       "    <tr>\n",
       "      <th>4391</th>\n",
       "      <td>6492</td>\n",
       "      <td>정상회원</td>\n",
       "      <td>여</td>\n",
       "      <td>미혼</td>\n",
       "      <td>경기 성남시 분당구 판교동</td>\n",
       "      <td>1963.0</td>\n",
       "    </tr>\n",
       "    <tr>\n",
       "      <th>4392</th>\n",
       "      <td>6493</td>\n",
       "      <td>정상회원</td>\n",
       "      <td>여</td>\n",
       "      <td>기혼</td>\n",
       "      <td>서울 관악구 행운동 1681</td>\n",
       "      <td>1982.0</td>\n",
       "    </tr>\n",
       "    <tr>\n",
       "      <th>4393</th>\n",
       "      <td>6494</td>\n",
       "      <td>정상회원</td>\n",
       "      <td>남</td>\n",
       "      <td>기혼</td>\n",
       "      <td>경기 성남시 분당구 백현동</td>\n",
       "      <td>1975.0</td>\n",
       "    </tr>\n",
       "    <tr>\n",
       "      <th>4394</th>\n",
       "      <td>6495</td>\n",
       "      <td>정상회원</td>\n",
       "      <td>여</td>\n",
       "      <td>기혼</td>\n",
       "      <td>서울 용산구 한남동 737-</td>\n",
       "      <td>1961.0</td>\n",
       "    </tr>\n",
       "    <tr>\n",
       "      <th>4395</th>\n",
       "      <td>6496</td>\n",
       "      <td>정상회원</td>\n",
       "      <td>여</td>\n",
       "      <td>미혼</td>\n",
       "      <td>경기 수원시 영통구 이의동</td>\n",
       "      <td>1971.0</td>\n",
       "    </tr>\n",
       "  </tbody>\n",
       "</table>\n",
       "<p>4396 rows × 6 columns</p>\n",
       "</div>"
      ],
      "text/plain": [
       "      회원번호  회원상태 성별 결혼유무               주소      생년\n",
       "0     2101  정상회원  여   기혼  서울 강북구 미아동 134-  1967.0\n",
       "1     2102  정상회원  여  NaN   경기 용인시 수지구 동천동  1947.0\n",
       "2     2103  정상회원  여   기혼   경기 용인시 수지구 동천동  1972.0\n",
       "3     2104  정상회원  여  NaN   경기 용인시 수지구 성복동  1969.0\n",
       "4     2105  정상회원  여   기혼   경기 용인시 수지구 동천동  1948.0\n",
       "...    ...   ... ..  ...              ...     ...\n",
       "4391  6492  정상회원  여   미혼   경기 성남시 분당구 판교동  1963.0\n",
       "4392  6493  정상회원  여   기혼  서울 관악구 행운동 1681  1982.0\n",
       "4393  6494  정상회원  남   기혼   경기 성남시 분당구 백현동  1975.0\n",
       "4394  6495  정상회원  여   기혼  서울 용산구 한남동 737-  1961.0\n",
       "4395  6496  정상회원  여   미혼   경기 수원시 영통구 이의동  1971.0\n",
       "\n",
       "[4396 rows x 6 columns]"
      ]
     },
     "execution_count": 22,
     "metadata": {},
     "output_type": "execute_result"
    }
   ],
   "source": [
    "# 4396\n",
    "df1"
   ]
  },
  {
   "cell_type": "code",
   "execution_count": 23,
   "id": "7e46922c",
   "metadata": {},
   "outputs": [
    {
     "data": {
      "text/plain": [
       "Index(['회원번호'], dtype='object')"
      ]
     },
     "execution_count": 23,
     "metadata": {},
     "output_type": "execute_result"
    }
   ],
   "source": [
    "df1.columns.intersection(df3.columns)"
   ]
  },
  {
   "cell_type": "code",
   "execution_count": 28,
   "id": "9bcddb09",
   "metadata": {},
   "outputs": [
    {
     "data": {
      "text/plain": [
       "(1383, 8)"
      ]
     },
     "execution_count": 28,
     "metadata": {},
     "output_type": "execute_result"
    }
   ],
   "source": [
    "# 1383?\n",
    "pd.merge(df1, df3, on=\"회원번호\", how=\"inner\").shape"
   ]
  },
  {
   "cell_type": "code",
   "execution_count": 29,
   "id": "19aa874e",
   "metadata": {},
   "outputs": [
    {
     "data": {
      "text/plain": [
       "(4396, 8)"
      ]
     },
     "execution_count": 29,
     "metadata": {},
     "output_type": "execute_result"
    }
   ],
   "source": [
    "# 4396?\n",
    "pd.merge(df1, df3, on=\"회원번호\", how=\"outer\").shape"
   ]
  },
  {
   "cell_type": "code",
   "execution_count": 33,
   "id": "14a5ff22",
   "metadata": {},
   "outputs": [
    {
     "name": "stdout",
     "output_type": "stream",
     "text": [
      "3013\n"
     ]
    },
    {
     "data": {
      "text/plain": [
       "회원번호       0\n",
       "회원상태       1\n",
       "성별         3\n",
       "결혼유무     947\n",
       "주소         0\n",
       "생년         3\n",
       "구매금액    3013\n",
       "구매수량    3013\n",
       "dtype: int64"
      ]
     },
     "execution_count": 33,
     "metadata": {},
     "output_type": "execute_result"
    }
   ],
   "source": [
    "# 4396, null 값 4396 - 1383개 at 구매금액 and 구매수량?\n",
    "print(4396 - 1383)\n",
    "pd.merge(df1, df3, on=\"회원번호\", how=\"left\").isnull().sum()"
   ]
  },
  {
   "cell_type": "code",
   "execution_count": 35,
   "id": "8fdecf0a",
   "metadata": {},
   "outputs": [
    {
     "name": "stdout",
     "output_type": "stream",
     "text": [
      "(1383, 3)\n"
     ]
    },
    {
     "data": {
      "text/plain": [
       "회원번호      0\n",
       "회원상태      0\n",
       "성별        1\n",
       "결혼유무    288\n",
       "주소        0\n",
       "생년        2\n",
       "구매금액      0\n",
       "구매수량      0\n",
       "dtype: int64"
      ]
     },
     "execution_count": 35,
     "metadata": {},
     "output_type": "execute_result"
    }
   ],
   "source": [
    "# 1383, 구매금액 and 구매수량 null 값 0개?\n",
    "print(df3.shape)\n",
    "pd.merge(df1, df3, on=\"회원번호\", how=\"right\").isnull().sum()"
   ]
  },
  {
   "cell_type": "code",
   "execution_count": null,
   "id": "3d1e589b",
   "metadata": {},
   "outputs": [],
   "source": [
    "# 중복이 있으면 붙고, 없으면 안붙고\n",
    "# pivot_table 하지 않고 바로 merge했을 때의 문제점\n",
    "# : 성별, 연령 계산했을 때 중복되는 값이 나온다. \n",
    "# 한 품목 이상 구매한 고객이 있으므로.\n",
    "\n",
    "# 세 가지 병합 방법 중, 가장 합리적인 방법은\n",
    "# inner join이다. 그리고 inner join으로 붙인 table을\n",
    "# 갖고 분석을 진행해줄 수 있다.\n",
    "\n",
    "# 이와 같이, 상황과 데이터 구조, 데이터 타입에 맞는\n",
    "# 적절한 데이터 병합 방법을 우리가 찾아서 사용해야 한다.\n",
    "\n",
    "# 그냥 붙이면 중복되거나, 누락되는 일이 발생할 수 있다.\n",
    "\n",
    "# pivot_table로 처리하고 붙일지,\n",
    "# 바로 붙일지는 데이터를 확인해보면서\n",
    "# 판단해야 한다."
   ]
  },
  {
   "cell_type": "code",
   "execution_count": 37,
   "id": "db3b1686",
   "metadata": {},
   "outputs": [],
   "source": [
    "df4 = pd.merge(df1, df3, on=\"회원번호\", how=\"inner\")"
   ]
  },
  {
   "cell_type": "code",
   "execution_count": 40,
   "id": "a7d2e1ad",
   "metadata": {},
   "outputs": [],
   "source": [
    "# 생년을 이용한 고객의 연령 계산: 현재 연도 - 고객의 생년\n",
    "df4[\"연령\"] = 2021 - df4[\"생년\"]"
   ]
  },
  {
   "cell_type": "code",
   "execution_count": 43,
   "id": "19425e7a",
   "metadata": {},
   "outputs": [],
   "source": [
    "# 고객의 인적 특성을 바탕으로 구매 특성을 분석해보자.\n",
    "import seaborn as sns\n",
    "import matplotlib as mpl\n",
    "import matplotlib.pyplot as plt\n",
    "mpl.rc(\"font\", family=\"Malgun Gothic\") # Window 용"
   ]
  },
  {
   "cell_type": "code",
   "execution_count": 46,
   "id": "6b208444",
   "metadata": {},
   "outputs": [
    {
     "data": {
      "text/plain": [
       "여    1270\n",
       "남     112\n",
       "Name: 성별, dtype: int64"
      ]
     },
     "execution_count": 46,
     "metadata": {},
     "output_type": "execute_result"
    }
   ],
   "source": [
    "# 성별에 따른 구매수량과, 구매금액의 합\n",
    "# 인원 수에 따른 구매력의 차이인지 알아보기: 여성 > 남성 (10배 차이)\n",
    "df4[\"성별\"].value_counts()"
   ]
  },
  {
   "cell_type": "code",
   "execution_count": 47,
   "id": "977c34c9",
   "metadata": {},
   "outputs": [
    {
     "name": "stdout",
     "output_type": "stream",
     "text": [
      "<class 'pandas.core.frame.DataFrame'>\n",
      "Int64Index: 1383 entries, 0 to 1382\n",
      "Data columns (total 9 columns):\n",
      " #   Column  Non-Null Count  Dtype  \n",
      "---  ------  --------------  -----  \n",
      " 0   회원번호    1383 non-null   int64  \n",
      " 1   회원상태    1383 non-null   object \n",
      " 2   성별      1382 non-null   object \n",
      " 3   결혼유무    1095 non-null   object \n",
      " 4   주소      1383 non-null   object \n",
      " 5   생년      1381 non-null   float64\n",
      " 6   구매금액    1383 non-null   int64  \n",
      " 7   구매수량    1383 non-null   float64\n",
      " 8   연령      1381 non-null   float64\n",
      "dtypes: float64(3), int64(2), object(4)\n",
      "memory usage: 108.0+ KB\n"
     ]
    }
   ],
   "source": [
    "df4.info()"
   ]
  },
  {
   "cell_type": "code",
   "execution_count": 49,
   "id": "d8cb5062",
   "metadata": {},
   "outputs": [
    {
     "data": {
      "text/html": [
       "<div>\n",
       "<style scoped>\n",
       "    .dataframe tbody tr th:only-of-type {\n",
       "        vertical-align: middle;\n",
       "    }\n",
       "\n",
       "    .dataframe tbody tr th {\n",
       "        vertical-align: top;\n",
       "    }\n",
       "\n",
       "    .dataframe thead th {\n",
       "        text-align: right;\n",
       "    }\n",
       "</style>\n",
       "<table border=\"1\" class=\"dataframe\">\n",
       "  <thead>\n",
       "    <tr style=\"text-align: right;\">\n",
       "      <th></th>\n",
       "      <th>구매금액</th>\n",
       "      <th>구매수량</th>\n",
       "    </tr>\n",
       "    <tr>\n",
       "      <th>성별</th>\n",
       "      <th></th>\n",
       "      <th></th>\n",
       "    </tr>\n",
       "  </thead>\n",
       "  <tbody>\n",
       "    <tr>\n",
       "      <th>남</th>\n",
       "      <td>36626115</td>\n",
       "      <td>7401.65</td>\n",
       "    </tr>\n",
       "    <tr>\n",
       "      <th>여</th>\n",
       "      <td>809091939</td>\n",
       "      <td>144515.65</td>\n",
       "    </tr>\n",
       "  </tbody>\n",
       "</table>\n",
       "</div>"
      ],
      "text/plain": [
       "         구매금액       구매수량\n",
       "성별                      \n",
       "남    36626115    7401.65\n",
       "여   809091939  144515.65"
      ]
     },
     "execution_count": 49,
     "metadata": {},
     "output_type": "execute_result"
    }
   ],
   "source": [
    "# 일단 pivot으로 계산해보기\n",
    "# 인원 수가 10배 차이난다.\n",
    "# 그로 인해 구매 금액, 구매수량 차이도 크다.\n",
    "df4.pivot_table(index=\"성별\", values=[\"구매금액\", \"구매수량\"], aggfunc=\"sum\")"
   ]
  },
  {
   "cell_type": "code",
   "execution_count": 50,
   "id": "b1545635",
   "metadata": {},
   "outputs": [
    {
     "data": {
      "text/plain": [
       "<Axes: xlabel='성별', ylabel='구매금액'>"
      ]
     },
     "execution_count": 50,
     "metadata": {},
     "output_type": "execute_result"
    },
    {
     "data": {
      "image/png": "[encoded data removed]",
      "text/plain": [
       "<Figure size 640x480 with 1 Axes>"
      ]
     },
     "metadata": {},
     "output_type": "display_data"
    }
   ],
   "source": [
    "# 평균이 계산 된다. \n",
    "# 긴 막대기: confidence interval\n",
    "# 이 data가 모집단에서 추출되었을 때,\n",
    "# 모집단의 평균, 모평균이 있을 확률이 95%인 구간을\n",
    "# 막대기로 표시해준 것이다.\n",
    "sns.barplot(data=df4, x=\"성별\", y=\"구매금액\")"
   ]
  },
  {
   "cell_type": "code",
   "execution_count": 53,
   "id": "e6360878",
   "metadata": {},
   "outputs": [
    {
     "data": {
      "text/plain": [
       "<Axes: xlabel='성별', ylabel='구매금액'>"
      ]
     },
     "execution_count": 53,
     "metadata": {},
     "output_type": "execute_result"
    },
    {
     "data": {
      "image/png": "[encoded data removed]",
      "text/plain": [
       "<Figure size 640x480 with 1 Axes>"
      ]
     },
     "metadata": {},
     "output_type": "display_data"
    }
   ],
   "source": [
    "# errorbar = None : ci(confidence interval)신뢰구간 끄기\n",
    "#  고객 당 구매 금액의 평균 계산\n",
    "sns.barplot(data=df4, x=\"성별\", y=\"구매금액\", errorbar=None)"
   ]
  },
  {
   "cell_type": "code",
   "execution_count": 55,
   "id": "588598ea",
   "metadata": {},
   "outputs": [
    {
     "data": {
      "text/plain": [
       "<Axes: xlabel='성별', ylabel='구매금액'>"
      ]
     },
     "execution_count": 55,
     "metadata": {},
     "output_type": "execute_result"
    },
    {
     "data": {
      "image/png": "[encoded data removed]",
      "text/plain": [
       "<Figure size 640x480 with 1 Axes>"
      ]
     },
     "metadata": {},
     "output_type": "display_data"
    }
   ],
   "source": [
    "# 합 계산 : 인적특성(성별)과 구매 트렌드와의 관계\n",
    "# estimator=\"sum\": sum을 구하기\n",
    "# 여성이 장을 보는 경우가 더 흔하기 때문에 당연한 결과(구매 금액 평균, 합 모두 여성이 더 높다.).\n",
    "sns.barplot(data=df4, x=\"성별\", y=\"구매금액\", estimator=\"sum\", errorbar=None)"
   ]
  },
  {
   "cell_type": "code",
   "execution_count": 63,
   "id": "9daf465e",
   "metadata": {},
   "outputs": [
    {
     "data": {
      "text/plain": [
       "count      1381.00\n",
       "mean        -87.85\n",
       "std        5327.94\n",
       "min     -197916.00\n",
       "25%          43.00\n",
       "50%          50.00\n",
       "75%          59.00\n",
       "max        1828.00\n",
       "Name: 연령, dtype: float64"
      ]
     },
     "execution_count": 63,
     "metadata": {},
     "output_type": "execute_result"
    }
   ],
   "source": [
    "#연령에 따른 구매금액, 구매수량 비교\n",
    "pd.options.display.float_format = \"{:.2f}\".format\n",
    "df4[\"연령\"].describe()"
   ]
  },
  {
   "cell_type": "code",
   "execution_count": 67,
   "id": "4327cd88",
   "metadata": {},
   "outputs": [
    {
     "data": {
      "text/html": [
       "<div>\n",
       "<style scoped>\n",
       "    .dataframe tbody tr th:only-of-type {\n",
       "        vertical-align: middle;\n",
       "    }\n",
       "\n",
       "    .dataframe tbody tr th {\n",
       "        vertical-align: top;\n",
       "    }\n",
       "\n",
       "    .dataframe thead th {\n",
       "        text-align: right;\n",
       "    }\n",
       "</style>\n",
       "<table border=\"1\" class=\"dataframe\">\n",
       "  <thead>\n",
       "    <tr style=\"text-align: right;\">\n",
       "      <th></th>\n",
       "      <th>연령</th>\n",
       "    </tr>\n",
       "  </thead>\n",
       "  <tbody>\n",
       "    <tr>\n",
       "      <th>count</th>\n",
       "      <td>1375.00</td>\n",
       "    </tr>\n",
       "    <tr>\n",
       "      <th>mean</th>\n",
       "      <td>51.57</td>\n",
       "    </tr>\n",
       "    <tr>\n",
       "      <th>std</th>\n",
       "      <td>11.19</td>\n",
       "    </tr>\n",
       "    <tr>\n",
       "      <th>min</th>\n",
       "      <td>28.00</td>\n",
       "    </tr>\n",
       "    <tr>\n",
       "      <th>25%</th>\n",
       "      <td>43.00</td>\n",
       "    </tr>\n",
       "    <tr>\n",
       "      <th>50%</th>\n",
       "      <td>50.00</td>\n",
       "    </tr>\n",
       "    <tr>\n",
       "      <th>75%</th>\n",
       "      <td>59.00</td>\n",
       "    </tr>\n",
       "    <tr>\n",
       "      <th>max</th>\n",
       "      <td>94.00</td>\n",
       "    </tr>\n",
       "  </tbody>\n",
       "</table>\n",
       "</div>"
      ],
      "text/plain": [
       "           연령\n",
       "count 1375.00\n",
       "mean    51.57\n",
       "std     11.19\n",
       "min     28.00\n",
       "25%     43.00\n",
       "50%     50.00\n",
       "75%     59.00\n",
       "max     94.00"
      ]
     },
     "execution_count": 67,
     "metadata": {},
     "output_type": "execute_result"
    }
   ],
   "source": [
    "cond1 = (df4[\"연령\"] > 1) & (df4[\"연령\"] < 100)\n",
    "df4.loc[cond1][[\"연령\"]].describe()"
   ]
  },
  {
   "cell_type": "code",
   "execution_count": 68,
   "id": "69b0104e",
   "metadata": {},
   "outputs": [
    {
     "data": {
      "text/plain": [
       "<Axes: xlabel='연령', ylabel='구매수량'>"
      ]
     },
     "execution_count": 68,
     "metadata": {},
     "output_type": "execute_result"
    },
    {
     "name": "stderr",
     "output_type": "stream",
     "text": [
      "C:\\Users\\USER\\anaconda3\\lib\\site-packages\\IPython\\core\\events.py:89: UserWarning: Glyph 8722 (\\N{MINUS SIGN}) missing from current font.\n",
      "  func(*args, **kwargs)\n",
      "C:\\Users\\USER\\anaconda3\\lib\\site-packages\\IPython\\core\\pylabtools.py:152: UserWarning: Glyph 8722 (\\N{MINUS SIGN}) missing from current font.\n",
      "  fig.canvas.print_figure(bytes_io, **kw)\n"
     ]
    },
    {
     "data": {
      "image/png": "[encoded data removed]",
      "text/plain": [
       "<Figure size 640x480 with 1 Axes>"
      ]
     },
     "metadata": {},
     "output_type": "display_data"
    }
   ],
   "source": [
    "# sns.scatterplot: 숫자 데이터끼리 비교하는 시각화 기법\n",
    "sns.scatterplot(data=df4, x=\"연령\", y=\"구매수량\")\n",
    "# 연령에 음의 값이 있다: 이상치\n",
    "# 이 이상치 때문에 데이터가 한쪽으로 쏠려있는 것처럼 보인다."
   ]
  },
  {
   "cell_type": "code",
   "execution_count": 69,
   "id": "07a0c5a5",
   "metadata": {},
   "outputs": [
    {
     "data": {
      "text/plain": [
       "<Axes: xlabel='연령', ylabel='구매수량'>"
      ]
     },
     "execution_count": 69,
     "metadata": {},
     "output_type": "execute_result"
    },
    {
     "data": {
      "image/png": "[encoded data removed]",
      "text/plain": [
       "<Figure size 640x480 with 1 Axes>"
      ]
     },
     "metadata": {},
     "output_type": "display_data"
    }
   ],
   "source": [
    "#plt.xlim : x의 limit\n",
    "plt.xlim([0, 80]) # 0부터 80세까지만 보겠다.\n",
    "sns.scatterplot(data=df4, x=\"연령\", y=\"구매수량\")"
   ]
  },
  {
   "cell_type": "code",
   "execution_count": 72,
   "id": "7e5eed7d",
   "metadata": {},
   "outputs": [
    {
     "data": {
      "text/plain": [
       "<Axes: xlabel='연령', ylabel='구매수량'>"
      ]
     },
     "execution_count": 72,
     "metadata": {},
     "output_type": "execute_result"
    },
    {
     "data": {
      "image/png": "[encoded data removed]",
      "text/plain": [
       "<Figure size 640x480 with 1 Axes>"
      ]
     },
     "metadata": {},
     "output_type": "display_data"
    }
   ],
   "source": [
    "# 위 그림을 보니, 25세 이상부터이고\n",
    "# 80세 이상도 있는 것처럼 보인다.\n",
    "# plt.xlim을 조정해보자.\n",
    "plt.xlim([20, 120])\n",
    "sns.scatterplot(data=df4, x=\"연령\", y=\"구매수량\")\n",
    "# 이제 연령-구매수량 간의 관계를 볼 수 있다.\n",
    "# 연령에 따라 구매수량이 증가하느냐?와 같은\n",
    "# 특별한 추이는 없어보인다.\n",
    "\n",
    "# 얼추 봤을 때,\n",
    "# 40-50대 고객들 구매력이 좀 높구나까지 확인해볼 수 있다."
   ]
  },
  {
   "cell_type": "code",
   "execution_count": 74,
   "id": "57a0530b",
   "metadata": {},
   "outputs": [
    {
     "data": {
      "text/plain": [
       "<Axes: xlabel='연령', ylabel='구매수량'>"
      ]
     },
     "execution_count": 74,
     "metadata": {},
     "output_type": "execute_result"
    },
    {
     "data": {
      "image/png": "[encoded data removed]",
      "text/plain": [
       "<Figure size 640x480 with 1 Axes>"
      ]
     },
     "metadata": {},
     "output_type": "display_data"
    }
   ],
   "source": [
    "# 이거를 성별에 따라 나눠서 볼 수도 있다.\n",
    "plt.xlim([0, 120])\n",
    "sns.scatterplot(data=df4, x=\"연령\", y=\"구매수량\", hue=\"성별\")"
   ]
  },
  {
   "cell_type": "code",
   "execution_count": null,
   "id": "289c4e33",
   "metadata": {},
   "outputs": [],
   "source": [
    "# 이런 식으로 데이터를 병합하고\n",
    "# 데이터를 시각화해서 분석작업까지\n",
    "# 아주 간단하게 해봤따.\n",
    "\n",
    "# 파생변수를 만드는 스킬,\n",
    "# 통계적 가설 검정,\n",
    "# 여러가지 전처리 기법, 분석 스킬을\n",
    "# 좀 더 가미하면\n",
    "# 더 다이나믹한 분석을 해볼 수 있다."
   ]
  }
 ],
 "metadata": {
  "kernelspec": {
   "display_name": "Python 3 (ipykernel)",
   "language": "python",
   "name": "python3"
  },
  "language_info": {
   "codemirror_mode": {
    "name": "ipython",
    "version": 3
   },
   "file_extension": ".py",
   "mimetype": "text/x-python",
   "name": "python",
   "nbconvert_exporter": "python",
   "pygments_lexer": "ipython3",
   "version": "3.10.9"
  }
 },
 "nbformat": 4,
 "nbformat_minor": 5
}
