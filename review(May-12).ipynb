{
 "cells": [
  {
   "cell_type": "code",
   "execution_count": 28,
   "id": "e7b70b7a",
   "metadata": {},
   "outputs": [],
   "source": [
    "import pandas as pd\n",
    "pd.options.display.float_format = \"{:.2f}\".format\n",
    "import seaborn as sns\n",
    "import matplotlib as mpl\n",
    "mpl.rc(\"font\", family=\"Malgun Gothic\")"
   ]
  },
  {
   "cell_type": "code",
   "execution_count": 5,
   "id": "95a9a0f8",
   "metadata": {},
   "outputs": [],
   "source": [
    "df1 = pd.read_csv(\"03_Delivery.csv\", encoding=\"cp949\")"
   ]
  },
  {
   "cell_type": "code",
   "execution_count": 27,
   "id": "b0525bd9",
   "metadata": {},
   "outputs": [
    {
     "data": {
      "text/html": [
       "<div>\n",
       "<style scoped>\n",
       "    .dataframe tbody tr th:only-of-type {\n",
       "        vertical-align: middle;\n",
       "    }\n",
       "\n",
       "    .dataframe tbody tr th {\n",
       "        vertical-align: top;\n",
       "    }\n",
       "\n",
       "    .dataframe thead th {\n",
       "        text-align: right;\n",
       "    }\n",
       "</style>\n",
       "<table border=\"1\" class=\"dataframe\">\n",
       "  <thead>\n",
       "    <tr style=\"text-align: right;\">\n",
       "      <th></th>\n",
       "      <th>상품구매금액</th>\n",
       "      <th>상품번호</th>\n",
       "      <th>수량</th>\n",
       "      <th>주문일</th>\n",
       "    </tr>\n",
       "  </thead>\n",
       "  <tbody>\n",
       "    <tr>\n",
       "      <th>count</th>\n",
       "      <td>46749.00</td>\n",
       "      <td>46661.00</td>\n",
       "      <td>46749.00</td>\n",
       "      <td>46749.00</td>\n",
       "    </tr>\n",
       "    <tr>\n",
       "      <th>mean</th>\n",
       "      <td>69368.14</td>\n",
       "      <td>891.68</td>\n",
       "      <td>1.18</td>\n",
       "      <td>20184044.49</td>\n",
       "    </tr>\n",
       "    <tr>\n",
       "      <th>std</th>\n",
       "      <td>66112.47</td>\n",
       "      <td>11339.53</td>\n",
       "      <td>0.68</td>\n",
       "      <td>5192.40</td>\n",
       "    </tr>\n",
       "    <tr>\n",
       "      <th>min</th>\n",
       "      <td>0.00</td>\n",
       "      <td>38.00</td>\n",
       "      <td>-1.00</td>\n",
       "      <td>20170101.00</td>\n",
       "    </tr>\n",
       "    <tr>\n",
       "      <th>25%</th>\n",
       "      <td>32880.00</td>\n",
       "      <td>378.00</td>\n",
       "      <td>1.00</td>\n",
       "      <td>20180727.00</td>\n",
       "    </tr>\n",
       "    <tr>\n",
       "      <th>50%</th>\n",
       "      <td>67780.00</td>\n",
       "      <td>928.00</td>\n",
       "      <td>1.00</td>\n",
       "      <td>20181118.00</td>\n",
       "    </tr>\n",
       "    <tr>\n",
       "      <th>75%</th>\n",
       "      <td>92130.00</td>\n",
       "      <td>1209.00</td>\n",
       "      <td>1.00</td>\n",
       "      <td>20190225.00</td>\n",
       "    </tr>\n",
       "    <tr>\n",
       "      <th>max</th>\n",
       "      <td>4963400.00</td>\n",
       "      <td>999999.00</td>\n",
       "      <td>50.00</td>\n",
       "      <td>20190619.00</td>\n",
       "    </tr>\n",
       "  </tbody>\n",
       "</table>\n",
       "</div>"
      ],
      "text/plain": [
       "          상품구매금액      상품번호       수량         주문일\n",
       "count   46749.00  46661.00 46749.00    46749.00\n",
       "mean    69368.14    891.68     1.18 20184044.49\n",
       "std     66112.47  11339.53     0.68     5192.40\n",
       "min         0.00     38.00    -1.00 20170101.00\n",
       "25%     32880.00    378.00     1.00 20180727.00\n",
       "50%     67780.00    928.00     1.00 20181118.00\n",
       "75%     92130.00   1209.00     1.00 20190225.00\n",
       "max   4963400.00 999999.00    50.00 20190619.00"
      ]
     },
     "execution_count": 27,
     "metadata": {},
     "output_type": "execute_result"
    }
   ],
   "source": [
    "df1.describe()"
   ]
  },
  {
   "cell_type": "code",
   "execution_count": 6,
   "id": "5472ef8a",
   "metadata": {
    "scrolled": true
   },
   "outputs": [
    {
     "name": "stdout",
     "output_type": "stream",
     "text": [
      "<class 'pandas.core.frame.DataFrame'>\n",
      "RangeIndex: 46749 entries, 0 to 46748\n",
      "Data columns (total 9 columns):\n",
      " #   Column  Non-Null Count  Dtype  \n",
      "---  ------  --------------  -----  \n",
      " 0   결제수단    46749 non-null  object \n",
      " 1   배송번호    46749 non-null  object \n",
      " 2   배송시작일   46749 non-null  object \n",
      " 3   배송완료일   46749 non-null  object \n",
      " 4   상품구매금액  46749 non-null  int64  \n",
      " 5   상품번호    46661 non-null  float64\n",
      " 6   수량      46749 non-null  int64  \n",
      " 7   주문경로    46749 non-null  object \n",
      " 8   주문일     46749 non-null  int64  \n",
      "dtypes: float64(1), int64(3), object(5)\n",
      "memory usage: 3.2+ MB\n"
     ]
    }
   ],
   "source": [
    "df1.info()"
   ]
  },
  {
   "cell_type": "code",
   "execution_count": 8,
   "id": "a9bbd9b0",
   "metadata": {},
   "outputs": [
    {
     "data": {
      "text/html": [
       "<div>\n",
       "<style scoped>\n",
       "    .dataframe tbody tr th:only-of-type {\n",
       "        vertical-align: middle;\n",
       "    }\n",
       "\n",
       "    .dataframe tbody tr th {\n",
       "        vertical-align: top;\n",
       "    }\n",
       "\n",
       "    .dataframe thead th {\n",
       "        text-align: right;\n",
       "    }\n",
       "</style>\n",
       "<table border=\"1\" class=\"dataframe\">\n",
       "  <thead>\n",
       "    <tr style=\"text-align: right;\">\n",
       "      <th></th>\n",
       "      <th>배송시작일</th>\n",
       "      <th>배송완료일</th>\n",
       "      <th>주문일</th>\n",
       "    </tr>\n",
       "  </thead>\n",
       "  <tbody>\n",
       "    <tr>\n",
       "      <th>0</th>\n",
       "      <td>2019-01-07 오전 8:56</td>\n",
       "      <td>2019-01-11 오전 5:32</td>\n",
       "      <td>20181227</td>\n",
       "    </tr>\n",
       "    <tr>\n",
       "      <th>1</th>\n",
       "      <td>2019-01-03 오전 9:30</td>\n",
       "      <td>2019-01-07 오전 5:32</td>\n",
       "      <td>20181229</td>\n",
       "    </tr>\n",
       "    <tr>\n",
       "      <th>2</th>\n",
       "      <td>2019-01-03 오전 9:30</td>\n",
       "      <td>2019-01-07 오전 5:32</td>\n",
       "      <td>20181230</td>\n",
       "    </tr>\n",
       "    <tr>\n",
       "      <th>3</th>\n",
       "      <td>2019-01-03 오전 9:30</td>\n",
       "      <td>2019-01-07 오전 5:32</td>\n",
       "      <td>20181231</td>\n",
       "    </tr>\n",
       "    <tr>\n",
       "      <th>4</th>\n",
       "      <td>2019-01-07 오전 8:56</td>\n",
       "      <td>2019-01-11 오전 5:32</td>\n",
       "      <td>20181231</td>\n",
       "    </tr>\n",
       "    <tr>\n",
       "      <th>...</th>\n",
       "      <td>...</td>\n",
       "      <td>...</td>\n",
       "      <td>...</td>\n",
       "    </tr>\n",
       "    <tr>\n",
       "      <th>46744</th>\n",
       "      <td>2017-12-29 오후 4:32</td>\n",
       "      <td>2018-01-02 오전 5:31</td>\n",
       "      <td>20171229</td>\n",
       "    </tr>\n",
       "    <tr>\n",
       "      <th>46745</th>\n",
       "      <td>2018-01-03 오전 9:45</td>\n",
       "      <td>2018-01-07 오전 5:38</td>\n",
       "      <td>20171229</td>\n",
       "    </tr>\n",
       "    <tr>\n",
       "      <th>46746</th>\n",
       "      <td>2018-01-02 오후 7:06</td>\n",
       "      <td>2018-01-11 오전 2:46</td>\n",
       "      <td>20171230</td>\n",
       "    </tr>\n",
       "    <tr>\n",
       "      <th>46747</th>\n",
       "      <td>2018-01-03 오후 2:00</td>\n",
       "      <td>2018-01-06 오후 6:06</td>\n",
       "      <td>20171231</td>\n",
       "    </tr>\n",
       "    <tr>\n",
       "      <th>46748</th>\n",
       "      <td>2018-01-03 오후 12:43</td>\n",
       "      <td>2018-01-07 오전 5:38</td>\n",
       "      <td>20171231</td>\n",
       "    </tr>\n",
       "  </tbody>\n",
       "</table>\n",
       "<p>46749 rows × 3 columns</p>\n",
       "</div>"
      ],
      "text/plain": [
       "                     배송시작일               배송완료일       주문일\n",
       "0       2019-01-07 오전 8:56  2019-01-11 오전 5:32  20181227\n",
       "1       2019-01-03 오전 9:30  2019-01-07 오전 5:32  20181229\n",
       "2       2019-01-03 오전 9:30  2019-01-07 오전 5:32  20181230\n",
       "3       2019-01-03 오전 9:30  2019-01-07 오전 5:32  20181231\n",
       "4       2019-01-07 오전 8:56  2019-01-11 오전 5:32  20181231\n",
       "...                    ...                 ...       ...\n",
       "46744   2017-12-29 오후 4:32  2018-01-02 오전 5:31  20171229\n",
       "46745   2018-01-03 오전 9:45  2018-01-07 오전 5:38  20171229\n",
       "46746   2018-01-02 오후 7:06  2018-01-11 오전 2:46  20171230\n",
       "46747   2018-01-03 오후 2:00  2018-01-06 오후 6:06  20171231\n",
       "46748  2018-01-03 오후 12:43  2018-01-07 오전 5:38  20171231\n",
       "\n",
       "[46749 rows x 3 columns]"
      ]
     },
     "execution_count": 8,
     "metadata": {},
     "output_type": "execute_result"
    }
   ],
   "source": [
    "# 시간 cols\n",
    "df1[[\"배송시작일\", \"배송완료일\", \"주문일\"]]"
   ]
  },
  {
   "cell_type": "code",
   "execution_count": 11,
   "id": "d6bfebc3",
   "metadata": {},
   "outputs": [],
   "source": [
    "# 주문일 datetimeindex\n",
    "df1[\"주문일(datetime)\"] = pd.to_datetime(df1[\"주문일\"], format=\"%Y%m%d\")"
   ]
  },
  {
   "cell_type": "code",
   "execution_count": 12,
   "id": "382404f2",
   "metadata": {},
   "outputs": [
    {
     "data": {
      "text/plain": [
       "0       2018-12-27\n",
       "1       2018-12-29\n",
       "2       2018-12-30\n",
       "3       2018-12-31\n",
       "4       2018-12-31\n",
       "           ...    \n",
       "46744   2017-12-29\n",
       "46745   2017-12-29\n",
       "46746   2017-12-30\n",
       "46747   2017-12-31\n",
       "46748   2017-12-31\n",
       "Name: 주문일(datetime), Length: 46749, dtype: datetime64[ns]"
      ]
     },
     "execution_count": 12,
     "metadata": {},
     "output_type": "execute_result"
    }
   ],
   "source": [
    "df1[\"주문일(datetime)\"]"
   ]
  },
  {
   "cell_type": "code",
   "execution_count": 14,
   "id": "31c1f4b5",
   "metadata": {},
   "outputs": [],
   "source": [
    "df1[\"주문요일\"] = df1[\"주문일(datetime)\"].dt.day_name()"
   ]
  },
  {
   "cell_type": "code",
   "execution_count": 15,
   "id": "2b4654b8",
   "metadata": {
    "scrolled": true
   },
   "outputs": [
    {
     "data": {
      "text/plain": [
       "Monday       9903\n",
       "Wednesday    8737\n",
       "Thursday     8697\n",
       "Tuesday      8404\n",
       "Friday       6665\n",
       "Sunday       2429\n",
       "Saturday     1914\n",
       "Name: 주문요일, dtype: int64"
      ]
     },
     "execution_count": 15,
     "metadata": {},
     "output_type": "execute_result"
    }
   ],
   "source": [
    "df1[\"주문요일\"].value_counts()"
   ]
  },
  {
   "cell_type": "code",
   "execution_count": 16,
   "id": "88e717f6",
   "metadata": {},
   "outputs": [
    {
     "data": {
      "text/plain": [
       "array(['Thursday', 'Saturday', 'Sunday', 'Monday', 'Tuesday', 'Wednesday',\n",
       "       'Friday'], dtype=object)"
      ]
     },
     "execution_count": 16,
     "metadata": {},
     "output_type": "execute_result"
    }
   ],
   "source": [
    "df1[\"주문요일\"].unique()"
   ]
  },
  {
   "cell_type": "code",
   "execution_count": 18,
   "id": "73482bcb",
   "metadata": {},
   "outputs": [],
   "source": [
    "df1[\"주중/주말\"] = df1[\"주문요일\"].replace({'Thursday': \"주중\", 'Saturday': \"주말\", 'Sunday': \"주말\", 'Monday': \"주중\", 'Tuesday': \"주중\", 'Wednesday': \"주중\",\n",
    "       'Friday': \"주중\"})"
   ]
  },
  {
   "cell_type": "code",
   "execution_count": 19,
   "id": "594f69c1",
   "metadata": {},
   "outputs": [
    {
     "data": {
      "text/plain": [
       "주중    42406\n",
       "주말     4343\n",
       "Name: 주중/주말, dtype: int64"
      ]
     },
     "execution_count": 19,
     "metadata": {},
     "output_type": "execute_result"
    }
   ],
   "source": [
    "# 주중 주문량이 주말 보다 더 많다.\n",
    "df1[\"주중/주말\"].value_counts()"
   ]
  },
  {
   "cell_type": "code",
   "execution_count": 23,
   "id": "bc52ab55",
   "metadata": {},
   "outputs": [
    {
     "data": {
      "text/html": [
       "<div>\n",
       "<style scoped>\n",
       "    .dataframe tbody tr th:only-of-type {\n",
       "        vertical-align: middle;\n",
       "    }\n",
       "\n",
       "    .dataframe tbody tr th {\n",
       "        vertical-align: top;\n",
       "    }\n",
       "\n",
       "    .dataframe thead th {\n",
       "        text-align: right;\n",
       "    }\n",
       "</style>\n",
       "<table border=\"1\" class=\"dataframe\">\n",
       "  <thead>\n",
       "    <tr style=\"text-align: right;\">\n",
       "      <th></th>\n",
       "      <th>상품구매금액</th>\n",
       "    </tr>\n",
       "    <tr>\n",
       "      <th>주중/주말</th>\n",
       "      <th></th>\n",
       "    </tr>\n",
       "  </thead>\n",
       "  <tbody>\n",
       "    <tr>\n",
       "      <th>주말</th>\n",
       "      <td>306863800</td>\n",
       "    </tr>\n",
       "    <tr>\n",
       "      <th>주중</th>\n",
       "      <td>2936027585</td>\n",
       "    </tr>\n",
       "  </tbody>\n",
       "</table>\n",
       "</div>"
      ],
      "text/plain": [
       "           상품구매금액\n",
       "주중/주말            \n",
       "주말      306863800\n",
       "주중     2936027585"
      ]
     },
     "execution_count": 23,
     "metadata": {},
     "output_type": "execute_result"
    }
   ],
   "source": [
    "# 상품구매금액의 총합은 매출이다.\n",
    "# 주중 매출액 > 주말 매출액이다.\n",
    "df1.pivot_table(index=\"주중/주말\", values=\"상품구매금액\", aggfunc=\"sum\")"
   ]
  },
  {
   "cell_type": "code",
   "execution_count": 25,
   "id": "aee4d11b",
   "metadata": {},
   "outputs": [
    {
     "data": {
      "text/html": [
       "<div>\n",
       "<style scoped>\n",
       "    .dataframe tbody tr th:only-of-type {\n",
       "        vertical-align: middle;\n",
       "    }\n",
       "\n",
       "    .dataframe tbody tr th {\n",
       "        vertical-align: top;\n",
       "    }\n",
       "\n",
       "    .dataframe thead th {\n",
       "        text-align: right;\n",
       "    }\n",
       "</style>\n",
       "<table border=\"1\" class=\"dataframe\">\n",
       "  <thead>\n",
       "    <tr style=\"text-align: right;\">\n",
       "      <th></th>\n",
       "      <th>상품구매금액</th>\n",
       "    </tr>\n",
       "    <tr>\n",
       "      <th>주중/주말</th>\n",
       "      <th></th>\n",
       "    </tr>\n",
       "  </thead>\n",
       "  <tbody>\n",
       "    <tr>\n",
       "      <th>주말</th>\n",
       "      <td>70657.103385</td>\n",
       "    </tr>\n",
       "    <tr>\n",
       "      <th>주중</th>\n",
       "      <td>69236.136042</td>\n",
       "    </tr>\n",
       "  </tbody>\n",
       "</table>\n",
       "</div>"
      ],
      "text/plain": [
       "             상품구매금액\n",
       "주중/주말              \n",
       "주말     70657.103385\n",
       "주중     69236.136042"
      ]
     },
     "execution_count": 25,
     "metadata": {},
     "output_type": "execute_result"
    }
   ],
   "source": [
    "# 상품구매금액 평균 비교 : 비슷하다.\n",
    "df1.pivot_table(index=\"주중/주말\", values=\"상품구매금액\", aggfunc=\"mean\")"
   ]
  },
  {
   "cell_type": "markdown",
   "id": "24d3bac7",
   "metadata": {},
   "source": [
    "seaborn 라이브러리의 `barplot` 함수는 범주형 데이터의 평균값을 시각화하기 위해 많이 사용됩니다. `estimator` 매개변수를 사용하여 평균값 이외의 다른 통계량을 계산할 수 있습니다.\n",
    "\n",
    "`estimator` 매개변수는 기본적으로 `numpy.mean` 함수로 설정되어 있으며, 각 범주별로 평균을 계산합니다. 이 외에도 다양한 통계량을 계산할 수 있는 함수를 사용할 수 있습니다. 예를 들어, `estimator` 매개변수를 `numpy.median` 함수로 설정하면 각 범주별로 중앙값을 계산합니다.\n",
    "\n",
    "`estimator` 매개변수에 사용 가능한 함수는 다음과 같습니다.\n",
    "\n",
    "- `numpy.mean` : 평균값을 계산합니다. (기본값)\n",
    "- `numpy.median` : 중앙값을 계산합니다.\n",
    "- `numpy.max` : 최대값을 계산합니다.\n",
    "- `numpy.min` : 최소값을 계산합니다.\n",
    "- `numpy.std` : 표준편차를 계산합니다.\n",
    "- `numpy.var` : 분산을 계산합니다.\n",
    "\n",
    "이외에도 사용자가 직접 작성한 함수를 `estimator` 매개변수에 전달하여 사용할 수 있습니다. 이때 함수는 배열을 입력값으로 받고, 하나의 값을 반환해야 합니다.\n",
    "\n",
    "예를 들어, `estimator` 매개변수를 사용하여 각 범주별로 중앙값을 계산하고, 오차 막대를 95% 신뢰 구간으로 설정하는 코드는 다음과 같습니다.\n",
    "\n",
    "``` python\n",
    "import seaborn as sns\n",
    "\n",
    "# tips 데이터셋 불러오기\n",
    "tips = sns.load_dataset('tips')\n",
    "\n",
    "# 각 요일별 중앙값 계산\n",
    "median_vals = tips.groupby('day')['total_bill'].median().values\n",
    "\n",
    "# estimator 매개변수에 중앙값을 계산하는 함수와 95% 신뢰 구간을 계산하는 함수 전달\n",
    "g = sns.barplot(x='day', y='total_bill', data=tips, estimator=np.median, ci=95)\n",
    "g.set(ylabel='Median Total Bill')\n"
   ]
  },
  {
   "cell_type": "code",
   "execution_count": 29,
   "id": "19d0084a",
   "metadata": {},
   "outputs": [
    {
     "data": {
      "text/plain": [
       "<Axes: xlabel='주중/주말', ylabel='상품구매금액'>"
      ]
     },
     "execution_count": 29,
     "metadata": {},
     "output_type": "execute_result"
    },
    {
     "data": {
      "image/png": "[encoded data removed]",
      "text/plain": [
       "<Figure size 640x480 with 1 Axes>"
      ]
     },
     "metadata": {},
     "output_type": "display_data"
    }
   ],
   "source": [
    "sns.barplot(data=df1, x=\"주중/주말\", y=\"상품구매금액\", estimator=sum, errorbar=None)"
   ]
  },
  {
   "cell_type": "code",
   "execution_count": null,
   "id": "93a5dd74",
   "metadata": {},
   "outputs": [],
   "source": []
  }
 ],
 "metadata": {
  "kernelspec": {
   "display_name": "Python 3 (ipykernel)",
   "language": "python",
   "name": "python3"
  },
  "language_info": {
   "codemirror_mode": {
    "name": "ipython",
    "version": 3
   },
   "file_extension": ".py",
   "mimetype": "text/x-python",
   "name": "python",
   "nbconvert_exporter": "python",
   "pygments_lexer": "ipython3",
   "version": "3.10.9"
  }
 },
 "nbformat": 4,
 "nbformat_minor": 5
}
