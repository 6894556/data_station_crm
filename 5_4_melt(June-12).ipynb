{
 "cells": [
  {
   "cell_type": "code",
   "execution_count": 177,
   "id": "dd79c2d9",
   "metadata": {},
   "outputs": [],
   "source": [
    "import warnings\n",
    "warnings.filterwarnings(\"ignore\")\n",
    "\n",
    "import pandas as pd\n",
    "import seaborn as sns\n",
    "import matplotlib as mpl\n",
    "mpl.rc(\"font\", family=\"Malgun Gothic\")"
   ]
  },
  {
   "cell_type": "markdown",
   "id": "d2327179",
   "metadata": {},
   "source": [
    "- csv 파일은 read_csv로\n",
    "- xlsx 파일은 read_excel로 불러온다.\n",
    "- col이름이 이상하다.\n",
    "> - 구분, 카테고리명, 자재그룹...은 항목명으로 만들어야 한다.\n",
    "> - 날짜값들은 새로운 col 만들어서 정리해야 한다. \n",
    "> - 그래야 분석 및 시각화가 가능하다.\n",
    "> -정상, 불용.. 제외하고 불러오자.\n",
    "\n",
    "- pd.read_excel(skiprows)\n",
    "> 행 생갹하고 그 뒤 행부터 컬럼명으로 잡아준다. (불필요한 행 제거)\n",
    "\n",
    "- df2 = df1.drop(columns=cols)\n",
    "- df2.melt(id_vars)\n",
    "> id_vars를 기준으로\n",
    "col에 있는 나머지 값들을 하나의 항목으로 만들고,\n",
    "그리고 그 안에 구성되어 있던 모든 data들을\n",
    "value라는 col로 보내버린다.\n",
    "데이터를 이렇게 바꿔준다.\n",
    "날짜별, 판매제품과 매출액이 계산됬다.\n",
    "\n",
    "- 이런 식으로 회사 erp에 있는 복잡하고 이상한 데이터를 `melt`를 사용해서 깔끔하게 정리할 수 있다. \n",
    "\n",
    "\n",
    "1. \n",
    "\n",
    "\n",
    "2. "
   ]
  },
  {
   "cell_type": "code",
   "execution_count": 122,
   "id": "b391ed48",
   "metadata": {},
   "outputs": [],
   "source": [
    "df = pd.read_excel(\"dataset/05_Stack.xlsx\", skiprows=1)"
   ]
  },
  {
   "cell_type": "code",
   "execution_count": 124,
   "id": "c78d6ffa",
   "metadata": {
    "scrolled": false
   },
   "outputs": [
    {
     "data": {
      "text/plain": [
       "Index([                   '구분',                 '카테고리명',\n",
       "                        '자재그룹',                 '자재그룹명',\n",
       "                         '제품명',                    '단위',\n",
       "                          '판매',     2019-12-01 00:00:00,\n",
       "           2020-10-01 00:00:00,     2020-11-01 00:00:00,\n",
       "           2020-12-01 00:00:00, '2019-12-01 00:00:00.1',\n",
       "       '2020-10-01 00:00:00.1', '2020-11-01 00:00:00.1',\n",
       "       '2020-12-01 00:00:00.1', '2019-12-01 00:00:00.2',\n",
       "       '2020-10-01 00:00:00.2', '2020-11-01 00:00:00.2',\n",
       "       '2020-12-01 00:00:00.2', '2019-12-01 00:00:00.3',\n",
       "       '2020-10-01 00:00:00.3', '2020-11-01 00:00:00.3',\n",
       "       '2020-12-01 00:00:00.3',                  '안전재고',\n",
       "                         ' 분류'],\n",
       "      dtype='object')"
      ]
     },
     "execution_count": 124,
     "metadata": {},
     "output_type": "execute_result"
    }
   ],
   "source": [
    "df.columns"
   ]
  },
  {
   "cell_type": "markdown",
   "id": "07b571e4",
   "metadata": {},
   "source": [
    "## 1\n",
    "[제품명, 날짜] col만 남긴 `df` 사용"
   ]
  },
  {
   "cell_type": "code",
   "execution_count": 134,
   "id": "9ba5454c",
   "metadata": {},
   "outputs": [
    {
     "name": "stderr",
     "output_type": "stream",
     "text": [
      "C:\\Users\\USER\\AppData\\Local\\Temp\\ipykernel_15220\\3700730197.py:9: FutureWarning: Inferring datetime64[ns] from data containing strings is deprecated and will be removed in a future version. To retain the old behavior explicitly pass Series(data, dtype=datetime64[ns])\n",
      "  df1 = df.drop(columns=cols).melt(id_vars=\"제품명\").rename(columns={\"variable\": \"일자\", \"value\":\"매출액\"})\n"
     ]
    }
   ],
   "source": [
    "import seaborn as sns\n",
    "import matplotlib.pyplot as plt\n",
    "plt.rc(\"font\", family=\"Malgun Gothic\")\n",
    "\n",
    "cols = ['구분','카테고리명','자재그룹',\n",
    "        '자재그룹명','단위','판매', '안전재고', ' 분류']\n",
    "\n",
    "\n",
    "df1 = df.drop(columns=cols).melt(id_vars=\"제품명\").rename(columns={\"variable\": \"일자\", \"value\":\"매출액\"})\n",
    "#sns.barplot(data=df1, x=\"제품명\", y=\"매출액\", errorbar=None)"
   ]
  },
  {
   "cell_type": "markdown",
   "id": "0df70922",
   "metadata": {},
   "source": [
    "## 2\n",
    "[날짜] 제외한 모든 col을 `melt(id_vars)`에 집어넣은 `df` 사용"
   ]
  },
  {
   "cell_type": "code",
   "execution_count": 176,
   "id": "400a9ba8",
   "metadata": {
    "scrolled": false
   },
   "outputs": [
    {
     "name": "stderr",
     "output_type": "stream",
     "text": [
      "C:\\Users\\USER\\AppData\\Local\\Temp\\ipykernel_15220\\3061482346.py:3: FutureWarning: Inferring datetime64[ns] from data containing strings is deprecated and will be removed in a future version. To retain the old behavior explicitly pass Series(data, dtype=datetime64[ns])\n",
      "  df2 = df.melt(id_vars=cols).rename(columns={\"variable\": \"일자\", \"value\":\"매출액\"})\n"
     ]
    },
    {
     "data": {
      "text/html": [
       "<div>\n",
       "<style scoped>\n",
       "    .dataframe tbody tr th:only-of-type {\n",
       "        vertical-align: middle;\n",
       "    }\n",
       "\n",
       "    .dataframe tbody tr th {\n",
       "        vertical-align: top;\n",
       "    }\n",
       "\n",
       "    .dataframe thead th {\n",
       "        text-align: right;\n",
       "    }\n",
       "</style>\n",
       "<table border=\"1\" class=\"dataframe\">\n",
       "  <thead>\n",
       "    <tr style=\"text-align: right;\">\n",
       "      <th>연도</th>\n",
       "      <th>2019</th>\n",
       "      <th>2020</th>\n",
       "      <th>증감액</th>\n",
       "      <th>증감률</th>\n",
       "    </tr>\n",
       "    <tr>\n",
       "      <th>제품명</th>\n",
       "      <th></th>\n",
       "      <th></th>\n",
       "      <th></th>\n",
       "      <th></th>\n",
       "    </tr>\n",
       "  </thead>\n",
       "  <tbody>\n",
       "    <tr>\n",
       "      <th>M</th>\n",
       "      <td>28.0</td>\n",
       "      <td>52995.0</td>\n",
       "      <td>52967.0</td>\n",
       "      <td>0.998944</td>\n",
       "    </tr>\n",
       "    <tr>\n",
       "      <th>B2</th>\n",
       "      <td>1039.0</td>\n",
       "      <td>23212.6</td>\n",
       "      <td>22173.6</td>\n",
       "      <td>0.914315</td>\n",
       "    </tr>\n",
       "    <tr>\n",
       "      <th>F</th>\n",
       "      <td>6363.6</td>\n",
       "      <td>16589.8</td>\n",
       "      <td>10226.2</td>\n",
       "      <td>0.445520</td>\n",
       "    </tr>\n",
       "    <tr>\n",
       "      <th>H</th>\n",
       "      <td>52483.6</td>\n",
       "      <td>121474.0</td>\n",
       "      <td>68990.4</td>\n",
       "      <td>0.396593</td>\n",
       "    </tr>\n",
       "    <tr>\n",
       "      <th>A2</th>\n",
       "      <td>36546.0</td>\n",
       "      <td>68027.4</td>\n",
       "      <td>31481.4</td>\n",
       "      <td>0.301046</td>\n",
       "    </tr>\n",
       "  </tbody>\n",
       "</table>\n",
       "</div>"
      ],
      "text/plain": [
       "연도      2019      2020      증감액       증감률\n",
       "제품명                                      \n",
       "M       28.0   52995.0  52967.0  0.998944\n",
       "B2    1039.0   23212.6  22173.6  0.914315\n",
       "F     6363.6   16589.8  10226.2  0.445520\n",
       "H    52483.6  121474.0  68990.4  0.396593\n",
       "A2   36546.0   68027.4  31481.4  0.301046"
      ]
     },
     "execution_count": 176,
     "metadata": {},
     "output_type": "execute_result"
    }
   ],
   "source": [
    "cols = ['구분','카테고리명', '자재그룹','자재그룹명',\n",
    "        '제품명','단위', '판매', '안전재고', ' 분류']\n",
    "df2 = df.melt(id_vars=cols).rename(columns={\"variable\": \"일자\", \"value\":\"매출액\"})\n",
    "df2[\"연도\"] = df2[\"일자\"].dt.year\n",
    "df2[\"월\"] = df2[\"일자\"].dt.month\n",
    "\n",
    "#sns.barplot(data=df2, x=\"월\", y=\"매출액\", hue=\"연도\", errorbar=None) # 19년도 12월 데이터만 있다. \n",
    "\n",
    "# 12월만 filtering\n",
    "cond1 = (df2[\"월\"] == 12)\n",
    "df3 = df2.loc[cond1]\n",
    "\n",
    "# 제품에 따른 연도별 12월 매출액 sum\n",
    "df4 = df3.pivot_table(index=\"제품명\", columns=\"연도\", values=\"매출액\", aggfunc=\"sum\")\n",
    "\n",
    "# 증감액 & 증감률 산출\n",
    "df4[\"증감액\"] = df4[2020] - df4[2019]\n",
    "df4[\"증감률\"] = df4[\"증감액\"] / (df4[2020] + df4[2019])\n",
    "\n",
    "\n",
    "# 작년 and 올해 모두 판매한 제품의 매출액 증감률\n",
    "## 증감률 1: 전년도 매출액이 없는 제품의 매출액 증감률\n",
    "## 증감률 -1.0: 작년까지만 판매하고 올해는 판매하지 않은 제품의 매출액 증감률\n",
    "## 따라서 증감률이 1.00 미만인 제품만 본다. (작년 and 올해 판매한 제품의 증감률만 의미 있음)\n",
    "cond1 = (df4[\"증감률\"] > -1.0) & (df4[\"증감률\"] < 1.0)\n",
    "df5 = df4.loc[cond1]\n",
    "\n",
    "\n",
    "# M, B 제품은 전년도 대비 증감률이 90% 이상\n",
    "df5.sort_values(by=\"증감률\", ascending=False).head()"
   ]
  },
  {
   "cell_type": "code",
   "execution_count": null,
   "id": "549e949a",
   "metadata": {},
   "outputs": [],
   "source": []
  }
 ],
 "metadata": {
  "kernelspec": {
   "display_name": "Python 3 (ipykernel)",
   "language": "python",
   "name": "python3"
  },
  "language_info": {
   "codemirror_mode": {
    "name": "ipython",
    "version": 3
   },
   "file_extension": ".py",
   "mimetype": "text/x-python",
   "name": "python",
   "nbconvert_exporter": "python",
   "pygments_lexer": "ipython3",
   "version": "3.10.9"
  }
 },
 "nbformat": 4,
 "nbformat_minor": 5
}
