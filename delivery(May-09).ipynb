{
 "cells": [
  {
   "cell_type": "code",
   "execution_count": 32,
   "id": "644ecb85",
   "metadata": {},
   "outputs": [],
   "source": [
    "import pandas as pd\n",
    "import matplotlib as mpl\n",
    "mpl.rc(\"font\", family=\"Malgun Gothic\")\n",
    "import seaborn as sns"
   ]
  },
  {
   "cell_type": "code",
   "execution_count": 13,
   "id": "56c23a35",
   "metadata": {},
   "outputs": [],
   "source": [
    "df1 = pd.read_csv(\"03_Delivery.csv\", encoding=\"cp949\")"
   ]
  },
  {
   "cell_type": "code",
   "execution_count": 14,
   "id": "2446a844",
   "metadata": {},
   "outputs": [
    {
     "data": {
      "text/html": [
       "<div>\n",
       "<style scoped>\n",
       "    .dataframe tbody tr th:only-of-type {\n",
       "        vertical-align: middle;\n",
       "    }\n",
       "\n",
       "    .dataframe tbody tr th {\n",
       "        vertical-align: top;\n",
       "    }\n",
       "\n",
       "    .dataframe thead th {\n",
       "        text-align: right;\n",
       "    }\n",
       "</style>\n",
       "<table border=\"1\" class=\"dataframe\">\n",
       "  <thead>\n",
       "    <tr style=\"text-align: right;\">\n",
       "      <th></th>\n",
       "      <th>결제수단</th>\n",
       "      <th>배송번호</th>\n",
       "      <th>배송시작일</th>\n",
       "      <th>배송완료일</th>\n",
       "      <th>상품구매금액</th>\n",
       "      <th>상품번호</th>\n",
       "      <th>수량</th>\n",
       "      <th>주문경로</th>\n",
       "      <th>주문일</th>\n",
       "    </tr>\n",
       "  </thead>\n",
       "  <tbody>\n",
       "    <tr>\n",
       "      <th>0</th>\n",
       "      <td>무통장입금</td>\n",
       "      <td>D-20181227-0000648-00</td>\n",
       "      <td>2019-01-07 오전 8:56</td>\n",
       "      <td>2019-01-11 오전 5:32</td>\n",
       "      <td>71450</td>\n",
       "      <td>1077.0</td>\n",
       "      <td>1</td>\n",
       "      <td>PC쇼핑몰</td>\n",
       "      <td>20181227</td>\n",
       "    </tr>\n",
       "  </tbody>\n",
       "</table>\n",
       "</div>"
      ],
      "text/plain": [
       "    결제수단                   배송번호               배송시작일               배송완료일  \\\n",
       "0  무통장입금  D-20181227-0000648-00  2019-01-07 오전 8:56  2019-01-11 오전 5:32   \n",
       "\n",
       "   상품구매금액    상품번호  수량   주문경로       주문일  \n",
       "0   71450  1077.0   1  PC쇼핑몰  20181227  "
      ]
     },
     "execution_count": 14,
     "metadata": {},
     "output_type": "execute_result"
    }
   ],
   "source": [
    "df1.head(1)"
   ]
  },
  {
   "cell_type": "markdown",
   "id": "9d7dcda9",
   "metadata": {},
   "source": [
    "지난 시간에는 주문일만 분석했다.\n",
    "이번 시간에는 배송시작일과 배송완료일을 비교해서 분석해보자.\n",
    "- 시작일과 완료일 처리해서 배송 기간을 계산해보자"
   ]
  },
  {
   "cell_type": "code",
   "execution_count": 15,
   "id": "1df25eec",
   "metadata": {},
   "outputs": [],
   "source": [
    "df1[\"주문일(datetime)\"] = pd.to_datetime(df1[\"주문일\"], format=\"%Y%m%d\")"
   ]
  },
  {
   "cell_type": "code",
   "execution_count": 18,
   "id": "2ce903e2",
   "metadata": {},
   "outputs": [],
   "source": [
    "# 주중, 주말 판매 추이 비교\n",
    "df1[\"주문요일\"] = df1[\"주문일(datetime)\"].dt.day_name()"
   ]
  },
  {
   "cell_type": "code",
   "execution_count": 19,
   "id": "71d210cc",
   "metadata": {},
   "outputs": [
    {
     "data": {
      "text/plain": [
       "Monday       9903\n",
       "Wednesday    8737\n",
       "Thursday     8697\n",
       "Tuesday      8404\n",
       "Friday       6665\n",
       "Sunday       2429\n",
       "Saturday     1914\n",
       "Name: 주문요일, dtype: int64"
      ]
     },
     "execution_count": 19,
     "metadata": {},
     "output_type": "execute_result"
    }
   ],
   "source": [
    "# 주문요일 col에는 주중, 주말 data가 섞여 있다.\n",
    "df1[\"주문요일\"].value_counts()"
   ]
  },
  {
   "cell_type": "code",
   "execution_count": 21,
   "id": "6ffc6f14",
   "metadata": {},
   "outputs": [],
   "source": [
    "# 주중, 주말 나눠서 매출액 비교해보자, 편차가 큰지 확인해보자.\n",
    "# replace() : 원래 데이터에 있던 특정 숫자, 문자를 다른 값으로 변환해줄 수 있다.\n",
    "# key : 지금 있는 데이터 val\n",
    "# value: 바꿀 데이터 val\n",
    "df1[\"주중/주말\"] = df1[\"주문요일\"].replace({\"Monday\":\"주중\", \"Tuesday\": \"주중\", \n",
    "                                            \"Wednesday\": \"주중\", \"Thursday\": \"주중\", \n",
    "                                            \"Friday\": \"주중\", \"Saturday\": \"주말\",\n",
    "                                            \"Sunday\":\"주말\"})"
   ]
  },
  {
   "cell_type": "code",
   "execution_count": 24,
   "id": "2c1d1fd8",
   "metadata": {},
   "outputs": [
    {
     "data": {
      "text/plain": [
       "주중    42406\n",
       "주말     4343\n",
       "Name: 주중/주말, dtype: int64"
      ]
     },
     "execution_count": 24,
     "metadata": {},
     "output_type": "execute_result"
    }
   ],
   "source": [
    "# 주중, 주말 빈도수 확인해보자\n",
    "df1[\"주중/주말\"].value_counts()\n",
    "# 주중 데이터가 주말 데이터의 10배 가까이 많다.\n",
    "# 주말보다는 주중에 납품을 더 많이 해야하는구나."
   ]
  },
  {
   "cell_type": "code",
   "execution_count": null,
   "id": "5355f3af",
   "metadata": {},
   "outputs": [],
   "source": [
    "# 주중 매출액 총압, 주말 매출액 비교\n",
    "# 주중 판매량, 주말 판매량 차이가 큼을 바로 위에서 확인했다.\n",
    "# 그래서 당연히 주중 매출액(상품구매금액의 총합)이 훨씬 더 클 것이다.\n",
    "# 그럼에도 확인해볼 필요가 있다.\n",
    "# 왜냐하면 위 value count는 판매개수나 판매금액이 아니기 때문이다."
   ]
  },
  {
   "cell_type": "code",
   "execution_count": 25,
   "id": "3115fbb9",
   "metadata": {},
   "outputs": [
    {
     "data": {
      "text/html": [
       "<div>\n",
       "<style scoped>\n",
       "    .dataframe tbody tr th:only-of-type {\n",
       "        vertical-align: middle;\n",
       "    }\n",
       "\n",
       "    .dataframe tbody tr th {\n",
       "        vertical-align: top;\n",
       "    }\n",
       "\n",
       "    .dataframe thead th {\n",
       "        text-align: right;\n",
       "    }\n",
       "</style>\n",
       "<table border=\"1\" class=\"dataframe\">\n",
       "  <thead>\n",
       "    <tr style=\"text-align: right;\">\n",
       "      <th></th>\n",
       "      <th>수량</th>\n",
       "    </tr>\n",
       "    <tr>\n",
       "      <th>주중/주말</th>\n",
       "      <th></th>\n",
       "    </tr>\n",
       "  </thead>\n",
       "  <tbody>\n",
       "    <tr>\n",
       "      <th>주말</th>\n",
       "      <td>5149</td>\n",
       "    </tr>\n",
       "    <tr>\n",
       "      <th>주중</th>\n",
       "      <td>49878</td>\n",
       "    </tr>\n",
       "  </tbody>\n",
       "</table>\n",
       "</div>"
      ],
      "text/plain": [
       "          수량\n",
       "주중/주말       \n",
       "주말      5149\n",
       "주중     49878"
      ]
     },
     "execution_count": 25,
     "metadata": {},
     "output_type": "execute_result"
    }
   ],
   "source": [
    "## 주중, 주말 수량의 합 확인해보기\n",
    "# 주중과 주말에 상품의 수량 : 주말에 몇개를 샀는가? 주중에 몇개를 샀는가?\n",
    "# 그냥 데이터의 개수 (value count)와 다르다. \n",
    "# 1번 주문할 때 2개 이상 주문하는 고객들도 있기 떄문이다.\n",
    "# 그래서 수량의 합이 더 큰 수가 나오는 것이 당연하다.\n",
    "# pivot_table 사용해서 특정 col에 따른 수량 sum이나 상품구매금액 sum을 계산할 수 있다.\n",
    "# aggfunc : 통계량을 계산하는 함수 설정\n",
    "df1.pivot_table(index=\"주중/주말\", values=\"수량\", aggfunc=\"sum\")"
   ]
  },
  {
   "cell_type": "code",
   "execution_count": 26,
   "id": "5bedf4be",
   "metadata": {},
   "outputs": [
    {
     "data": {
      "text/html": [
       "<div>\n",
       "<style scoped>\n",
       "    .dataframe tbody tr th:only-of-type {\n",
       "        vertical-align: middle;\n",
       "    }\n",
       "\n",
       "    .dataframe tbody tr th {\n",
       "        vertical-align: top;\n",
       "    }\n",
       "\n",
       "    .dataframe thead th {\n",
       "        text-align: right;\n",
       "    }\n",
       "</style>\n",
       "<table border=\"1\" class=\"dataframe\">\n",
       "  <thead>\n",
       "    <tr style=\"text-align: right;\">\n",
       "      <th></th>\n",
       "      <th>상품구매금액</th>\n",
       "    </tr>\n",
       "    <tr>\n",
       "      <th>주중/주말</th>\n",
       "      <th></th>\n",
       "    </tr>\n",
       "  </thead>\n",
       "  <tbody>\n",
       "    <tr>\n",
       "      <th>주말</th>\n",
       "      <td>306863800</td>\n",
       "    </tr>\n",
       "    <tr>\n",
       "      <th>주중</th>\n",
       "      <td>2936027585</td>\n",
       "    </tr>\n",
       "  </tbody>\n",
       "</table>\n",
       "</div>"
      ],
      "text/plain": [
       "           상품구매금액\n",
       "주중/주말            \n",
       "주말      306863800\n",
       "주중     2936027585"
      ]
     },
     "execution_count": 26,
     "metadata": {},
     "output_type": "execute_result"
    }
   ],
   "source": [
    "## 판매금액의 합\n",
    "# 이번에는 무엇이 계산되는 것인가?\n",
    "# 주중과 주말의 상품구매금액 총액(매출액)\n",
    "# 압도적으로 주중 매출액이 더 크다.\n",
    "df1.pivot_table(index=\"주중/주말\", values=\"상품구매금액\", aggfunc=\"sum\")"
   ]
  },
  {
   "cell_type": "code",
   "execution_count": null,
   "id": "9d1ddfee",
   "metadata": {},
   "outputs": [],
   "source": [
    "# 평균 사용하면 주중에 비싼 물건사는지, 주말에 비싼 물건 사는지 확인해볼 수 있다.\n"
   ]
  },
  {
   "cell_type": "code",
   "execution_count": 27,
   "id": "75e9b8d7",
   "metadata": {},
   "outputs": [],
   "source": [
    "# 1주일 중에 주중은 5일\n",
    "# 주말은 2일 밖에 없다."
   ]
  },
  {
   "cell_type": "code",
   "execution_count": 28,
   "id": "10db2b01",
   "metadata": {},
   "outputs": [
    {
     "data": {
      "text/html": [
       "<div>\n",
       "<style scoped>\n",
       "    .dataframe tbody tr th:only-of-type {\n",
       "        vertical-align: middle;\n",
       "    }\n",
       "\n",
       "    .dataframe tbody tr th {\n",
       "        vertical-align: top;\n",
       "    }\n",
       "\n",
       "    .dataframe thead th {\n",
       "        text-align: right;\n",
       "    }\n",
       "</style>\n",
       "<table border=\"1\" class=\"dataframe\">\n",
       "  <thead>\n",
       "    <tr style=\"text-align: right;\">\n",
       "      <th></th>\n",
       "      <th>상품구매금액</th>\n",
       "    </tr>\n",
       "    <tr>\n",
       "      <th>주중/주말</th>\n",
       "      <th></th>\n",
       "    </tr>\n",
       "  </thead>\n",
       "  <tbody>\n",
       "    <tr>\n",
       "      <th>주말</th>\n",
       "      <td>70657.103385</td>\n",
       "    </tr>\n",
       "    <tr>\n",
       "      <th>주중</th>\n",
       "      <td>69236.136042</td>\n",
       "    </tr>\n",
       "  </tbody>\n",
       "</table>\n",
       "</div>"
      ],
      "text/plain": [
       "             상품구매금액\n",
       "주중/주말              \n",
       "주말     70657.103385\n",
       "주중     69236.136042"
      ]
     },
     "execution_count": 28,
     "metadata": {},
     "output_type": "execute_result"
    }
   ],
   "source": [
    "## 평균적으로 얼마를 구매했는가?를 계산해보자.\n",
    "# 구매 1건 당 평균 금액이 주말 > 주중임을 확인할 수 있다. (조금 더 높다. 1400원 차이)\n",
    "# 주문당 또는 구매당 구매하는 금액은 주중/주말 비슷하다.\n",
    "# 여러분이 이런 것들을 주의깊게 보면서 분석해야 한다.\n",
    "df1.pivot_table(index=\"주중/주말\", values=\"상품구매금액\", aggfunc=\"mean\")"
   ]
  },
  {
   "cell_type": "code",
   "execution_count": 29,
   "id": "6b1d5b34",
   "metadata": {},
   "outputs": [],
   "source": [
    "# 이정도 파악할 수 있다.\n",
    "# 고객들이 주말보다는 주중에 더 많이 우리 매장에서 물품을 사간다.\n",
    "# 주중/ 주말 상관없이 한번 사갈 때는 비슷한 금액을 사간다."
   ]
  },
  {
   "cell_type": "code",
   "execution_count": 34,
   "id": "56276741",
   "metadata": {},
   "outputs": [
    {
     "data": {
      "text/plain": [
       "<Axes: xlabel='주중/주말', ylabel='상품구매금액'>"
      ]
     },
     "execution_count": 34,
     "metadata": {},
     "output_type": "execute_result"
    },
    {
     "data": {
      "image/png": "[encoded data removed]",
      "text/plain": [
       "<Figure size 640x480 with 1 Axes>"
      ]
     },
     "metadata": {},
     "output_type": "display_data"
    }
   ],
   "source": [
    "## 시각화\n",
    "# 주중 상품 구매량이 더 많다.\n",
    "sns.barplot(data=df1, x=\"주중/주말\", y=\"상품구매금액\", estimator=sum, errorbar=None)"
   ]
  },
  {
   "cell_type": "code",
   "execution_count": 35,
   "id": "32fb5500",
   "metadata": {},
   "outputs": [
    {
     "data": {
      "text/plain": [
       "<Axes: xlabel='주중/주말', ylabel='상품구매금액'>"
      ]
     },
     "execution_count": 35,
     "metadata": {},
     "output_type": "execute_result"
    },
    {
     "data": {
      "image/png": "[encoded data removed]",
      "text/plain": [
       "<Figure size 640x480 with 1 Axes>"
      ]
     },
     "metadata": {},
     "output_type": "display_data"
    }
   ],
   "source": [
    "# 이거를 주문 경로에 대해서 나눠보자.\n",
    "# hue=\"주문경로\"를 추가해라.\n",
    "# 주중/ 주말별 주문경로별 판매추이가 나타난다.\n",
    "sns.barplot(data=df1, x=\"주중/주말\", y=\"상품구매금액\", estimator=sum, errorbar=None, hue=\"주문경로\")\n",
    "# 주중에는 pc 쇼핑몰로 구매하는 고객들이 가장 많다.\n",
    "# 주말에는 모바일 웹으로 구매 하는 고객들이 가장 많다.\n",
    "# 여기서 인사이트를 발견할 수 있다:\n",
    "#  주중/주말에 따라서 고객들이 주문하는 경로가 차이가 있다.\n",
    "#  주말에는 모바일웹으로 주문하는 고객이 가장 많고, 거기서 매출액 더 높게 잡히는구나.\n",
    "# 이런거를 파악할 수 있다."
   ]
  },
  {
   "cell_type": "code",
   "execution_count": null,
   "id": "f84a3035",
   "metadata": {},
   "outputs": [],
   "source": [
    "# 배송시작일, 배송완료일을 이용해서 배송기간을 계산해보자."
   ]
  }
 ],
 "metadata": {
  "kernelspec": {
   "display_name": "Python 3 (ipykernel)",
   "language": "python",
   "name": "python3"
  },
  "language_info": {
   "codemirror_mode": {
    "name": "ipython",
    "version": 3
   },
   "file_extension": ".py",
   "mimetype": "text/x-python",
   "name": "python",
   "nbconvert_exporter": "python",
   "pygments_lexer": "ipython3",
   "version": "3.10.9"
  }
 },
 "nbformat": 4,
 "nbformat_minor": 5
}
