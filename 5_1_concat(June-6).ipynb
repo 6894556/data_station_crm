{
 "cells": [
  {
   "cell_type": "code",
   "execution_count": 1,
   "id": "1050c987",
   "metadata": {},
   "outputs": [],
   "source": [
    "import pandas as pd"
   ]
  },
  {
   "cell_type": "code",
   "execution_count": 7,
   "id": "646780bc",
   "metadata": {},
   "outputs": [
    {
     "data": {
      "text/plain": [
       "True"
      ]
     },
     "execution_count": 7,
     "metadata": {},
     "output_type": "execute_result"
    }
   ],
   "source": [
    "# 1과 2는 columns가 같다. (원소 & 순서 동일)\n",
    "df1 = pd.read_csv(\"dataset/2016_health_checkup_1.csv\")\n",
    "df2 = pd.read_csv(\"dataset/2016_health_checkup_2.csv\")\n",
    "df1.columns.equals(df2.columns)"
   ]
  },
  {
   "cell_type": "code",
   "execution_count": 10,
   "id": "d7e4dc84",
   "metadata": {},
   "outputs": [
    {
     "name": "stdout",
     "output_type": "stream",
     "text": [
      "(250000, 31)\n",
      "(250000, 31)\n",
      "(500000, 31)\n"
     ]
    }
   ],
   "source": [
    "# 2개 병합\n",
    "print(df1.shape)\n",
    "print(df2.shape)\n",
    "print(pd.concat([df1, df2]).shape)"
   ]
  },
  {
   "cell_type": "code",
   "execution_count": 11,
   "id": "8826234a",
   "metadata": {},
   "outputs": [
    {
     "data": {
      "text/plain": [
       "True"
      ]
     },
     "execution_count": 11,
     "metadata": {},
     "output_type": "execute_result"
    }
   ],
   "source": [
    "# 1과 2와 3은 columns가 같다. \n",
    "df3 = pd.read_csv(\"dataset/2016_health_checkup_3.csv\")\n",
    "df1.columns.equals(df3.columns)"
   ]
  },
  {
   "cell_type": "code",
   "execution_count": 12,
   "id": "3486b908",
   "metadata": {},
   "outputs": [
    {
     "name": "stdout",
     "output_type": "stream",
     "text": [
      "(250000, 31)\n",
      "(250000, 31)\n",
      "(250000, 31)\n",
      "(750000, 31)\n"
     ]
    }
   ],
   "source": [
    "# 3개 병합\n",
    "print(df1.shape)\n",
    "print(df2.shape)\n",
    "print(df3.shape)\n",
    "print(pd.concat([df1, df2, df3]).shape)"
   ]
  },
  {
   "cell_type": "code",
   "execution_count": 17,
   "id": "a857943e",
   "metadata": {},
   "outputs": [
    {
     "name": "stdout",
     "output_type": "stream",
     "text": [
      "dataset/2016_health_checkup_1.csv\n",
      "dataset/2016_health_checkup_2.csv\n",
      "dataset/2016_health_checkup_3.csv\n",
      "dataset/2016_health_checkup_4.csv\n"
     ]
    }
   ],
   "source": [
    "# 파일명이 비슷하다: \n",
    "for i in [str(i) for i in range(1, 5)]:\n",
    "    print(\"dataset/2016_health_checkup_\" + i +\".csv\")"
   ]
  },
  {
   "cell_type": "code",
   "execution_count": 22,
   "id": "307a7993",
   "metadata": {},
   "outputs": [
    {
     "name": "stdout",
     "output_type": "stream",
     "text": [
      "1: (250000, 31)\n",
      "2: (250000, 31)\n",
      "3: (250000, 31)\n",
      "4: (250000, 31)\n",
      "(1000000, 31)\n"
     ]
    }
   ],
   "source": [
    "# 파일명이 비슷하다. 따라서 다음과 같이 df 여러 개를 병합할 수 있다:\n",
    "df_raw = pd.DataFrame()\n",
    "for i in [str(i) for i in range(1, 5)]:\n",
    "    df_ = pd.read_csv(\"dataset/2016_health_checkup_\" + i +\".csv\")\n",
    "    print(f'{i}: {df_.shape}')\n",
    "    df_raw = pd.concat([df_raw, df_])\n",
    "    \n",
    "print(df_raw.shape)"
   ]
  },
  {
   "cell_type": "code",
   "execution_count": null,
   "id": "6470702b",
   "metadata": {},
   "outputs": [],
   "source": []
  },
  {
   "cell_type": "code",
   "execution_count": null,
   "id": "30625f3e",
   "metadata": {},
   "outputs": [],
   "source": []
  },
  {
   "cell_type": "code",
   "execution_count": null,
   "id": "89b8f75f",
   "metadata": {},
   "outputs": [],
   "source": []
  },
  {
   "cell_type": "code",
   "execution_count": null,
   "id": "20969dcb",
   "metadata": {},
   "outputs": [],
   "source": []
  },
  {
   "cell_type": "code",
   "execution_count": null,
   "id": "45bffcf9",
   "metadata": {},
   "outputs": [],
   "source": []
  }
 ],
 "metadata": {
  "kernelspec": {
   "display_name": "Python 3 (ipykernel)",
   "language": "python",
   "name": "python3"
  },
  "language_info": {
   "codemirror_mode": {
    "name": "ipython",
    "version": 3
   },
   "file_extension": ".py",
   "mimetype": "text/x-python",
   "name": "python",
   "nbconvert_exporter": "python",
   "pygments_lexer": "ipython3",
   "version": "3.10.9"
  }
 },
 "nbformat": 4,
 "nbformat_minor": 5
}
